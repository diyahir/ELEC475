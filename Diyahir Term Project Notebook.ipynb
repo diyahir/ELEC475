{
 "cells": [
  {
   "cell_type": "code",
   "execution_count": 1,
   "metadata": {},
   "outputs": [
    {
     "name": "stderr",
     "output_type": "stream",
     "text": [
      "Using TensorFlow backend.\n"
     ]
    }
   ],
   "source": [
    "# feature extractoring and preprocessing data\n",
    "import librosa\n",
    "import pandas as pd\n",
    "import numpy as np\n",
    "import matplotlib.pyplot as plt\n",
    "%matplotlib inline\n",
    "import os\n",
    "from PIL import Image\n",
    "import pathlib\n",
    "import csv\n",
    "\n",
    "# Preprocessing\n",
    "from sklearn.model_selection import train_test_split\n",
    "from sklearn.preprocessing import LabelEncoder, StandardScaler\n",
    "\n",
    "#Keras\n",
    "import keras\n",
    "\n",
    "import warnings\n",
    "warnings.filterwarnings('ignore')"
   ]
  },
  {
   "cell_type": "code",
   "execution_count": 2,
   "metadata": {},
   "outputs": [],
   "source": [
    "PATH = 'C:/Users/Diyahir/Documents/ELEC 475/Term Project'\n",
    "PATH = '/home/ayush/Documents/'"
   ]
  },
  {
   "cell_type": "markdown",
   "metadata": {},
   "source": [
    "## Extracting Histogram"
   ]
  },
  {
   "cell_type": "code",
   "execution_count": 3,
   "metadata": {
    "scrolled": true
   },
   "outputs": [
    {
     "name": "stdout",
     "output_type": "stream",
     "text": [
      "blues\n",
      "classical\n",
      "country\n",
      "disco\n",
      "hiphop\n",
      "jazz\n",
      "metal\n",
      "pop\n",
      "reggae\n",
      "rock\n"
     ]
    },
    {
     "data": {
      "text/plain": [
       "<Figure size 720x720 with 0 Axes>"
      ]
     },
     "metadata": {},
     "output_type": "display_data"
    }
   ],
   "source": [
    "cmap = plt.get_cmap('inferno')\n",
    "\n",
    "plt.figure(figsize=(10,10))\n",
    "genres = 'blues classical country disco hiphop jazz metal pop reggae rock'.split()\n",
    "for g in genres:\n",
    "    pathlib.Path(f'img_data/'+g).mkdir(parents=True, exist_ok=True)   \n",
    "    print(g)\n",
    "\n",
    "    for filename in os.listdir(PATH +'/genres/'+g):\n",
    "        songname = PATH + '/genres/'+g +'/'+ filename\n",
    "        y, sr = librosa.load(songname, mono=True, duration=5)\n",
    "        plt.specgram(y, NFFT=2048, Fs=2, Fc=0, noverlap=128, cmap=cmap, sides='default', mode='default', scale='dB');\n",
    "        plt.axis('off');\n",
    "        plt.savefig(f'img_data/'+g+'/'+ filename[:-3].replace(\".\", \"\"))\n",
    "        plt.clf()\n",
    "        \n"
   ]
  },
  {
   "cell_type": "code",
   "execution_count": 4,
   "metadata": {},
   "outputs": [],
   "source": [
    "header = 'filename chroma_stft rmse spectral_centroid spectral_bandwidth rolloff zero_crossing_rate'\n",
    "for i in range(1, 21):\n",
    "    header += f' mfcc{i}'\n",
    "header += ' label'\n",
    "header = header.split()"
   ]
  },
  {
   "cell_type": "code",
   "execution_count": 5,
   "metadata": {},
   "outputs": [
    {
     "name": "stdout",
     "output_type": "stream",
     "text": [
      "blues\n",
      "classical\n",
      "country\n",
      "disco\n",
      "hiphop\n",
      "jazz\n",
      "metal\n",
      "pop\n",
      "reggae\n",
      "rock\n"
     ]
    }
   ],
   "source": [
    "file = open('data.csv', 'w', newline='')\n",
    "with file:\n",
    "    writer = csv.writer(file)\n",
    "    writer.writerow(header)\n",
    "genres = 'blues classical country disco hiphop jazz metal pop reggae rock'.split()\n",
    "for g in genres:\n",
    "    print(g)\n",
    "    for filename in os.listdir(PATH +'/genres/'+g):\n",
    "        songname = PATH + '/genres/'+g +'/'+ filename\n",
    "        y, sr = librosa.load(songname, mono=True, duration=30)\n",
    "        rmse = librosa.feature.rmse(y=y)\n",
    "        chroma_stft = librosa.feature.chroma_stft(y=y, sr=sr)\n",
    "        spec_cent = librosa.feature.spectral_centroid(y=y, sr=sr)\n",
    "        spec_bw = librosa.feature.spectral_bandwidth(y=y, sr=sr)\n",
    "        rolloff = librosa.feature.spectral_rolloff(y=y, sr=sr)\n",
    "        zcr = librosa.feature.zero_crossing_rate(y)\n",
    "        mfcc = librosa.feature.mfcc(y=y, sr=sr)\n",
    "        to_append = f'{filename} {np.mean(chroma_stft)} {np.mean(rmse)} {np.mean(spec_cent)} {np.mean(spec_bw)} {np.mean(rolloff)} {np.mean(zcr)}'    \n",
    "        for e in mfcc:\n",
    "            to_append += f' {np.mean(e)}'\n",
    "        to_append += f' {g}'\n",
    "        file = open('data.csv', 'a', newline='')\n",
    "        with file:\n",
    "            writer = csv.writer(file)\n",
    "            writer.writerow(to_append.split())"
   ]
  },
  {
   "cell_type": "code",
   "execution_count": 6,
   "metadata": {},
   "outputs": [
    {
     "data": {
      "text/html": [
       "<div>\n",
       "<style scoped>\n",
       "    .dataframe tbody tr th:only-of-type {\n",
       "        vertical-align: middle;\n",
       "    }\n",
       "\n",
       "    .dataframe tbody tr th {\n",
       "        vertical-align: top;\n",
       "    }\n",
       "\n",
       "    .dataframe thead th {\n",
       "        text-align: right;\n",
       "    }\n",
       "</style>\n",
       "<table border=\"1\" class=\"dataframe\">\n",
       "  <thead>\n",
       "    <tr style=\"text-align: right;\">\n",
       "      <th></th>\n",
       "      <th>filename</th>\n",
       "      <th>chroma_stft</th>\n",
       "      <th>rmse</th>\n",
       "      <th>spectral_centroid</th>\n",
       "      <th>spectral_bandwidth</th>\n",
       "      <th>rolloff</th>\n",
       "      <th>zero_crossing_rate</th>\n",
       "      <th>mfcc1</th>\n",
       "      <th>mfcc2</th>\n",
       "      <th>mfcc3</th>\n",
       "      <th>...</th>\n",
       "      <th>mfcc12</th>\n",
       "      <th>mfcc13</th>\n",
       "      <th>mfcc14</th>\n",
       "      <th>mfcc15</th>\n",
       "      <th>mfcc16</th>\n",
       "      <th>mfcc17</th>\n",
       "      <th>mfcc18</th>\n",
       "      <th>mfcc19</th>\n",
       "      <th>mfcc20</th>\n",
       "      <th>label</th>\n",
       "    </tr>\n",
       "  </thead>\n",
       "  <tbody>\n",
       "    <tr>\n",
       "      <th>0</th>\n",
       "      <td>blues.00066.au</td>\n",
       "      <td>0.374710</td>\n",
       "      <td>0.110496</td>\n",
       "      <td>2340.432873</td>\n",
       "      <td>2256.538115</td>\n",
       "      <td>4972.503265</td>\n",
       "      <td>0.121775</td>\n",
       "      <td>-116.517402</td>\n",
       "      <td>97.430279</td>\n",
       "      <td>-13.880191</td>\n",
       "      <td>...</td>\n",
       "      <td>10.998190</td>\n",
       "      <td>-13.861801</td>\n",
       "      <td>9.735367</td>\n",
       "      <td>-5.089488</td>\n",
       "      <td>2.634638</td>\n",
       "      <td>-9.883816</td>\n",
       "      <td>6.159059</td>\n",
       "      <td>-7.682608</td>\n",
       "      <td>-4.852479</td>\n",
       "      <td>blues</td>\n",
       "    </tr>\n",
       "    <tr>\n",
       "      <th>1</th>\n",
       "      <td>blues.00037.au</td>\n",
       "      <td>0.248627</td>\n",
       "      <td>0.069145</td>\n",
       "      <td>1188.168337</td>\n",
       "      <td>1682.860150</td>\n",
       "      <td>2339.635853</td>\n",
       "      <td>0.048160</td>\n",
       "      <td>-328.673793</td>\n",
       "      <td>102.696873</td>\n",
       "      <td>19.876064</td>\n",
       "      <td>...</td>\n",
       "      <td>-8.897177</td>\n",
       "      <td>-9.238519</td>\n",
       "      <td>-9.109326</td>\n",
       "      <td>-9.003836</td>\n",
       "      <td>-7.640767</td>\n",
       "      <td>-7.190916</td>\n",
       "      <td>-9.368477</td>\n",
       "      <td>-4.470060</td>\n",
       "      <td>-3.688800</td>\n",
       "      <td>blues</td>\n",
       "    </tr>\n",
       "    <tr>\n",
       "      <th>2</th>\n",
       "      <td>blues.00013.au</td>\n",
       "      <td>0.264616</td>\n",
       "      <td>0.113221</td>\n",
       "      <td>1324.304356</td>\n",
       "      <td>1827.737535</td>\n",
       "      <td>2710.033613</td>\n",
       "      <td>0.051417</td>\n",
       "      <td>-209.789266</td>\n",
       "      <td>124.458449</td>\n",
       "      <td>10.310380</td>\n",
       "      <td>...</td>\n",
       "      <td>-2.205935</td>\n",
       "      <td>-3.038192</td>\n",
       "      <td>8.645516</td>\n",
       "      <td>-0.304230</td>\n",
       "      <td>-0.637744</td>\n",
       "      <td>-2.939885</td>\n",
       "      <td>-1.705923</td>\n",
       "      <td>-1.769590</td>\n",
       "      <td>-7.762958</td>\n",
       "      <td>blues</td>\n",
       "    </tr>\n",
       "    <tr>\n",
       "      <th>3</th>\n",
       "      <td>blues.00011.au</td>\n",
       "      <td>0.367137</td>\n",
       "      <td>0.065713</td>\n",
       "      <td>1353.260462</td>\n",
       "      <td>1757.230941</td>\n",
       "      <td>2882.224238</td>\n",
       "      <td>0.043959</td>\n",
       "      <td>-287.914965</td>\n",
       "      <td>123.980064</td>\n",
       "      <td>5.459754</td>\n",
       "      <td>...</td>\n",
       "      <td>-3.180866</td>\n",
       "      <td>-5.556420</td>\n",
       "      <td>-6.789627</td>\n",
       "      <td>-2.644640</td>\n",
       "      <td>-2.984927</td>\n",
       "      <td>-3.385201</td>\n",
       "      <td>-1.856390</td>\n",
       "      <td>1.836151</td>\n",
       "      <td>-4.897420</td>\n",
       "      <td>blues</td>\n",
       "    </tr>\n",
       "    <tr>\n",
       "      <th>4</th>\n",
       "      <td>blues.00029.au</td>\n",
       "      <td>0.280456</td>\n",
       "      <td>0.124715</td>\n",
       "      <td>1649.293771</td>\n",
       "      <td>2190.248306</td>\n",
       "      <td>3761.427255</td>\n",
       "      <td>0.052926</td>\n",
       "      <td>-233.724591</td>\n",
       "      <td>101.183595</td>\n",
       "      <td>17.650272</td>\n",
       "      <td>...</td>\n",
       "      <td>-6.046127</td>\n",
       "      <td>-5.065351</td>\n",
       "      <td>1.073173</td>\n",
       "      <td>-5.780492</td>\n",
       "      <td>-8.305596</td>\n",
       "      <td>-11.386346</td>\n",
       "      <td>-6.725316</td>\n",
       "      <td>-10.027707</td>\n",
       "      <td>-14.035269</td>\n",
       "      <td>blues</td>\n",
       "    </tr>\n",
       "  </tbody>\n",
       "</table>\n",
       "<p>5 rows × 28 columns</p>\n",
       "</div>"
      ],
      "text/plain": [
       "         filename  chroma_stft      rmse  spectral_centroid  \\\n",
       "0  blues.00066.au     0.374710  0.110496        2340.432873   \n",
       "1  blues.00037.au     0.248627  0.069145        1188.168337   \n",
       "2  blues.00013.au     0.264616  0.113221        1324.304356   \n",
       "3  blues.00011.au     0.367137  0.065713        1353.260462   \n",
       "4  blues.00029.au     0.280456  0.124715        1649.293771   \n",
       "\n",
       "   spectral_bandwidth      rolloff  zero_crossing_rate       mfcc1  \\\n",
       "0         2256.538115  4972.503265            0.121775 -116.517402   \n",
       "1         1682.860150  2339.635853            0.048160 -328.673793   \n",
       "2         1827.737535  2710.033613            0.051417 -209.789266   \n",
       "3         1757.230941  2882.224238            0.043959 -287.914965   \n",
       "4         2190.248306  3761.427255            0.052926 -233.724591   \n",
       "\n",
       "        mfcc2      mfcc3  ...       mfcc12     mfcc13    mfcc14    mfcc15  \\\n",
       "0   97.430279 -13.880191  ...    10.998190 -13.861801  9.735367 -5.089488   \n",
       "1  102.696873  19.876064  ...    -8.897177  -9.238519 -9.109326 -9.003836   \n",
       "2  124.458449  10.310380  ...    -2.205935  -3.038192  8.645516 -0.304230   \n",
       "3  123.980064   5.459754  ...    -3.180866  -5.556420 -6.789627 -2.644640   \n",
       "4  101.183595  17.650272  ...    -6.046127  -5.065351  1.073173 -5.780492   \n",
       "\n",
       "     mfcc16     mfcc17    mfcc18     mfcc19     mfcc20  label  \n",
       "0  2.634638  -9.883816  6.159059  -7.682608  -4.852479  blues  \n",
       "1 -7.640767  -7.190916 -9.368477  -4.470060  -3.688800  blues  \n",
       "2 -0.637744  -2.939885 -1.705923  -1.769590  -7.762958  blues  \n",
       "3 -2.984927  -3.385201 -1.856390   1.836151  -4.897420  blues  \n",
       "4 -8.305596 -11.386346 -6.725316 -10.027707 -14.035269  blues  \n",
       "\n",
       "[5 rows x 28 columns]"
      ]
     },
     "execution_count": 6,
     "metadata": {},
     "output_type": "execute_result"
    }
   ],
   "source": [
    "data = pd.read_csv('data.csv')\n",
    "data.head()"
   ]
  },
  {
   "cell_type": "code",
   "execution_count": 7,
   "metadata": {},
   "outputs": [],
   "source": [
    "# Drop unnecessary columns\n",
    "data = data.drop(['filename'],axis=1)"
   ]
  },
  {
   "cell_type": "code",
   "execution_count": 8,
   "metadata": {},
   "outputs": [],
   "source": [
    "genre_list = data.iloc[:, -1]\n",
    "encoder = LabelEncoder()\n",
    "y = encoder.fit_transform(genre_list)"
   ]
  },
  {
   "cell_type": "code",
   "execution_count": 9,
   "metadata": {},
   "outputs": [],
   "source": [
    "scaler = StandardScaler()\n",
    "X = scaler.fit_transform(np.array(data.iloc[:, :-1], dtype = float))"
   ]
  },
  {
   "cell_type": "code",
   "execution_count": 10,
   "metadata": {},
   "outputs": [],
   "source": [
    "from sklearn.decomposition import PCA\n",
    "\n",
    "pca = PCA(n_components=3)\n",
    "principalComponents = pca.fit_transform(X)\n",
    "principalDf = pd.DataFrame(data = principalComponents\n",
    "             , columns = ['principal component 1', 'principal component 2','principal component 3'])"
   ]
  },
  {
   "cell_type": "code",
   "execution_count": 11,
   "metadata": {},
   "outputs": [],
   "source": [
    "finalDf = pd.concat([principalDf, data[['label']]], axis = 1)\n"
   ]
  },
  {
   "cell_type": "code",
   "execution_count": 12,
   "metadata": {},
   "outputs": [
    {
     "data": {
      "text/html": [
       "<div>\n",
       "<style scoped>\n",
       "    .dataframe tbody tr th:only-of-type {\n",
       "        vertical-align: middle;\n",
       "    }\n",
       "\n",
       "    .dataframe tbody tr th {\n",
       "        vertical-align: top;\n",
       "    }\n",
       "\n",
       "    .dataframe thead th {\n",
       "        text-align: right;\n",
       "    }\n",
       "</style>\n",
       "<table border=\"1\" class=\"dataframe\">\n",
       "  <thead>\n",
       "    <tr style=\"text-align: right;\">\n",
       "      <th></th>\n",
       "      <th>principal component 1</th>\n",
       "      <th>principal component 2</th>\n",
       "      <th>principal component 3</th>\n",
       "      <th>label</th>\n",
       "    </tr>\n",
       "  </thead>\n",
       "  <tbody>\n",
       "    <tr>\n",
       "      <th>0</th>\n",
       "      <td>3.965105</td>\n",
       "      <td>-0.884182</td>\n",
       "      <td>0.806154</td>\n",
       "      <td>blues</td>\n",
       "    </tr>\n",
       "    <tr>\n",
       "      <th>1</th>\n",
       "      <td>-2.333820</td>\n",
       "      <td>-4.033519</td>\n",
       "      <td>2.775298</td>\n",
       "      <td>blues</td>\n",
       "    </tr>\n",
       "    <tr>\n",
       "      <th>2</th>\n",
       "      <td>-1.058976</td>\n",
       "      <td>-2.630670</td>\n",
       "      <td>-0.536459</td>\n",
       "      <td>blues</td>\n",
       "    </tr>\n",
       "    <tr>\n",
       "      <th>3</th>\n",
       "      <td>-2.427959</td>\n",
       "      <td>-2.481259</td>\n",
       "      <td>-0.119265</td>\n",
       "      <td>blues</td>\n",
       "    </tr>\n",
       "    <tr>\n",
       "      <th>4</th>\n",
       "      <td>-0.218579</td>\n",
       "      <td>-3.418400</td>\n",
       "      <td>4.217709</td>\n",
       "      <td>blues</td>\n",
       "    </tr>\n",
       "  </tbody>\n",
       "</table>\n",
       "</div>"
      ],
      "text/plain": [
       "   principal component 1  principal component 2  principal component 3  label\n",
       "0               3.965105              -0.884182               0.806154  blues\n",
       "1              -2.333820              -4.033519               2.775298  blues\n",
       "2              -1.058976              -2.630670              -0.536459  blues\n",
       "3              -2.427959              -2.481259              -0.119265  blues\n",
       "4              -0.218579              -3.418400               4.217709  blues"
      ]
     },
     "execution_count": 12,
     "metadata": {},
     "output_type": "execute_result"
    }
   ],
   "source": [
    "finalDf.head()"
   ]
  },
  {
   "cell_type": "code",
   "execution_count": 13,
   "metadata": {},
   "outputs": [
    {
     "data": {
      "image/png": "[encoded data removed]",
      "text/plain": [
       "<Figure size 576x576 with 1 Axes>"
      ]
     },
     "metadata": {
      "needs_background": "light"
     },
     "output_type": "display_data"
    }
   ],
   "source": [
    "fig = plt.figure(figsize = (8,8))\n",
    "ax = fig.add_subplot(1,1,1) \n",
    "ax.set_xlabel('Principal Component 1', fontsize = 15)\n",
    "ax.set_ylabel('Principal Component 2', fontsize = 15)\n",
    "ax.set_title('2 component PCA', fontsize = 20)\n",
    "targets = ['rock', 'blues'] #, 'country', 'disco', 'hiphop', 'jazz']\n",
    "colors = ['r', 'g']#,'b','y','c','m']\n",
    "for target, color in zip(targets,colors):\n",
    "    indicesToKeep = finalDf['label'] == target\n",
    "    ax.scatter(finalDf.loc[indicesToKeep, 'principal component 2']\n",
    "               , finalDf.loc[indicesToKeep, 'principal component 3']\n",
    "               , c = color\n",
    "               , s = 50)\n",
    "ax.legend(targets)\n",
    "ax.grid()"
   ]
  },
  {
   "cell_type": "code",
   "execution_count": 14,
   "metadata": {},
   "outputs": [],
   "source": [
    "vals = finalDf.values[:,0:2]"
   ]
  },
  {
   "cell_type": "code",
   "execution_count": 15,
   "metadata": {},
   "outputs": [
    {
     "data": {
      "text/plain": [
       "(1000, 2)"
      ]
     },
     "execution_count": 15,
     "metadata": {},
     "output_type": "execute_result"
    }
   ],
   "source": [
    "vals.shape"
   ]
  },
  {
   "cell_type": "code",
   "execution_count": 16,
   "metadata": {},
   "outputs": [
    {
     "data": {
      "text/plain": [
       "<function matplotlib.pyplot.show(*args, **kw)>"
      ]
     },
     "execution_count": 16,
     "metadata": {},
     "output_type": "execute_result"
    },
    {
     "data": {
      "image/png": "[encoded data removed]",
      "text/plain": [
       "<Figure size 432x288 with 1 Axes>"
      ]
     },
     "metadata": {
      "needs_background": "light"
     },
     "output_type": "display_data"
    }
   ],
   "source": [
    "centers = []\n",
    "for i in range(10):\n",
    "    current = vals[100*i:100*(i+1),:]\n",
    "    currmean = np.average(current, axis = 0)\n",
    "    centers.append(currmean)\n",
    "    \n",
    "centers = np.array(centers)\n",
    "plt.scatter(centers[:,0],centers[:,1])\n",
    "plt.show"
   ]
  },
  {
   "cell_type": "code",
   "execution_count": 17,
   "metadata": {},
   "outputs": [
    {
     "data": {
      "image/png": "[encoded data removed]",
      "text/plain": [
       "<Figure size 576x576 with 1 Axes>"
      ]
     },
     "metadata": {
      "needs_background": "light"
     },
     "output_type": "display_data"
    }
   ],
   "source": [
    "genres = 'blues classical country disco hiphop jazz metal pop reggae rock'.split()\n",
    "targets = genres\n",
    "fig = plt.figure(figsize = (8,8))\n",
    "ax = fig.add_subplot(1,1,1) \n",
    "ax.set_xlabel('Principal Component 1', fontsize = 15)\n",
    "ax.set_ylabel('Principal Component 2', fontsize = 15)\n",
    "\n",
    "ax.set_title('Centers of Each Cluser', fontsize = 20)\n",
    "j = 0\n",
    "for target in genres:\n",
    "    \n",
    "    ax.scatter(centers[j,0],centers[j,1]\n",
    "               , s = 50)\n",
    "    ax.text(centers[j,0]-0.15,centers[j,1]+0.2,genres[j])\n",
    "\n",
    "    j += 1\n",
    "    \n"
   ]
  },
  {
   "cell_type": "markdown",
   "metadata": {},
   "source": [
    "## Classification"
   ]
  },
  {
   "cell_type": "markdown",
   "metadata": {},
   "source": [
    "The first model will be generated through Keras/sklearn. The second will be created using sklearn's Linear SVM module."
   ]
  },
  {
   "cell_type": "code",
   "execution_count": 18,
   "metadata": {},
   "outputs": [
    {
     "data": {
      "text/html": [
       "<div>\n",
       "<style scoped>\n",
       "    .dataframe tbody tr th:only-of-type {\n",
       "        vertical-align: middle;\n",
       "    }\n",
       "\n",
       "    .dataframe tbody tr th {\n",
       "        vertical-align: top;\n",
       "    }\n",
       "\n",
       "    .dataframe thead th {\n",
       "        text-align: right;\n",
       "    }\n",
       "</style>\n",
       "<table border=\"1\" class=\"dataframe\">\n",
       "  <thead>\n",
       "    <tr style=\"text-align: right;\">\n",
       "      <th></th>\n",
       "      <th>chroma_stft</th>\n",
       "      <th>rmse</th>\n",
       "      <th>spectral_centroid</th>\n",
       "      <th>spectral_bandwidth</th>\n",
       "      <th>rolloff</th>\n",
       "      <th>zero_crossing_rate</th>\n",
       "      <th>mfcc1</th>\n",
       "      <th>mfcc2</th>\n",
       "      <th>mfcc3</th>\n",
       "      <th>mfcc4</th>\n",
       "      <th>...</th>\n",
       "      <th>mfcc12</th>\n",
       "      <th>mfcc13</th>\n",
       "      <th>mfcc14</th>\n",
       "      <th>mfcc15</th>\n",
       "      <th>mfcc16</th>\n",
       "      <th>mfcc17</th>\n",
       "      <th>mfcc18</th>\n",
       "      <th>mfcc19</th>\n",
       "      <th>mfcc20</th>\n",
       "      <th>label</th>\n",
       "    </tr>\n",
       "  </thead>\n",
       "  <tbody>\n",
       "    <tr>\n",
       "      <th>0</th>\n",
       "      <td>0.374710</td>\n",
       "      <td>0.110496</td>\n",
       "      <td>2340.432873</td>\n",
       "      <td>2256.538115</td>\n",
       "      <td>4972.503265</td>\n",
       "      <td>0.121775</td>\n",
       "      <td>-116.517402</td>\n",
       "      <td>97.430279</td>\n",
       "      <td>-13.880191</td>\n",
       "      <td>48.966759</td>\n",
       "      <td>...</td>\n",
       "      <td>10.998190</td>\n",
       "      <td>-13.861801</td>\n",
       "      <td>9.735367</td>\n",
       "      <td>-5.089488</td>\n",
       "      <td>2.634638</td>\n",
       "      <td>-9.883816</td>\n",
       "      <td>6.159059</td>\n",
       "      <td>-7.682608</td>\n",
       "      <td>-4.852479</td>\n",
       "      <td>blues</td>\n",
       "    </tr>\n",
       "    <tr>\n",
       "      <th>1</th>\n",
       "      <td>0.248627</td>\n",
       "      <td>0.069145</td>\n",
       "      <td>1188.168337</td>\n",
       "      <td>1682.860150</td>\n",
       "      <td>2339.635853</td>\n",
       "      <td>0.048160</td>\n",
       "      <td>-328.673793</td>\n",
       "      <td>102.696873</td>\n",
       "      <td>19.876064</td>\n",
       "      <td>26.731257</td>\n",
       "      <td>...</td>\n",
       "      <td>-8.897177</td>\n",
       "      <td>-9.238519</td>\n",
       "      <td>-9.109326</td>\n",
       "      <td>-9.003836</td>\n",
       "      <td>-7.640767</td>\n",
       "      <td>-7.190916</td>\n",
       "      <td>-9.368477</td>\n",
       "      <td>-4.470060</td>\n",
       "      <td>-3.688800</td>\n",
       "      <td>blues</td>\n",
       "    </tr>\n",
       "    <tr>\n",
       "      <th>2</th>\n",
       "      <td>0.264616</td>\n",
       "      <td>0.113221</td>\n",
       "      <td>1324.304356</td>\n",
       "      <td>1827.737535</td>\n",
       "      <td>2710.033613</td>\n",
       "      <td>0.051417</td>\n",
       "      <td>-209.789266</td>\n",
       "      <td>124.458449</td>\n",
       "      <td>10.310380</td>\n",
       "      <td>47.018006</td>\n",
       "      <td>...</td>\n",
       "      <td>-2.205935</td>\n",
       "      <td>-3.038192</td>\n",
       "      <td>8.645516</td>\n",
       "      <td>-0.304230</td>\n",
       "      <td>-0.637744</td>\n",
       "      <td>-2.939885</td>\n",
       "      <td>-1.705923</td>\n",
       "      <td>-1.769590</td>\n",
       "      <td>-7.762958</td>\n",
       "      <td>blues</td>\n",
       "    </tr>\n",
       "    <tr>\n",
       "      <th>3</th>\n",
       "      <td>0.367137</td>\n",
       "      <td>0.065713</td>\n",
       "      <td>1353.260462</td>\n",
       "      <td>1757.230941</td>\n",
       "      <td>2882.224238</td>\n",
       "      <td>0.043959</td>\n",
       "      <td>-287.914965</td>\n",
       "      <td>123.980064</td>\n",
       "      <td>5.459754</td>\n",
       "      <td>33.678089</td>\n",
       "      <td>...</td>\n",
       "      <td>-3.180866</td>\n",
       "      <td>-5.556420</td>\n",
       "      <td>-6.789627</td>\n",
       "      <td>-2.644640</td>\n",
       "      <td>-2.984927</td>\n",
       "      <td>-3.385201</td>\n",
       "      <td>-1.856390</td>\n",
       "      <td>1.836151</td>\n",
       "      <td>-4.897420</td>\n",
       "      <td>blues</td>\n",
       "    </tr>\n",
       "    <tr>\n",
       "      <th>4</th>\n",
       "      <td>0.280456</td>\n",
       "      <td>0.124715</td>\n",
       "      <td>1649.293771</td>\n",
       "      <td>2190.248306</td>\n",
       "      <td>3761.427255</td>\n",
       "      <td>0.052926</td>\n",
       "      <td>-233.724591</td>\n",
       "      <td>101.183595</td>\n",
       "      <td>17.650272</td>\n",
       "      <td>23.734355</td>\n",
       "      <td>...</td>\n",
       "      <td>-6.046127</td>\n",
       "      <td>-5.065351</td>\n",
       "      <td>1.073173</td>\n",
       "      <td>-5.780492</td>\n",
       "      <td>-8.305596</td>\n",
       "      <td>-11.386346</td>\n",
       "      <td>-6.725316</td>\n",
       "      <td>-10.027707</td>\n",
       "      <td>-14.035269</td>\n",
       "      <td>blues</td>\n",
       "    </tr>\n",
       "  </tbody>\n",
       "</table>\n",
       "<p>5 rows × 27 columns</p>\n",
       "</div>"
      ],
      "text/plain": [
       "   chroma_stft      rmse  spectral_centroid  spectral_bandwidth      rolloff  \\\n",
       "0     0.374710  0.110496        2340.432873         2256.538115  4972.503265   \n",
       "1     0.248627  0.069145        1188.168337         1682.860150  2339.635853   \n",
       "2     0.264616  0.113221        1324.304356         1827.737535  2710.033613   \n",
       "3     0.367137  0.065713        1353.260462         1757.230941  2882.224238   \n",
       "4     0.280456  0.124715        1649.293771         2190.248306  3761.427255   \n",
       "\n",
       "   zero_crossing_rate       mfcc1       mfcc2      mfcc3      mfcc4  ...    \\\n",
       "0            0.121775 -116.517402   97.430279 -13.880191  48.966759  ...     \n",
       "1            0.048160 -328.673793  102.696873  19.876064  26.731257  ...     \n",
       "2            0.051417 -209.789266  124.458449  10.310380  47.018006  ...     \n",
       "3            0.043959 -287.914965  123.980064   5.459754  33.678089  ...     \n",
       "4            0.052926 -233.724591  101.183595  17.650272  23.734355  ...     \n",
       "\n",
       "      mfcc12     mfcc13    mfcc14    mfcc15    mfcc16     mfcc17    mfcc18  \\\n",
       "0  10.998190 -13.861801  9.735367 -5.089488  2.634638  -9.883816  6.159059   \n",
       "1  -8.897177  -9.238519 -9.109326 -9.003836 -7.640767  -7.190916 -9.368477   \n",
       "2  -2.205935  -3.038192  8.645516 -0.304230 -0.637744  -2.939885 -1.705923   \n",
       "3  -3.180866  -5.556420 -6.789627 -2.644640 -2.984927  -3.385201 -1.856390   \n",
       "4  -6.046127  -5.065351  1.073173 -5.780492 -8.305596 -11.386346 -6.725316   \n",
       "\n",
       "      mfcc19     mfcc20  label  \n",
       "0  -7.682608  -4.852479  blues  \n",
       "1  -4.470060  -3.688800  blues  \n",
       "2  -1.769590  -7.762958  blues  \n",
       "3   1.836151  -4.897420  blues  \n",
       "4 -10.027707 -14.035269  blues  \n",
       "\n",
       "[5 rows x 27 columns]"
      ]
     },
     "execution_count": 18,
     "metadata": {},
     "output_type": "execute_result"
    }
   ],
   "source": [
    "# Data now has filename removed (5x27).\n",
    "data.head()"
   ]
  },
  {
   "cell_type": "markdown",
   "metadata": {},
   "source": [
    "## Splitting data into train and test sets"
   ]
  },
  {
   "cell_type": "code",
   "execution_count": 175,
   "metadata": {},
   "outputs": [],
   "source": [
    "X_train, X_test, y_train, y_test = train_test_split(X, y, test_size=0.2)"
   ]
  },
  {
   "cell_type": "code",
   "execution_count": 176,
   "metadata": {},
   "outputs": [
    {
     "data": {
      "text/plain": [
       "800"
      ]
     },
     "execution_count": 176,
     "metadata": {},
     "output_type": "execute_result"
    }
   ],
   "source": [
    "len(y_train)"
   ]
  },
  {
   "cell_type": "code",
   "execution_count": 177,
   "metadata": {},
   "outputs": [
    {
     "data": {
      "text/plain": [
       "200"
      ]
     },
     "execution_count": 177,
     "metadata": {},
     "output_type": "execute_result"
    }
   ],
   "source": [
    "len(y_test)"
   ]
  },
  {
   "cell_type": "markdown",
   "metadata": {},
   "source": [
    "As we can see, the given data has been partitioned into train and test sets. Now, let's specify and fit our neural network model."
   ]
  },
  {
   "cell_type": "markdown",
   "metadata": {},
   "source": [
    "## Model Generation"
   ]
  },
  {
   "cell_type": "code",
   "execution_count": 178,
   "metadata": {},
   "outputs": [
    {
     "name": "stdout",
     "output_type": "stream",
     "text": [
      "Epoch 1/100\n",
      "800/800 [==============================] - 1s 899us/step - loss: 2.1873 - acc: 0.2250\n",
      "Epoch 2/100\n",
      "800/800 [==============================] - 0s 22us/step - loss: 1.8921 - acc: 0.3538\n",
      "Epoch 3/100\n",
      "800/800 [==============================] - 0s 25us/step - loss: 1.6642 - acc: 0.3975\n",
      "Epoch 4/100\n",
      "800/800 [==============================] - 0s 29us/step - loss: 1.4815 - acc: 0.4838\n",
      "Epoch 5/100\n",
      "800/800 [==============================] - 0s 26us/step - loss: 1.3235 - acc: 0.5475\n",
      "Epoch 6/100\n",
      "800/800 [==============================] - 0s 25us/step - loss: 1.2181 - acc: 0.5875\n",
      "Epoch 7/100\n",
      "800/800 [==============================] - 0s 36us/step - loss: 1.1373 - acc: 0.6100\n",
      "Epoch 8/100\n",
      "800/800 [==============================] - 0s 43us/step - loss: 1.0455 - acc: 0.6250\n",
      "Epoch 9/100\n",
      "800/800 [==============================] - 0s 33us/step - loss: 0.9769 - acc: 0.6663\n",
      "Epoch 10/100\n",
      "800/800 [==============================] - 0s 35us/step - loss: 0.9274 - acc: 0.6950\n",
      "Epoch 11/100\n",
      "800/800 [==============================] - 0s 34us/step - loss: 0.8747 - acc: 0.7013\n",
      "Epoch 12/100\n",
      "800/800 [==============================] - 0s 27us/step - loss: 0.8266 - acc: 0.7312\n",
      "Epoch 13/100\n",
      "800/800 [==============================] - 0s 25us/step - loss: 0.7891 - acc: 0.7362\n",
      "Epoch 14/100\n",
      "800/800 [==============================] - 0s 29us/step - loss: 0.7489 - acc: 0.7475\n",
      "Epoch 15/100\n",
      "800/800 [==============================] - 0s 31us/step - loss: 0.7273 - acc: 0.7662\n",
      "Epoch 16/100\n",
      "800/800 [==============================] - 0s 32us/step - loss: 0.6980 - acc: 0.7725\n",
      "Epoch 17/100\n",
      "800/800 [==============================] - 0s 27us/step - loss: 0.6614 - acc: 0.7987\n",
      "Epoch 18/100\n",
      "800/800 [==============================] - 0s 37us/step - loss: 0.6273 - acc: 0.7950\n",
      "Epoch 19/100\n",
      "800/800 [==============================] - 0s 25us/step - loss: 0.6082 - acc: 0.8075\n",
      "Epoch 20/100\n",
      "800/800 [==============================] - 0s 23us/step - loss: 0.5818 - acc: 0.8200\n",
      "Epoch 21/100\n",
      "800/800 [==============================] - 0s 29us/step - loss: 0.5605 - acc: 0.8250\n",
      "Epoch 22/100\n",
      "800/800 [==============================] - 0s 31us/step - loss: 0.5390 - acc: 0.8400\n",
      "Epoch 23/100\n",
      "800/800 [==============================] - 0s 38us/step - loss: 0.5122 - acc: 0.8438\n",
      "Epoch 24/100\n",
      "800/800 [==============================] - 0s 31us/step - loss: 0.4871 - acc: 0.8650\n",
      "Epoch 25/100\n",
      "800/800 [==============================] - 0s 37us/step - loss: 0.4678 - acc: 0.8625\n",
      "Epoch 26/100\n",
      "800/800 [==============================] - 0s 26us/step - loss: 0.4529 - acc: 0.8600\n",
      "Epoch 27/100\n",
      "800/800 [==============================] - 0s 22us/step - loss: 0.4445 - acc: 0.8625\n",
      "Epoch 28/100\n",
      "800/800 [==============================] - 0s 50us/step - loss: 0.4256 - acc: 0.8725\n",
      "Epoch 29/100\n",
      "800/800 [==============================] - 0s 43us/step - loss: 0.4010 - acc: 0.8788\n",
      "Epoch 30/100\n",
      "800/800 [==============================] - 0s 34us/step - loss: 0.3854 - acc: 0.8975\n",
      "Epoch 31/100\n",
      "800/800 [==============================] - 0s 36us/step - loss: 0.3611 - acc: 0.8950\n",
      "Epoch 32/100\n",
      "800/800 [==============================] - 0s 22us/step - loss: 0.3399 - acc: 0.9163\n",
      "Epoch 33/100\n",
      "800/800 [==============================] - 0s 26us/step - loss: 0.3259 - acc: 0.9088\n",
      "Epoch 34/100\n",
      "800/800 [==============================] - 0s 24us/step - loss: 0.3181 - acc: 0.9225\n",
      "Epoch 35/100\n",
      "800/800 [==============================] - 0s 29us/step - loss: 0.3021 - acc: 0.9250\n",
      "Epoch 36/100\n",
      "800/800 [==============================] - 0s 34us/step - loss: 0.3002 - acc: 0.9288\n",
      "Epoch 37/100\n",
      "800/800 [==============================] - 0s 30us/step - loss: 0.2799 - acc: 0.9350\n",
      "Epoch 38/100\n",
      "800/800 [==============================] - 0s 23us/step - loss: 0.2710 - acc: 0.9400\n",
      "Epoch 39/100\n",
      "800/800 [==============================] - 0s 26us/step - loss: 0.2574 - acc: 0.9325\n",
      "Epoch 40/100\n",
      "800/800 [==============================] - 0s 22us/step - loss: 0.2368 - acc: 0.9525\n",
      "Epoch 41/100\n",
      "800/800 [==============================] - 0s 23us/step - loss: 0.2305 - acc: 0.9513\n",
      "Epoch 42/100\n",
      "800/800 [==============================] - 0s 33us/step - loss: 0.2203 - acc: 0.9587\n",
      "Epoch 43/100\n",
      "800/800 [==============================] - 0s 25us/step - loss: 0.2081 - acc: 0.9587\n",
      "Epoch 44/100\n",
      "800/800 [==============================] - 0s 21us/step - loss: 0.2023 - acc: 0.9500\n",
      "Epoch 45/100\n",
      "800/800 [==============================] - 0s 22us/step - loss: 0.1906 - acc: 0.9675\n",
      "Epoch 46/100\n",
      "800/800 [==============================] - 0s 21us/step - loss: 0.1753 - acc: 0.9650\n",
      "Epoch 47/100\n",
      "800/800 [==============================] - 0s 25us/step - loss: 0.1683 - acc: 0.9812\n",
      "Epoch 48/100\n",
      "800/800 [==============================] - ETA: 0s - loss: 0.1450 - acc: 0.984 - 0s 24us/step - loss: 0.1507 - acc: 0.9850\n",
      "Epoch 49/100\n",
      "800/800 [==============================] - 0s 28us/step - loss: 0.1457 - acc: 0.9763\n",
      "Epoch 50/100\n",
      "800/800 [==============================] - 0s 22us/step - loss: 0.1407 - acc: 0.9788\n",
      "Epoch 51/100\n",
      "800/800 [==============================] - 0s 20us/step - loss: 0.1385 - acc: 0.9812\n",
      "Epoch 52/100\n",
      "800/800 [==============================] - 0s 36us/step - loss: 0.1265 - acc: 0.9825\n",
      "Epoch 53/100\n",
      "800/800 [==============================] - 0s 22us/step - loss: 0.1125 - acc: 0.9900\n",
      "Epoch 54/100\n",
      "800/800 [==============================] - 0s 24us/step - loss: 0.1122 - acc: 0.9888\n",
      "Epoch 55/100\n",
      "800/800 [==============================] - 0s 21us/step - loss: 0.1078 - acc: 0.9875\n",
      "Epoch 56/100\n",
      "800/800 [==============================] - 0s 20us/step - loss: 0.1035 - acc: 0.9925\n",
      "Epoch 57/100\n",
      "800/800 [==============================] - 0s 25us/step - loss: 0.1087 - acc: 0.9838\n",
      "Epoch 58/100\n",
      "800/800 [==============================] - 0s 29us/step - loss: 0.1160 - acc: 0.9738\n",
      "Epoch 59/100\n",
      "800/800 [==============================] - 0s 22us/step - loss: 0.0909 - acc: 0.9913\n",
      "Epoch 60/100\n",
      "800/800 [==============================] - 0s 27us/step - loss: 0.0915 - acc: 0.9888\n",
      "Epoch 61/100\n",
      "800/800 [==============================] - 0s 25us/step - loss: 0.0865 - acc: 0.9875\n",
      "Epoch 62/100\n",
      "800/800 [==============================] - 0s 24us/step - loss: 0.0734 - acc: 0.9937\n",
      "Epoch 63/100\n",
      "800/800 [==============================] - 0s 21us/step - loss: 0.0733 - acc: 0.9913\n",
      "Epoch 64/100\n",
      "800/800 [==============================] - 0s 24us/step - loss: 0.0677 - acc: 0.9925\n",
      "Epoch 65/100\n",
      "800/800 [==============================] - 0s 21us/step - loss: 0.0603 - acc: 0.9962\n",
      "Epoch 66/100\n",
      "800/800 [==============================] - 0s 22us/step - loss: 0.0563 - acc: 0.9975\n",
      "Epoch 67/100\n",
      "800/800 [==============================] - 0s 26us/step - loss: 0.0535 - acc: 0.9975\n",
      "Epoch 68/100\n",
      "800/800 [==============================] - 0s 24us/step - loss: 0.0510 - acc: 0.9962\n",
      "Epoch 69/100\n",
      "800/800 [==============================] - 0s 26us/step - loss: 0.0515 - acc: 0.9962\n",
      "Epoch 70/100\n",
      "800/800 [==============================] - 0s 24us/step - loss: 0.0481 - acc: 0.9962\n",
      "Epoch 71/100\n",
      "800/800 [==============================] - 0s 32us/step - loss: 0.0454 - acc: 0.9975\n",
      "Epoch 72/100\n",
      "800/800 [==============================] - 0s 26us/step - loss: 0.0467 - acc: 0.9975\n",
      "Epoch 73/100\n",
      "800/800 [==============================] - 0s 21us/step - loss: 0.0432 - acc: 0.9962\n",
      "Epoch 74/100\n",
      "800/800 [==============================] - 0s 21us/step - loss: 0.0434 - acc: 0.9975\n",
      "Epoch 75/100\n",
      "800/800 [==============================] - 0s 22us/step - loss: 0.0395 - acc: 0.9962\n",
      "Epoch 76/100\n",
      "800/800 [==============================] - 0s 22us/step - loss: 0.0363 - acc: 0.9975\n",
      "Epoch 77/100\n",
      "800/800 [==============================] - 0s 21us/step - loss: 0.0345 - acc: 0.9988\n",
      "Epoch 78/100\n",
      "800/800 [==============================] - 0s 25us/step - loss: 0.0344 - acc: 0.9962\n",
      "Epoch 79/100\n",
      "800/800 [==============================] - 0s 21us/step - loss: 0.0342 - acc: 0.9975\n",
      "Epoch 80/100\n",
      "800/800 [==============================] - 0s 25us/step - loss: 0.0306 - acc: 0.9975\n",
      "Epoch 81/100\n",
      "800/800 [==============================] - 0s 26us/step - loss: 0.0371 - acc: 0.9975\n",
      "Epoch 82/100\n",
      "800/800 [==============================] - 0s 20us/step - loss: 0.0352 - acc: 0.9962\n",
      "Epoch 83/100\n",
      "800/800 [==============================] - 0s 22us/step - loss: 0.0331 - acc: 0.9988\n",
      "Epoch 84/100\n"
     ]
    },
    {
     "name": "stdout",
     "output_type": "stream",
     "text": [
      "800/800 [==============================] - 0s 20us/step - loss: 0.0361 - acc: 0.9950\n",
      "Epoch 85/100\n",
      "800/800 [==============================] - 0s 23us/step - loss: 0.0347 - acc: 0.9962\n",
      "Epoch 86/100\n",
      "800/800 [==============================] - 0s 24us/step - loss: 0.0307 - acc: 0.9962\n",
      "Epoch 87/100\n",
      "800/800 [==============================] - 0s 24us/step - loss: 0.0285 - acc: 0.9975\n",
      "Epoch 88/100\n",
      "800/800 [==============================] - 0s 21us/step - loss: 0.0267 - acc: 0.9988\n",
      "Epoch 89/100\n",
      "800/800 [==============================] - 0s 28us/step - loss: 0.0264 - acc: 0.9988\n",
      "Epoch 90/100\n",
      "800/800 [==============================] - 0s 25us/step - loss: 0.0424 - acc: 0.9937\n",
      "Epoch 91/100\n",
      "800/800 [==============================] - 0s 21us/step - loss: 0.0332 - acc: 0.9962\n",
      "Epoch 92/100\n",
      "800/800 [==============================] - 0s 21us/step - loss: 0.0222 - acc: 0.9988\n",
      "Epoch 93/100\n",
      "800/800 [==============================] - 0s 23us/step - loss: 0.0230 - acc: 0.9988\n",
      "Epoch 94/100\n",
      "800/800 [==============================] - 0s 21us/step - loss: 0.0200 - acc: 0.9988\n",
      "Epoch 95/100\n",
      "800/800 [==============================] - 0s 20us/step - loss: 0.0187 - acc: 0.9988\n",
      "Epoch 96/100\n",
      "800/800 [==============================] - 0s 27us/step - loss: 0.0188 - acc: 0.9988\n",
      "Epoch 97/100\n",
      "800/800 [==============================] - 0s 23us/step - loss: 0.0177 - acc: 0.9988\n",
      "Epoch 98/100\n",
      "800/800 [==============================] - 0s 21us/step - loss: 0.0165 - acc: 0.9988\n",
      "Epoch 99/100\n",
      "800/800 [==============================] - 0s 29us/step - loss: 0.0162 - acc: 0.9988\n",
      "Epoch 100/100\n",
      "800/800 [==============================] - 0s 21us/step - loss: 0.0169 - acc: 0.9988\n"
     ]
    }
   ],
   "source": [
    "from keras import models\n",
    "from keras import layers\n",
    "\n",
    "# This section of code generates the baseline model without any\n",
    "# special accuracy tweaks to it. Tweaks are mentioned below.\n",
    "# Using sequential model (a linear stack of layers in a neural net)\n",
    "model = models.Sequential()\n",
    "\n",
    "# Specify and add layers to the model.\n",
    "model.add(layers.Dense(256, activation='relu', \n",
    "                       input_shape=(X_train.shape[1],)))\n",
    "model.add(layers.Dense(128, activation='relu'))\n",
    "model.add(layers.Dense(64, activation='relu'))\n",
    "\n",
    "# Add final softmax layer to map output of network to a probability distribution.\n",
    "model.add(layers.Dense(10, activation='softmax'))\n",
    "\n",
    "model.compile(optimizer='adam', \n",
    "              loss='sparse_categorical_crossentropy', \n",
    "              metrics=['accuracy'])\n",
    "\n",
    "# Adjust epochs to train the model more.\n",
    "baseline_history = model.fit(X_train, y_train, epochs=100,\n",
    "                    batch_size=128)"
   ]
  },
  {
   "cell_type": "code",
   "execution_count": 179,
   "metadata": {},
   "outputs": [
    {
     "name": "stdout",
     "output_type": "stream",
     "text": [
      "200/200 [==============================] - 0s 1ms/step\n"
     ]
    }
   ],
   "source": [
    "# Evaluate accuracy and loss\n",
    "test_loss, test_acc = model.evaluate(X_test, y_test)"
   ]
  },
  {
   "cell_type": "code",
   "execution_count": 180,
   "metadata": {},
   "outputs": [
    {
     "name": "stdout",
     "output_type": "stream",
     "text": [
      "test accuracy:  0.68\n"
     ]
    }
   ],
   "source": [
    "print('test accuracy: ', test_acc)"
   ]
  },
  {
   "cell_type": "code",
   "execution_count": 181,
   "metadata": {},
   "outputs": [
    {
     "name": "stdout",
     "output_type": "stream",
     "text": [
      "[[0.70588235 0.         0.         0.         0.         0.23529412\n",
      "  0.         0.         0.         0.05882353]\n",
      " [0.         0.9        0.         0.         0.         0.05\n",
      "  0.         0.         0.         0.05      ]\n",
      " [0.07142857 0.         0.67857143 0.         0.         0.07142857\n",
      "  0.         0.03571429 0.10714286 0.03571429]\n",
      " [0.         0.         0.         0.57142857 0.         0.\n",
      "  0.         0.0952381  0.14285714 0.19047619]\n",
      " [0.         0.04347826 0.         0.13043478 0.56521739 0.\n",
      "  0.08695652 0.         0.04347826 0.13043478]\n",
      " [0.         0.11111111 0.         0.         0.         0.88888889\n",
      "  0.         0.         0.         0.        ]\n",
      " [0.05263158 0.         0.         0.         0.05263158 0.\n",
      "  0.84210526 0.         0.         0.05263158]\n",
      " [0.         0.         0.         0.14285714 0.14285714 0.\n",
      "  0.         0.61904762 0.0952381  0.        ]\n",
      " [0.08333333 0.08333333 0.         0.08333333 0.08333333 0.\n",
      "  0.         0.08333333 0.5        0.08333333]\n",
      " [0.         0.         0.0952381  0.04761905 0.04761905 0.\n",
      "  0.04761905 0.         0.23809524 0.52380952]]\n"
     ]
    },
    {
     "data": {
      "image/png": "[encoded data removed]",
      "text/plain": [
       "<Figure size 720x720 with 1 Axes>"
      ]
     },
     "metadata": {
      "needs_background": "light"
     },
     "output_type": "display_data"
    }
   ],
   "source": [
    "predictions = model.predict(X_test)\n",
    "y_pred = np.argmax(predictions, axis=-1)\n",
    "cm = confusion_matrix(y_test, y_pred)\n",
    "cm_normalized = cm.astype('float') / cm.sum(axis=1)[:, np.newaxis]\n",
    "\n",
    "plt.figure(figsize=(10, 10))\n",
    "plt.matshow(cm_normalized,fignum=1)\n",
    "plt.xlabel('Predicted label')\n",
    "# Show all ticks and label them with their respective entries.\n",
    "plt.xticks(np.arange(cm_normalized.shape[1]), genres)\n",
    "plt.yticks(np.arange(cm_normalized.shape[0]), genres)\n",
    "\n",
    "# Label the squares.\n",
    "fmt = '.3f' \n",
    "thresh = cm_normalized.max() / 2.\n",
    "for i in range(cm_normalized.shape[0]):\n",
    "    for j in range(cm_normalized.shape[1]):\n",
    "        plt.text(j, i, format(cm_normalized[i, j], fmt),\n",
    "                ha=\"center\", va=\"center\",\n",
    "                color=\"blue\" if cm_normalized[i, j] > thresh else \"white\")\n",
    "plt.tight_layout()\n",
    "\n",
    "plt.ylabel('True label')\n",
    "plt.title('Non-normalized Confusion Matrix (Neural Network)')\n",
    "print(cm_normalized)\n",
    "plt.savefig('normalized_cm.png')\n",
    "plt.show()"
   ]
  },
  {
   "cell_type": "markdown",
   "metadata": {},
   "source": [
    "We can see that there is some overfitting going on due to a large amount of data with a low accuracy."
   ]
  },
  {
   "cell_type": "markdown",
   "metadata": {},
   "source": [
    "## Tweaking Models and Comparing Performance"
   ]
  },
  {
   "cell_type": "markdown",
   "metadata": {},
   "source": [
    "As a result of overfitting, we will need to tweak the number and density of our neural network layers. Hopefully, with a smaller network, we will be able to prevent the overfitting that takes place immediately. A common method of preventing overfitting is 'Dropout.' It is a prevalent regularization technique for neural networks.  Dropout, applied to a layer, consists of randomly \"dropping out\" (i.e. set to zero) a number of output features of the layer during training."
   ]
  },
  {
   "cell_type": "code",
   "execution_count": 182,
   "metadata": {},
   "outputs": [
    {
     "name": "stdout",
     "output_type": "stream",
     "text": [
      "Epoch 1/100\n",
      "800/800 [==============================] - 1s 946us/step - loss: 2.2750 - acc: 0.1537\n",
      "Epoch 2/100\n",
      "800/800 [==============================] - 0s 39us/step - loss: 2.0590 - acc: 0.3050\n",
      "Epoch 3/100\n",
      "800/800 [==============================] - 0s 29us/step - loss: 1.8779 - acc: 0.3737\n",
      "Epoch 4/100\n",
      "800/800 [==============================] - 0s 24us/step - loss: 1.7008 - acc: 0.4088\n",
      "Epoch 5/100\n",
      "800/800 [==============================] - 0s 44us/step - loss: 1.5660 - acc: 0.4500\n",
      "Epoch 6/100\n",
      "800/800 [==============================] - 0s 34us/step - loss: 1.4958 - acc: 0.4688\n",
      "Epoch 7/100\n",
      "800/800 [==============================] - 0s 35us/step - loss: 1.4210 - acc: 0.4700\n",
      "Epoch 8/100\n",
      "800/800 [==============================] - 0s 42us/step - loss: 1.3616 - acc: 0.5312\n",
      "Epoch 9/100\n",
      "800/800 [==============================] - 0s 35us/step - loss: 1.3216 - acc: 0.5288\n",
      "Epoch 10/100\n",
      "800/800 [==============================] - 0s 39us/step - loss: 1.2434 - acc: 0.5525\n",
      "Epoch 11/100\n",
      "800/800 [==============================] - 0s 35us/step - loss: 1.2154 - acc: 0.5862\n",
      "Epoch 12/100\n",
      "800/800 [==============================] - 0s 24us/step - loss: 1.1447 - acc: 0.5900\n",
      "Epoch 13/100\n",
      "800/800 [==============================] - 0s 21us/step - loss: 1.1226 - acc: 0.6088\n",
      "Epoch 14/100\n",
      "800/800 [==============================] - 0s 30us/step - loss: 1.0869 - acc: 0.6138\n",
      "Epoch 15/100\n",
      "800/800 [==============================] - 0s 49us/step - loss: 1.0542 - acc: 0.6462\n",
      "Epoch 16/100\n",
      "800/800 [==============================] - 0s 29us/step - loss: 1.0368 - acc: 0.6388\n",
      "Epoch 17/100\n",
      "800/800 [==============================] - 0s 25us/step - loss: 0.9997 - acc: 0.6613\n",
      "Epoch 18/100\n",
      "800/800 [==============================] - 0s 34us/step - loss: 0.9661 - acc: 0.6687\n",
      "Epoch 19/100\n",
      "800/800 [==============================] - 0s 29us/step - loss: 0.9316 - acc: 0.6913\n",
      "Epoch 20/100\n",
      "800/800 [==============================] - 0s 39us/step - loss: 0.9456 - acc: 0.6863\n",
      "Epoch 21/100\n",
      "800/800 [==============================] - 0s 24us/step - loss: 0.8881 - acc: 0.6800\n",
      "Epoch 22/100\n",
      "800/800 [==============================] - 0s 35us/step - loss: 0.9200 - acc: 0.6812\n",
      "Epoch 23/100\n",
      "800/800 [==============================] - 0s 25us/step - loss: 0.8874 - acc: 0.6837\n",
      "Epoch 24/100\n",
      "800/800 [==============================] - 0s 38us/step - loss: 0.8889 - acc: 0.6887\n",
      "Epoch 25/100\n",
      "800/800 [==============================] - 0s 31us/step - loss: 0.8134 - acc: 0.7350\n",
      "Epoch 26/100\n",
      "800/800 [==============================] - 0s 25us/step - loss: 0.8143 - acc: 0.7238\n",
      "Epoch 27/100\n",
      "800/800 [==============================] - 0s 36us/step - loss: 0.8046 - acc: 0.7263\n",
      "Epoch 28/100\n",
      "800/800 [==============================] - 0s 27us/step - loss: 0.7803 - acc: 0.7300\n",
      "Epoch 29/100\n",
      "800/800 [==============================] - 0s 33us/step - loss: 0.7598 - acc: 0.7475\n",
      "Epoch 30/100\n",
      "800/800 [==============================] - 0s 30us/step - loss: 0.7606 - acc: 0.7437\n",
      "Epoch 31/100\n",
      "800/800 [==============================] - 0s 32us/step - loss: 0.7251 - acc: 0.7825\n",
      "Epoch 32/100\n",
      "800/800 [==============================] - 0s 38us/step - loss: 0.7143 - acc: 0.7550\n",
      "Epoch 33/100\n",
      "800/800 [==============================] - 0s 33us/step - loss: 0.7086 - acc: 0.7625\n",
      "Epoch 34/100\n",
      "800/800 [==============================] - 0s 33us/step - loss: 0.6671 - acc: 0.7737\n",
      "Epoch 35/100\n",
      "800/800 [==============================] - 0s 33us/step - loss: 0.6592 - acc: 0.7612\n",
      "Epoch 36/100\n",
      "800/800 [==============================] - 0s 38us/step - loss: 0.6474 - acc: 0.7725\n",
      "Epoch 37/100\n",
      "800/800 [==============================] - 0s 28us/step - loss: 0.6387 - acc: 0.7787\n",
      "Epoch 38/100\n",
      "800/800 [==============================] - 0s 35us/step - loss: 0.6232 - acc: 0.7825\n",
      "Epoch 39/100\n",
      "800/800 [==============================] - 0s 23us/step - loss: 0.6423 - acc: 0.7888\n",
      "Epoch 40/100\n",
      "800/800 [==============================] - 0s 23us/step - loss: 0.6156 - acc: 0.8038\n",
      "Epoch 41/100\n",
      "800/800 [==============================] - 0s 23us/step - loss: 0.5709 - acc: 0.8113\n",
      "Epoch 42/100\n",
      "800/800 [==============================] - 0s 20us/step - loss: 0.5945 - acc: 0.8038\n",
      "Epoch 43/100\n",
      "800/800 [==============================] - 0s 25us/step - loss: 0.5685 - acc: 0.8225\n",
      "Epoch 44/100\n",
      "800/800 [==============================] - 0s 24us/step - loss: 0.5635 - acc: 0.8013\n",
      "Epoch 45/100\n",
      "800/800 [==============================] - 0s 25us/step - loss: 0.5463 - acc: 0.8263\n",
      "Epoch 46/100\n",
      "800/800 [==============================] - 0s 23us/step - loss: 0.5199 - acc: 0.8263\n",
      "Epoch 47/100\n",
      "800/800 [==============================] - 0s 34us/step - loss: 0.5259 - acc: 0.8113\n",
      "Epoch 48/100\n",
      "800/800 [==============================] - 0s 25us/step - loss: 0.4938 - acc: 0.8387\n",
      "Epoch 49/100\n",
      "800/800 [==============================] - 0s 24us/step - loss: 0.5192 - acc: 0.8313\n",
      "Epoch 50/100\n",
      "800/800 [==============================] - 0s 27us/step - loss: 0.4811 - acc: 0.8313\n",
      "Epoch 51/100\n",
      "800/800 [==============================] - 0s 25us/step - loss: 0.5105 - acc: 0.8325\n",
      "Epoch 52/100\n",
      "800/800 [==============================] - 0s 27us/step - loss: 0.4829 - acc: 0.8337\n",
      "Epoch 53/100\n",
      "800/800 [==============================] - 0s 22us/step - loss: 0.4938 - acc: 0.8400\n",
      "Epoch 54/100\n",
      "800/800 [==============================] - 0s 23us/step - loss: 0.4573 - acc: 0.8463\n",
      "Epoch 55/100\n",
      "800/800 [==============================] - 0s 25us/step - loss: 0.4512 - acc: 0.8663\n",
      "Epoch 56/100\n",
      "800/800 [==============================] - 0s 25us/step - loss: 0.4337 - acc: 0.8725\n",
      "Epoch 57/100\n",
      "800/800 [==============================] - 0s 24us/step - loss: 0.4172 - acc: 0.8762\n",
      "Epoch 58/100\n",
      "800/800 [==============================] - 0s 24us/step - loss: 0.4080 - acc: 0.8837\n",
      "Epoch 59/100\n",
      "800/800 [==============================] - 0s 23us/step - loss: 0.4120 - acc: 0.8775\n",
      "Epoch 60/100\n",
      "800/800 [==============================] - 0s 25us/step - loss: 0.4004 - acc: 0.8725\n",
      "Epoch 61/100\n",
      "800/800 [==============================] - 0s 25us/step - loss: 0.4105 - acc: 0.8700\n",
      "Epoch 62/100\n",
      "800/800 [==============================] - 0s 23us/step - loss: 0.3562 - acc: 0.8875\n",
      "Epoch 63/100\n",
      "800/800 [==============================] - 0s 25us/step - loss: 0.3577 - acc: 0.8825\n",
      "Epoch 64/100\n",
      "800/800 [==============================] - 0s 26us/step - loss: 0.3705 - acc: 0.8850\n",
      "Epoch 65/100\n",
      "800/800 [==============================] - 0s 24us/step - loss: 0.3800 - acc: 0.8663\n",
      "Epoch 66/100\n",
      "800/800 [==============================] - 0s 27us/step - loss: 0.3470 - acc: 0.8837\n",
      "Epoch 67/100\n",
      "800/800 [==============================] - 0s 22us/step - loss: 0.3450 - acc: 0.8938\n",
      "Epoch 68/100\n",
      "800/800 [==============================] - 0s 22us/step - loss: 0.3288 - acc: 0.8962\n",
      "Epoch 69/100\n",
      "800/800 [==============================] - 0s 27us/step - loss: 0.3352 - acc: 0.8850\n",
      "Epoch 70/100\n",
      "800/800 [==============================] - 0s 25us/step - loss: 0.3005 - acc: 0.9113\n",
      "Epoch 71/100\n",
      "800/800 [==============================] - 0s 22us/step - loss: 0.3087 - acc: 0.9012\n",
      "Epoch 72/100\n",
      "800/800 [==============================] - 0s 23us/step - loss: 0.3138 - acc: 0.8950\n",
      "Epoch 73/100\n",
      "800/800 [==============================] - 0s 26us/step - loss: 0.3301 - acc: 0.8837\n",
      "Epoch 74/100\n",
      "800/800 [==============================] - 0s 25us/step - loss: 0.2903 - acc: 0.9138\n",
      "Epoch 75/100\n",
      "800/800 [==============================] - 0s 26us/step - loss: 0.2882 - acc: 0.9088\n",
      "Epoch 76/100\n",
      "800/800 [==============================] - 0s 28us/step - loss: 0.2711 - acc: 0.9138\n",
      "Epoch 77/100\n",
      "800/800 [==============================] - 0s 23us/step - loss: 0.2864 - acc: 0.9175\n",
      "Epoch 78/100\n",
      "800/800 [==============================] - 0s 24us/step - loss: 0.2840 - acc: 0.9062\n",
      "Epoch 79/100\n",
      "800/800 [==============================] - 0s 26us/step - loss: 0.2634 - acc: 0.9150\n",
      "Epoch 80/100\n",
      "800/800 [==============================] - 0s 25us/step - loss: 0.2636 - acc: 0.9088\n",
      "Epoch 81/100\n",
      "800/800 [==============================] - 0s 30us/step - loss: 0.2787 - acc: 0.9037\n",
      "Epoch 82/100\n",
      "800/800 [==============================] - 0s 25us/step - loss: 0.2569 - acc: 0.9187\n",
      "Epoch 83/100\n",
      "800/800 [==============================] - 0s 24us/step - loss: 0.2437 - acc: 0.9350\n",
      "Epoch 84/100\n"
     ]
    },
    {
     "name": "stdout",
     "output_type": "stream",
     "text": [
      "800/800 [==============================] - 0s 26us/step - loss: 0.2514 - acc: 0.9225\n",
      "Epoch 85/100\n",
      "800/800 [==============================] - 0s 25us/step - loss: 0.2321 - acc: 0.9288\n",
      "Epoch 86/100\n",
      "800/800 [==============================] - 0s 22us/step - loss: 0.2251 - acc: 0.9400\n",
      "Epoch 87/100\n",
      "800/800 [==============================] - 0s 22us/step - loss: 0.2280 - acc: 0.9325\n",
      "Epoch 88/100\n",
      "800/800 [==============================] - 0s 24us/step - loss: 0.2214 - acc: 0.9337\n",
      "Epoch 89/100\n",
      "800/800 [==============================] - 0s 24us/step - loss: 0.2284 - acc: 0.9288\n",
      "Epoch 90/100\n",
      "800/800 [==============================] - 0s 24us/step - loss: 0.2251 - acc: 0.9387\n",
      "Epoch 91/100\n",
      "800/800 [==============================] - 0s 27us/step - loss: 0.2153 - acc: 0.9450\n",
      "Epoch 92/100\n",
      "800/800 [==============================] - 0s 27us/step - loss: 0.2099 - acc: 0.9400\n",
      "Epoch 93/100\n",
      "800/800 [==============================] - 0s 25us/step - loss: 0.1957 - acc: 0.9375\n",
      "Epoch 94/100\n",
      "800/800 [==============================] - 0s 23us/step - loss: 0.2159 - acc: 0.9250\n",
      "Epoch 95/100\n",
      "800/800 [==============================] - 0s 24us/step - loss: 0.2058 - acc: 0.9462\n",
      "Epoch 96/100\n",
      "800/800 [==============================] - 0s 24us/step - loss: 0.1684 - acc: 0.9537\n",
      "Epoch 97/100\n",
      "800/800 [==============================] - 0s 22us/step - loss: 0.2014 - acc: 0.9337\n",
      "Epoch 98/100\n",
      "800/800 [==============================] - 0s 23us/step - loss: 0.1676 - acc: 0.9537\n",
      "Epoch 99/100\n",
      "800/800 [==============================] - 0s 23us/step - loss: 0.1584 - acc: 0.9462\n",
      "Epoch 100/100\n",
      "800/800 [==============================] - 0s 30us/step - loss: 0.1772 - acc: 0.9425\n"
     ]
    }
   ],
   "source": [
    "# Model with dropout\n",
    "dpt_model = models.Sequential()\n",
    "\n",
    "# Specify and add layers to the model.\n",
    "# We will be adding two Dropout layers to the model.\n",
    "dpt_model.add(layers.Dense(256, activation='relu', \n",
    "                       input_shape=(X_train.shape[1],)))\n",
    "dpt_model.add(layers.Dense(128, activation='relu'))\n",
    "dpt_model.add(layers.Dropout(0.5))  # Dropout layer 2\n",
    "dpt_model.add(layers.Dense(64, activation='relu'))\n",
    "\n",
    "# Add final softmax layer to map output of network to a probability distribution.\n",
    "# The size of the softmax layer must be 10 because we have 10\n",
    "# different genres.\n",
    "dpt_model.add(layers.Dense(10, activation='softmax'))\n",
    "\n",
    "dpt_model.compile(optimizer='adam', \n",
    "              loss='sparse_categorical_crossentropy', \n",
    "              metrics=['accuracy'])\n",
    "\n",
    "dpt_history = dpt_model.fit(X_train, y_train, epochs=100,\n",
    "                    batch_size=128)"
   ]
  },
  {
   "cell_type": "code",
   "execution_count": 183,
   "metadata": {},
   "outputs": [
    {
     "name": "stdout",
     "output_type": "stream",
     "text": [
      "200/200 [==============================] - 0s 1ms/step\n"
     ]
    }
   ],
   "source": [
    "# Evaluate accuracy and loss with dropout\n",
    "dpt_test_loss, dpt_test_acc = dpt_model.evaluate(X_test, y_test)"
   ]
  },
  {
   "cell_type": "code",
   "execution_count": 184,
   "metadata": {},
   "outputs": [
    {
     "name": "stdout",
     "output_type": "stream",
     "text": [
      "0.72\n"
     ]
    }
   ],
   "source": [
    "print(dpt_test_acc)"
   ]
  },
  {
   "cell_type": "markdown",
   "metadata": {},
   "source": [
    "The dropout test accuracy indicates that dropout doesn't seem to be impacting the model that much. For this run, the epoch size was increased to 100. Let's try to improve performance with larger layers (and Dropout)."
   ]
  },
  {
   "cell_type": "code",
   "execution_count": 185,
   "metadata": {},
   "outputs": [
    {
     "name": "stdout",
     "output_type": "stream",
     "text": [
      "Epoch 1/100\n",
      "800/800 [==============================] - 1s 1ms/step - loss: 2.1180 - acc: 0.2487\n",
      "Epoch 2/100\n",
      "800/800 [==============================] - 0s 166us/step - loss: 1.7218 - acc: 0.3750\n",
      "Epoch 3/100\n",
      "800/800 [==============================] - 0s 203us/step - loss: 1.4900 - acc: 0.4563\n",
      "Epoch 4/100\n",
      "800/800 [==============================] - 0s 215us/step - loss: 1.3510 - acc: 0.5012\n",
      "Epoch 5/100\n",
      "800/800 [==============================] - 0s 162us/step - loss: 1.2275 - acc: 0.5538\n",
      "Epoch 6/100\n",
      "800/800 [==============================] - 0s 193us/step - loss: 1.1649 - acc: 0.5763\n",
      "Epoch 7/100\n",
      "800/800 [==============================] - 0s 160us/step - loss: 1.1406 - acc: 0.6000\n",
      "Epoch 8/100\n",
      "800/800 [==============================] - 0s 152us/step - loss: 1.0930 - acc: 0.6163\n",
      "Epoch 9/100\n",
      "800/800 [==============================] - 0s 146us/step - loss: 1.0415 - acc: 0.6337\n",
      "Epoch 10/100\n",
      "800/800 [==============================] - 0s 142us/step - loss: 0.9730 - acc: 0.6687\n",
      "Epoch 11/100\n",
      "800/800 [==============================] - 0s 139us/step - loss: 0.9565 - acc: 0.6575\n",
      "Epoch 12/100\n",
      "800/800 [==============================] - 0s 143us/step - loss: 0.9232 - acc: 0.6812\n",
      "Epoch 13/100\n",
      "800/800 [==============================] - 0s 130us/step - loss: 0.8717 - acc: 0.6975\n",
      "Epoch 14/100\n",
      "800/800 [==============================] - 0s 131us/step - loss: 0.8563 - acc: 0.7125\n",
      "Epoch 15/100\n",
      "800/800 [==============================] - 0s 147us/step - loss: 0.8233 - acc: 0.7225\n",
      "Epoch 16/100\n",
      "800/800 [==============================] - 0s 182us/step - loss: 0.8058 - acc: 0.7025\n",
      "Epoch 17/100\n",
      "800/800 [==============================] - 0s 202us/step - loss: 0.8015 - acc: 0.7112\n",
      "Epoch 18/100\n",
      "800/800 [==============================] - 0s 169us/step - loss: 0.7637 - acc: 0.7362\n",
      "Epoch 19/100\n",
      "800/800 [==============================] - 0s 167us/step - loss: 0.7158 - acc: 0.7625\n",
      "Epoch 20/100\n",
      "800/800 [==============================] - 0s 157us/step - loss: 0.7096 - acc: 0.7437\n",
      "Epoch 21/100\n",
      "800/800 [==============================] - 0s 196us/step - loss: 0.6990 - acc: 0.7500\n",
      "Epoch 22/100\n",
      "800/800 [==============================] - 0s 170us/step - loss: 0.6463 - acc: 0.7762\n",
      "Epoch 23/100\n",
      "800/800 [==============================] - 0s 178us/step - loss: 0.6462 - acc: 0.7800\n",
      "Epoch 24/100\n",
      "800/800 [==============================] - 0s 194us/step - loss: 0.6541 - acc: 0.7638\n",
      "Epoch 25/100\n",
      "800/800 [==============================] - 0s 200us/step - loss: 0.6293 - acc: 0.7863\n",
      "Epoch 26/100\n",
      "800/800 [==============================] - 0s 157us/step - loss: 0.6189 - acc: 0.7800\n",
      "Epoch 27/100\n",
      "800/800 [==============================] - 0s 153us/step - loss: 0.5807 - acc: 0.8087\n",
      "Epoch 28/100\n",
      "800/800 [==============================] - 0s 187us/step - loss: 0.5405 - acc: 0.8050\n",
      "Epoch 29/100\n",
      "800/800 [==============================] - 0s 188us/step - loss: 0.5572 - acc: 0.8163\n",
      "Epoch 30/100\n",
      "800/800 [==============================] - 0s 198us/step - loss: 0.5583 - acc: 0.7937\n",
      "Epoch 31/100\n",
      "800/800 [==============================] - 0s 221us/step - loss: 0.5485 - acc: 0.8025\n",
      "Epoch 32/100\n",
      "800/800 [==============================] - 0s 209us/step - loss: 0.5360 - acc: 0.8175\n",
      "Epoch 33/100\n",
      "800/800 [==============================] - 0s 201us/step - loss: 0.5091 - acc: 0.8237\n",
      "Epoch 34/100\n",
      "800/800 [==============================] - 0s 176us/step - loss: 0.4909 - acc: 0.8275\n",
      "Epoch 35/100\n",
      "800/800 [==============================] - 0s 182us/step - loss: 0.4730 - acc: 0.8212\n",
      "Epoch 36/100\n",
      "800/800 [==============================] - 0s 153us/step - loss: 0.4542 - acc: 0.8300\n",
      "Epoch 37/100\n",
      "800/800 [==============================] - 0s 126us/step - loss: 0.4449 - acc: 0.8300\n",
      "Epoch 38/100\n",
      "800/800 [==============================] - 0s 137us/step - loss: 0.4337 - acc: 0.8488\n",
      "Epoch 39/100\n",
      "800/800 [==============================] - 0s 128us/step - loss: 0.4280 - acc: 0.8412\n",
      "Epoch 40/100\n",
      "800/800 [==============================] - 0s 124us/step - loss: 0.4102 - acc: 0.8438\n",
      "Epoch 41/100\n",
      "800/800 [==============================] - 0s 121us/step - loss: 0.3744 - acc: 0.8712\n",
      "Epoch 42/100\n",
      "800/800 [==============================] - 0s 135us/step - loss: 0.4015 - acc: 0.8600\n",
      "Epoch 43/100\n",
      "800/800 [==============================] - 0s 122us/step - loss: 0.4059 - acc: 0.8612\n",
      "Epoch 44/100\n",
      "800/800 [==============================] - 0s 122us/step - loss: 0.3584 - acc: 0.8875\n",
      "Epoch 45/100\n",
      "800/800 [==============================] - 0s 123us/step - loss: 0.3667 - acc: 0.8750\n",
      "Epoch 46/100\n",
      "800/800 [==============================] - 0s 125us/step - loss: 0.3652 - acc: 0.8750\n",
      "Epoch 47/100\n",
      "800/800 [==============================] - 0s 132us/step - loss: 0.3594 - acc: 0.8663\n",
      "Epoch 48/100\n",
      "800/800 [==============================] - 0s 175us/step - loss: 0.3326 - acc: 0.8900\n",
      "Epoch 49/100\n",
      "800/800 [==============================] - 0s 128us/step - loss: 0.3125 - acc: 0.8900\n",
      "Epoch 50/100\n",
      "800/800 [==============================] - 0s 136us/step - loss: 0.3350 - acc: 0.8825\n",
      "Epoch 51/100\n",
      "800/800 [==============================] - 0s 137us/step - loss: 0.3421 - acc: 0.8725\n",
      "Epoch 52/100\n",
      "800/800 [==============================] - 0s 135us/step - loss: 0.3056 - acc: 0.8975\n",
      "Epoch 53/100\n",
      "800/800 [==============================] - 0s 138us/step - loss: 0.3034 - acc: 0.8975\n",
      "Epoch 54/100\n",
      "800/800 [==============================] - 0s 141us/step - loss: 0.2759 - acc: 0.9012\n",
      "Epoch 55/100\n",
      "800/800 [==============================] - 0s 157us/step - loss: 0.2625 - acc: 0.9138\n",
      "Epoch 56/100\n",
      "800/800 [==============================] - 0s 161us/step - loss: 0.2744 - acc: 0.9000\n",
      "Epoch 57/100\n",
      "800/800 [==============================] - 0s 153us/step - loss: 0.2847 - acc: 0.9000\n",
      "Epoch 58/100\n",
      "800/800 [==============================] - 0s 133us/step - loss: 0.2590 - acc: 0.9187\n",
      "Epoch 59/100\n",
      "800/800 [==============================] - 0s 128us/step - loss: 0.2374 - acc: 0.9075\n",
      "Epoch 60/100\n",
      "800/800 [==============================] - 0s 127us/step - loss: 0.2816 - acc: 0.9075\n",
      "Epoch 61/100\n",
      "800/800 [==============================] - 0s 146us/step - loss: 0.2577 - acc: 0.9150\n",
      "Epoch 62/100\n",
      "800/800 [==============================] - 0s 140us/step - loss: 0.2450 - acc: 0.9100\n",
      "Epoch 63/100\n",
      "800/800 [==============================] - 0s 125us/step - loss: 0.2447 - acc: 0.9100\n",
      "Epoch 64/100\n",
      "800/800 [==============================] - 0s 140us/step - loss: 0.2735 - acc: 0.9150\n",
      "Epoch 65/100\n",
      "800/800 [==============================] - 0s 147us/step - loss: 0.2606 - acc: 0.9163\n",
      "Epoch 66/100\n",
      "800/800 [==============================] - 0s 137us/step - loss: 0.2644 - acc: 0.9075\n",
      "Epoch 67/100\n",
      "800/800 [==============================] - 0s 161us/step - loss: 0.2262 - acc: 0.9213\n",
      "Epoch 68/100\n",
      "800/800 [==============================] - 0s 150us/step - loss: 0.2561 - acc: 0.9050\n",
      "Epoch 69/100\n",
      "800/800 [==============================] - 0s 161us/step - loss: 0.2067 - acc: 0.9300\n",
      "Epoch 70/100\n",
      "800/800 [==============================] - 0s 127us/step - loss: 0.1944 - acc: 0.9425\n",
      "Epoch 71/100\n",
      "800/800 [==============================] - 0s 127us/step - loss: 0.1931 - acc: 0.9350\n",
      "Epoch 72/100\n",
      "800/800 [==============================] - 0s 123us/step - loss: 0.2206 - acc: 0.9213\n",
      "Epoch 73/100\n",
      "800/800 [==============================] - 0s 135us/step - loss: 0.2105 - acc: 0.9213\n",
      "Epoch 74/100\n",
      "800/800 [==============================] - 0s 140us/step - loss: 0.1922 - acc: 0.9300\n",
      "Epoch 75/100\n",
      "800/800 [==============================] - 0s 156us/step - loss: 0.1752 - acc: 0.9350\n",
      "Epoch 76/100\n",
      "800/800 [==============================] - 0s 132us/step - loss: 0.2049 - acc: 0.9288\n",
      "Epoch 77/100\n",
      "800/800 [==============================] - 0s 139us/step - loss: 0.1630 - acc: 0.9513\n",
      "Epoch 78/100\n",
      "800/800 [==============================] - 0s 128us/step - loss: 0.1690 - acc: 0.9513\n",
      "Epoch 79/100\n",
      "800/800 [==============================] - 0s 143us/step - loss: 0.1419 - acc: 0.9625\n",
      "Epoch 80/100\n",
      "800/800 [==============================] - 0s 161us/step - loss: 0.1766 - acc: 0.9325\n",
      "Epoch 81/100\n",
      "800/800 [==============================] - 0s 200us/step - loss: 0.1390 - acc: 0.9625\n",
      "Epoch 82/100\n",
      "800/800 [==============================] - 0s 212us/step - loss: 0.1280 - acc: 0.9575\n",
      "Epoch 83/100\n"
     ]
    },
    {
     "name": "stdout",
     "output_type": "stream",
     "text": [
      "800/800 [==============================] - 0s 220us/step - loss: 0.1298 - acc: 0.9675\n",
      "Epoch 84/100\n",
      "800/800 [==============================] - 0s 202us/step - loss: 0.1258 - acc: 0.9600\n",
      "Epoch 85/100\n",
      "800/800 [==============================] - 0s 157us/step - loss: 0.1368 - acc: 0.9575\n",
      "Epoch 86/100\n",
      "800/800 [==============================] - 0s 154us/step - loss: 0.1422 - acc: 0.9513\n",
      "Epoch 87/100\n",
      "800/800 [==============================] - 0s 167us/step - loss: 0.1725 - acc: 0.9325\n",
      "Epoch 88/100\n",
      "800/800 [==============================] - 0s 225us/step - loss: 0.1238 - acc: 0.9662\n",
      "Epoch 89/100\n",
      "800/800 [==============================] - 0s 220us/step - loss: 0.1448 - acc: 0.9500\n",
      "Epoch 90/100\n",
      "800/800 [==============================] - 0s 135us/step - loss: 0.1264 - acc: 0.9513\n",
      "Epoch 91/100\n",
      "800/800 [==============================] - 0s 152us/step - loss: 0.1458 - acc: 0.9475\n",
      "Epoch 92/100\n",
      "800/800 [==============================] - 0s 186us/step - loss: 0.1429 - acc: 0.9462\n",
      "Epoch 93/100\n",
      "800/800 [==============================] - 0s 196us/step - loss: 0.1265 - acc: 0.9575\n",
      "Epoch 94/100\n",
      "800/800 [==============================] - 0s 147us/step - loss: 0.1315 - acc: 0.9662\n",
      "Epoch 95/100\n",
      "800/800 [==============================] - 0s 152us/step - loss: 0.1193 - acc: 0.9637\n",
      "Epoch 96/100\n",
      "800/800 [==============================] - 0s 167us/step - loss: 0.1507 - acc: 0.9537\n",
      "Epoch 97/100\n",
      "800/800 [==============================] - 0s 175us/step - loss: 0.1388 - acc: 0.9537\n",
      "Epoch 98/100\n",
      "800/800 [==============================] - 0s 160us/step - loss: 0.1269 - acc: 0.9600\n",
      "Epoch 99/100\n",
      "800/800 [==============================] - 0s 185us/step - loss: 0.1304 - acc: 0.9525\n",
      "Epoch 100/100\n",
      "800/800 [==============================] - 0s 225us/step - loss: 0.1289 - acc: 0.9525\n"
     ]
    }
   ],
   "source": [
    "# Model with dropout and larger layers\n",
    "lldpt_model = models.Sequential()\n",
    "\n",
    "# Specify and add layers to the model.\n",
    "# We will be adding three Dropout layers to the model.\n",
    "# Essentially, 25% of the dense layers will be dropped out after each\n",
    "# add. \n",
    "lldpt_model.add(layers.Dense(1024, activation='relu', \n",
    "                       input_shape=(X_train.shape[1],)))\n",
    "lldpt_model.add(layers.Dropout(0.5))  # Dropout layer 1\n",
    "lldpt_model.add(layers.Dense(512, activation='relu'))\n",
    "lldpt_model.add(layers.Dropout(0.5))  # Dropout layer 2\n",
    "lldpt_model.add(layers.Dense(128, activation='relu'))\n",
    "\n",
    "# Add final softmax layer to map output of network to a probability distribution.\n",
    "# The size of the softmax layer must be 10 because we have 10\n",
    "# different genres.\n",
    "lldpt_model.add(layers.Dense(10, activation='softmax'))\n",
    "\n",
    "lldpt_model.compile(optimizer='adam', \n",
    "              loss='sparse_categorical_crossentropy', \n",
    "              metrics=['accuracy'])\n",
    "\n",
    "lldpt_history = lldpt_model.fit(X_train, y_train, epochs=100,\n",
    "                    batch_size=128)"
   ]
  },
  {
   "cell_type": "code",
   "execution_count": 186,
   "metadata": {},
   "outputs": [
    {
     "name": "stdout",
     "output_type": "stream",
     "text": [
      "200/200 [==============================] - 0s 2ms/step\n"
     ]
    }
   ],
   "source": [
    "# Evaluate accuracy and loss with dropout\n",
    "lldpt_test_loss, lldpt_test_acc = lldpt_model.evaluate(X_test, y_test)"
   ]
  },
  {
   "cell_type": "code",
   "execution_count": 187,
   "metadata": {},
   "outputs": [
    {
     "name": "stdout",
     "output_type": "stream",
     "text": [
      "0.71\n"
     ]
    }
   ],
   "source": [
    "print(lldpt_test_acc)"
   ]
  },
  {
   "cell_type": "markdown",
   "metadata": {},
   "source": [
    "Evidently, by increasing the layer densities, increasing the number of epochs, and introducing two evenly-spaced Dropout layers, we are getting slightly better performance with our neural network because there is less overfitting going on. "
   ]
  },
  {
   "cell_type": "markdown",
   "metadata": {},
   "source": [
    "## Adding Weight Regularization"
   ]
  },
  {
   "cell_type": "markdown",
   "metadata": {},
   "source": [
    "Weight regularization is another technique that can help us improve our model's performance. We can add L2 weight regularization to our 'lldpt_model', which stands for Larger Layer Dropout Model."
   ]
  },
  {
   "cell_type": "code",
   "execution_count": 188,
   "metadata": {},
   "outputs": [
    {
     "name": "stdout",
     "output_type": "stream",
     "text": [
      "Epoch 1/100\n",
      "800/800 [==============================] - 1s 2ms/step - loss: 3.0863 - acc: 0.2263\n",
      "Epoch 2/100\n",
      "800/800 [==============================] - 0s 233us/step - loss: 2.5949 - acc: 0.3775\n",
      "Epoch 3/100\n",
      "800/800 [==============================] - 0s 267us/step - loss: 2.3776 - acc: 0.4575\n",
      "Epoch 4/100\n",
      "800/800 [==============================] - 0s 236us/step - loss: 2.2154 - acc: 0.4925\n",
      "Epoch 5/100\n",
      "800/800 [==============================] - 0s 209us/step - loss: 2.1161 - acc: 0.5400\n",
      "Epoch 6/100\n",
      "800/800 [==============================] - 0s 202us/step - loss: 2.0316 - acc: 0.5575\n",
      "Epoch 7/100\n",
      "800/800 [==============================] - 0s 207us/step - loss: 1.9585 - acc: 0.5900\n",
      "Epoch 8/100\n",
      "800/800 [==============================] - 0s 179us/step - loss: 1.8842 - acc: 0.6225\n",
      "Epoch 9/100\n",
      "800/800 [==============================] - 0s 194us/step - loss: 1.8336 - acc: 0.6375\n",
      "Epoch 10/100\n",
      "800/800 [==============================] - 0s 198us/step - loss: 1.7624 - acc: 0.6600\n",
      "Epoch 11/100\n",
      "800/800 [==============================] - 0s 164us/step - loss: 1.7122 - acc: 0.6675\n",
      "Epoch 12/100\n",
      "800/800 [==============================] - 0s 159us/step - loss: 1.6847 - acc: 0.6638\n",
      "Epoch 13/100\n",
      "800/800 [==============================] - 0s 166us/step - loss: 1.6152 - acc: 0.6850\n",
      "Epoch 14/100\n",
      "800/800 [==============================] - 0s 162us/step - loss: 1.5991 - acc: 0.7087\n",
      "Epoch 15/100\n",
      "800/800 [==============================] - 0s 221us/step - loss: 1.5830 - acc: 0.7000\n",
      "Epoch 16/100\n",
      "800/800 [==============================] - 0s 189us/step - loss: 1.5333 - acc: 0.7162\n",
      "Epoch 17/100\n",
      "800/800 [==============================] - 0s 185us/step - loss: 1.4685 - acc: 0.7375\n",
      "Epoch 18/100\n",
      "800/800 [==============================] - 0s 213us/step - loss: 1.4706 - acc: 0.7300\n",
      "Epoch 19/100\n",
      "800/800 [==============================] - 0s 285us/step - loss: 1.4240 - acc: 0.7375\n",
      "Epoch 20/100\n",
      "800/800 [==============================] - 0s 226us/step - loss: 1.4057 - acc: 0.7338\n",
      "Epoch 21/100\n",
      "800/800 [==============================] - 0s 181us/step - loss: 1.3600 - acc: 0.7550\n",
      "Epoch 22/100\n",
      "800/800 [==============================] - 0s 179us/step - loss: 1.3447 - acc: 0.7450\n",
      "Epoch 23/100\n",
      "800/800 [==============================] - 0s 213us/step - loss: 1.3700 - acc: 0.7325\n",
      "Epoch 24/100\n",
      "800/800 [==============================] - 0s 182us/step - loss: 1.2918 - acc: 0.7750\n",
      "Epoch 25/100\n",
      "800/800 [==============================] - 0s 222us/step - loss: 1.2739 - acc: 0.7850\n",
      "Epoch 26/100\n",
      "800/800 [==============================] - 0s 186us/step - loss: 1.2860 - acc: 0.7650\n",
      "Epoch 27/100\n",
      "800/800 [==============================] - 0s 174us/step - loss: 1.2591 - acc: 0.7762\n",
      "Epoch 28/100\n",
      "800/800 [==============================] - 0s 177us/step - loss: 1.2072 - acc: 0.7863\n",
      "Epoch 29/100\n",
      "800/800 [==============================] - 0s 208us/step - loss: 1.2016 - acc: 0.8038\n",
      "Epoch 30/100\n",
      "800/800 [==============================] - 0s 257us/step - loss: 1.1776 - acc: 0.8013\n",
      "Epoch 31/100\n",
      "800/800 [==============================] - 0s 188us/step - loss: 1.1691 - acc: 0.8075\n",
      "Epoch 32/100\n",
      "800/800 [==============================] - 0s 178us/step - loss: 1.1755 - acc: 0.8113\n",
      "Epoch 33/100\n",
      "800/800 [==============================] - 0s 192us/step - loss: 1.1388 - acc: 0.8013\n",
      "Epoch 34/100\n",
      "800/800 [==============================] - 0s 172us/step - loss: 1.1012 - acc: 0.8200\n",
      "Epoch 35/100\n",
      "800/800 [==============================] - 0s 182us/step - loss: 1.0977 - acc: 0.8137\n",
      "Epoch 36/100\n",
      "800/800 [==============================] - 0s 182us/step - loss: 1.0962 - acc: 0.8175\n",
      "Epoch 37/100\n",
      "800/800 [==============================] - 0s 195us/step - loss: 1.0935 - acc: 0.8000\n",
      "Epoch 38/100\n",
      "800/800 [==============================] - 0s 174us/step - loss: 1.0651 - acc: 0.8313\n",
      "Epoch 39/100\n",
      "800/800 [==============================] - 0s 168us/step - loss: 1.0548 - acc: 0.8212\n",
      "Epoch 40/100\n",
      "800/800 [==============================] - 0s 162us/step - loss: 1.0413 - acc: 0.8300\n",
      "Epoch 41/100\n",
      "800/800 [==============================] - 0s 184us/step - loss: 1.0186 - acc: 0.8450\n",
      "Epoch 42/100\n",
      "800/800 [==============================] - 0s 187us/step - loss: 0.9909 - acc: 0.8450\n",
      "Epoch 43/100\n",
      "800/800 [==============================] - 0s 231us/step - loss: 0.9605 - acc: 0.8588\n",
      "Epoch 44/100\n",
      "800/800 [==============================] - 0s 194us/step - loss: 0.9690 - acc: 0.8600\n",
      "Epoch 45/100\n",
      "800/800 [==============================] - 0s 174us/step - loss: 0.9272 - acc: 0.8663\n",
      "Epoch 46/100\n",
      "800/800 [==============================] - 0s 159us/step - loss: 0.9373 - acc: 0.8600\n",
      "Epoch 47/100\n",
      "800/800 [==============================] - 0s 142us/step - loss: 0.8910 - acc: 0.8712\n",
      "Epoch 48/100\n",
      "800/800 [==============================] - 0s 148us/step - loss: 0.9342 - acc: 0.8638\n",
      "Epoch 49/100\n",
      "800/800 [==============================] - 0s 149us/step - loss: 0.9094 - acc: 0.8750\n",
      "Epoch 50/100\n",
      "800/800 [==============================] - 0s 171us/step - loss: 0.8888 - acc: 0.8837\n",
      "Epoch 51/100\n",
      "800/800 [==============================] - 0s 176us/step - loss: 0.8879 - acc: 0.8837\n",
      "Epoch 52/100\n",
      "800/800 [==============================] - 0s 167us/step - loss: 0.8727 - acc: 0.8900\n",
      "Epoch 53/100\n",
      "800/800 [==============================] - 0s 148us/step - loss: 0.8562 - acc: 0.8837\n",
      "Epoch 54/100\n",
      "800/800 [==============================] - 0s 177us/step - loss: 0.8370 - acc: 0.8950\n",
      "Epoch 55/100\n",
      "800/800 [==============================] - 0s 172us/step - loss: 0.8489 - acc: 0.8925\n",
      "Epoch 56/100\n",
      "800/800 [==============================] - 0s 163us/step - loss: 0.8352 - acc: 0.8912\n",
      "Epoch 57/100\n",
      "800/800 [==============================] - 0s 149us/step - loss: 0.8355 - acc: 0.8888\n",
      "Epoch 58/100\n",
      "800/800 [==============================] - 0s 144us/step - loss: 0.8245 - acc: 0.8925\n",
      "Epoch 59/100\n",
      "800/800 [==============================] - 0s 158us/step - loss: 0.8017 - acc: 0.8962\n",
      "Epoch 60/100\n",
      "800/800 [==============================] - 0s 168us/step - loss: 0.8083 - acc: 0.8987\n",
      "Epoch 61/100\n",
      "800/800 [==============================] - 0s 166us/step - loss: 0.7861 - acc: 0.9075\n",
      "Epoch 62/100\n",
      "800/800 [==============================] - 0s 161us/step - loss: 0.7973 - acc: 0.8987\n",
      "Epoch 63/100\n",
      "800/800 [==============================] - 0s 160us/step - loss: 0.7504 - acc: 0.9163\n",
      "Epoch 64/100\n",
      "800/800 [==============================] - 0s 182us/step - loss: 0.7731 - acc: 0.8938\n",
      "Epoch 65/100\n",
      "800/800 [==============================] - 0s 162us/step - loss: 0.7644 - acc: 0.9025\n",
      "Epoch 66/100\n",
      "800/800 [==============================] - 0s 161us/step - loss: 0.7482 - acc: 0.9088\n",
      "Epoch 67/100\n",
      "800/800 [==============================] - 0s 162us/step - loss: 0.7296 - acc: 0.9175\n",
      "Epoch 68/100\n",
      "800/800 [==============================] - 0s 199us/step - loss: 0.7492 - acc: 0.8975\n",
      "Epoch 69/100\n",
      "800/800 [==============================] - 0s 204us/step - loss: 0.7464 - acc: 0.9025\n",
      "Epoch 70/100\n",
      "800/800 [==============================] - 0s 167us/step - loss: 0.7211 - acc: 0.9225\n",
      "Epoch 71/100\n",
      "800/800 [==============================] - 0s 168us/step - loss: 0.7217 - acc: 0.9250\n",
      "Epoch 72/100\n",
      "800/800 [==============================] - 0s 186us/step - loss: 0.7276 - acc: 0.9138\n",
      "Epoch 73/100\n",
      "800/800 [==============================] - 0s 149us/step - loss: 0.7260 - acc: 0.9062\n",
      "Epoch 74/100\n",
      "800/800 [==============================] - 0s 150us/step - loss: 0.7004 - acc: 0.9288\n",
      "Epoch 75/100\n",
      "800/800 [==============================] - 0s 155us/step - loss: 0.6714 - acc: 0.9337\n",
      "Epoch 76/100\n",
      "800/800 [==============================] - 0s 205us/step - loss: 0.7289 - acc: 0.9125\n",
      "Epoch 77/100\n",
      "800/800 [==============================] - 0s 211us/step - loss: 0.6851 - acc: 0.9288\n",
      "Epoch 78/100\n",
      "800/800 [==============================] - 0s 160us/step - loss: 0.6758 - acc: 0.9375\n",
      "Epoch 79/100\n",
      "800/800 [==============================] - 0s 156us/step - loss: 0.6680 - acc: 0.9337\n",
      "Epoch 80/100\n",
      "800/800 [==============================] - 0s 154us/step - loss: 0.6508 - acc: 0.9375\n",
      "Epoch 81/100\n",
      "800/800 [==============================] - 0s 180us/step - loss: 0.6452 - acc: 0.9288\n",
      "Epoch 82/100\n",
      "800/800 [==============================] - 0s 160us/step - loss: 0.6716 - acc: 0.9263\n",
      "Epoch 83/100\n"
     ]
    },
    {
     "name": "stdout",
     "output_type": "stream",
     "text": [
      "800/800 [==============================] - 0s 160us/step - loss: 0.6636 - acc: 0.9400\n",
      "Epoch 84/100\n",
      "800/800 [==============================] - 0s 152us/step - loss: 0.6529 - acc: 0.9325\n",
      "Epoch 85/100\n",
      "800/800 [==============================] - 0s 168us/step - loss: 0.6473 - acc: 0.9363\n",
      "Epoch 86/100\n",
      "800/800 [==============================] - 0s 195us/step - loss: 0.6735 - acc: 0.9125\n",
      "Epoch 87/100\n",
      "800/800 [==============================] - 0s 146us/step - loss: 0.6571 - acc: 0.9312\n",
      "Epoch 88/100\n",
      "800/800 [==============================] - 0s 153us/step - loss: 0.6361 - acc: 0.9350\n",
      "Epoch 89/100\n",
      "800/800 [==============================] - 0s 150us/step - loss: 0.6457 - acc: 0.9288\n",
      "Epoch 90/100\n",
      "800/800 [==============================] - 0s 213us/step - loss: 0.6175 - acc: 0.9475\n",
      "Epoch 91/100\n",
      "800/800 [==============================] - 0s 191us/step - loss: 0.6194 - acc: 0.9288\n",
      "Epoch 92/100\n",
      "800/800 [==============================] - 0s 178us/step - loss: 0.6195 - acc: 0.9300\n",
      "Epoch 93/100\n",
      "800/800 [==============================] - 0s 238us/step - loss: 0.6025 - acc: 0.9525\n",
      "Epoch 94/100\n",
      "800/800 [==============================] - 0s 219us/step - loss: 0.5996 - acc: 0.9413\n",
      "Epoch 95/100\n",
      "800/800 [==============================] - 0s 164us/step - loss: 0.6432 - acc: 0.9250\n",
      "Epoch 96/100\n",
      "800/800 [==============================] - 0s 196us/step - loss: 0.5968 - acc: 0.9462\n",
      "Epoch 97/100\n",
      "800/800 [==============================] - 0s 160us/step - loss: 0.6089 - acc: 0.9413\n",
      "Epoch 98/100\n",
      "800/800 [==============================] - 0s 152us/step - loss: 0.6139 - acc: 0.9350\n",
      "Epoch 99/100\n",
      "800/800 [==============================] - 0s 206us/step - loss: 0.5834 - acc: 0.9550\n",
      "Epoch 100/100\n",
      "800/800 [==============================] - 0s 265us/step - loss: 0.5823 - acc: 0.9525\n"
     ]
    }
   ],
   "source": [
    "# Add L2 weight regularization to 'lldpt_model'\n",
    "# Model with dropout and larger layers\n",
    "lldpt_model = models.Sequential()\n",
    "\n",
    "# Specify and add layers to the model.\n",
    "# We will be regularizing each dense layer.\n",
    "lldpt_model.add(layers.Dense(1024, \n",
    "                             kernel_regularizer=keras.regularizers.l2(0.001),\n",
    "                             activation='relu',  \n",
    "                             input_shape=(X_train.shape[1],)))\n",
    "lldpt_model.add(layers.Dropout(0.5))  # Dropout layer 1\n",
    "lldpt_model.add(layers.Dense(512, \n",
    "                             kernel_regularizer=keras.regularizers.l2(0.001),\n",
    "                             activation='relu'))\n",
    "lldpt_model.add(layers.Dropout(0.5))  # Dropout layer 2\n",
    "lldpt_model.add(layers.Dense(128, \n",
    "                             kernel_regularizer=keras.regularizers.l2(0.001),\n",
    "                             activation='relu'))\n",
    "\n",
    "# Add final softmax layer to map output of network to a probability distribution.\n",
    "# The size of the softmax layer must be 10 because we have 10\n",
    "# different genres.\n",
    "lldpt_model.add(layers.Dense(10, activation='softmax'))\n",
    "\n",
    "lldpt_model.compile(optimizer='adam', \n",
    "              loss='sparse_categorical_crossentropy', \n",
    "              metrics=['accuracy'])\n",
    "\n",
    "l2_model_history = lldpt_model.fit(X_train, y_train, epochs=100,\n",
    "                    batch_size=128)"
   ]
  },
  {
   "cell_type": "code",
   "execution_count": 189,
   "metadata": {},
   "outputs": [
    {
     "name": "stdout",
     "output_type": "stream",
     "text": [
      "200/200 [==============================] - 0s 2ms/step\n"
     ]
    }
   ],
   "source": [
    "# Evaluate accuracy and loss with dropout\n",
    "l2_test_loss, l2_test_acc = lldpt_model.evaluate(X_test, y_test)"
   ]
  },
  {
   "cell_type": "code",
   "execution_count": 190,
   "metadata": {},
   "outputs": [
    {
     "name": "stdout",
     "output_type": "stream",
     "text": [
      "0.74\n"
     ]
    }
   ],
   "source": [
    "print(l2_test_acc)"
   ]
  },
  {
   "cell_type": "markdown",
   "metadata": {},
   "source": [
    "With both weight regularization and dropout, the performance of the model has been significantly improved. We can now compare the performance of our baseline model, dropout model, and larger layer dropout model with weight regularization ('lldpt_model') using a section of our training data as a validation set."
   ]
  },
  {
   "cell_type": "markdown",
   "metadata": {},
   "source": [
    "## Comparing Model Performance"
   ]
  },
  {
   "cell_type": "code",
   "execution_count": 191,
   "metadata": {},
   "outputs": [],
   "source": [
    "# Set aside a section of our training data as a validation set.\n",
    "# Let us set aside 200 samples in the training data.\n",
    "partial_x_train = X_train[200:]\n",
    "partial_y_train = y_train[200:]\n",
    "\n",
    "# Take subsets of X and y for validation data.\n",
    "x_val = X_train[:200]\n",
    "y_val = y_train[:200]"
   ]
  },
  {
   "cell_type": "markdown",
   "metadata": {},
   "source": [
    "### Baseline Model"
   ]
  },
  {
   "cell_type": "code",
   "execution_count": 192,
   "metadata": {},
   "outputs": [
    {
     "name": "stdout",
     "output_type": "stream",
     "text": [
      "Train on 600 samples, validate on 200 samples\n",
      "Epoch 1/30\n",
      "600/600 [==============================] - 0s 15us/step - loss: 0.0136 - acc: 1.0000 - val_loss: 0.0160 - val_acc: 1.0000\n",
      "Epoch 2/30\n",
      "600/600 [==============================] - 0s 21us/step - loss: 0.0144 - acc: 0.9983 - val_loss: 0.0153 - val_acc: 1.0000\n",
      "Epoch 3/30\n",
      "600/600 [==============================] - 0s 22us/step - loss: 0.0149 - acc: 0.9983 - val_loss: 0.0155 - val_acc: 1.0000\n",
      "Epoch 4/30\n",
      "600/600 [==============================] - 0s 20us/step - loss: 0.0144 - acc: 0.9983 - val_loss: 0.0180 - val_acc: 0.9950\n",
      "Epoch 5/30\n",
      "600/600 [==============================] - 0s 13us/step - loss: 0.0131 - acc: 1.0000 - val_loss: 0.0262 - val_acc: 0.9950\n",
      "Epoch 6/30\n",
      "600/600 [==============================] - 0s 18us/step - loss: 0.0124 - acc: 1.0000 - val_loss: 0.0344 - val_acc: 0.9950\n",
      "Epoch 7/30\n",
      "600/600 [==============================] - 0s 19us/step - loss: 0.0129 - acc: 1.0000 - val_loss: 0.0397 - val_acc: 0.9950\n",
      "Epoch 8/30\n",
      "600/600 [==============================] - 0s 16us/step - loss: 0.0133 - acc: 1.0000 - val_loss: 0.0406 - val_acc: 0.9950\n",
      "Epoch 9/30\n",
      "600/600 [==============================] - 0s 18us/step - loss: 0.0129 - acc: 1.0000 - val_loss: 0.0378 - val_acc: 0.9950\n",
      "Epoch 10/30\n",
      "600/600 [==============================] - 0s 19us/step - loss: 0.0122 - acc: 1.0000 - val_loss: 0.0341 - val_acc: 0.9950\n",
      "Epoch 11/30\n",
      "600/600 [==============================] - 0s 16us/step - loss: 0.0119 - acc: 1.0000 - val_loss: 0.0311 - val_acc: 0.9950\n",
      "Epoch 12/30\n",
      "600/600 [==============================] - 0s 28us/step - loss: 0.0116 - acc: 1.0000 - val_loss: 0.0291 - val_acc: 0.9950\n",
      "Epoch 13/30\n",
      "600/600 [==============================] - 0s 25us/step - loss: 0.0114 - acc: 1.0000 - val_loss: 0.0280 - val_acc: 0.9950\n",
      "Epoch 14/30\n",
      "600/600 [==============================] - 0s 18us/step - loss: 0.0112 - acc: 1.0000 - val_loss: 0.0277 - val_acc: 0.9950\n",
      "Epoch 15/30\n",
      "600/600 [==============================] - 0s 29us/step - loss: 0.0110 - acc: 1.0000 - val_loss: 0.0282 - val_acc: 0.9950\n",
      "Epoch 16/30\n",
      "600/600 [==============================] - 0s 28us/step - loss: 0.0109 - acc: 1.0000 - val_loss: 0.0301 - val_acc: 0.9950\n",
      "Epoch 17/30\n",
      "600/600 [==============================] - 0s 20us/step - loss: 0.0106 - acc: 1.0000 - val_loss: 0.0331 - val_acc: 0.9950\n",
      "Epoch 18/30\n",
      "600/600 [==============================] - 0s 26us/step - loss: 0.0105 - acc: 1.0000 - val_loss: 0.0359 - val_acc: 0.9950\n",
      "Epoch 19/30\n",
      "600/600 [==============================] - 0s 30us/step - loss: 0.0106 - acc: 1.0000 - val_loss: 0.0382 - val_acc: 0.9950\n",
      "Epoch 20/30\n",
      "600/600 [==============================] - 0s 24us/step - loss: 0.0104 - acc: 1.0000 - val_loss: 0.0393 - val_acc: 0.9950\n",
      "Epoch 21/30\n",
      "600/600 [==============================] - 0s 26us/step - loss: 0.0101 - acc: 1.0000 - val_loss: 0.0395 - val_acc: 0.9950\n",
      "Epoch 22/30\n",
      "600/600 [==============================] - 0s 19us/step - loss: 0.0099 - acc: 1.0000 - val_loss: 0.0388 - val_acc: 0.9950\n",
      "Epoch 23/30\n",
      "600/600 [==============================] - 0s 20us/step - loss: 0.0098 - acc: 1.0000 - val_loss: 0.0379 - val_acc: 0.9950\n",
      "Epoch 24/30\n",
      "600/600 [==============================] - 0s 20us/step - loss: 0.0096 - acc: 1.0000 - val_loss: 0.0370 - val_acc: 0.9950\n",
      "Epoch 25/30\n",
      "600/600 [==============================] - 0s 25us/step - loss: 0.0095 - acc: 1.0000 - val_loss: 0.0364 - val_acc: 0.9950\n",
      "Epoch 26/30\n",
      "600/600 [==============================] - 0s 26us/step - loss: 0.0094 - acc: 1.0000 - val_loss: 0.0361 - val_acc: 0.9950\n",
      "Epoch 27/30\n",
      "600/600 [==============================] - 0s 37us/step - loss: 0.0093 - acc: 1.0000 - val_loss: 0.0362 - val_acc: 0.9950\n",
      "Epoch 28/30\n",
      "600/600 [==============================] - 0s 32us/step - loss: 0.0092 - acc: 1.0000 - val_loss: 0.0366 - val_acc: 0.9950\n",
      "Epoch 29/30\n",
      "600/600 [==============================] - 0s 24us/step - loss: 0.0091 - acc: 1.0000 - val_loss: 0.0372 - val_acc: 0.9950\n",
      "Epoch 30/30\n",
      "600/600 [==============================] - 0s 18us/step - loss: 0.0090 - acc: 1.0000 - val_loss: 0.0379 - val_acc: 0.9950\n",
      "200/200 [==============================] - 0s 58us/step\n"
     ]
    }
   ],
   "source": [
    "model.fit(partial_x_train,\n",
    "          partial_y_train,\n",
    "          epochs=30,\n",
    "          batch_size=512,\n",
    "          validation_data=(x_val, y_val))\n",
    "results = model.evaluate(X_test, y_test)"
   ]
  },
  {
   "cell_type": "code",
   "execution_count": 193,
   "metadata": {},
   "outputs": [
    {
     "name": "stdout",
     "output_type": "stream",
     "text": [
      "[1.33410813331604, 0.68]\n"
     ]
    }
   ],
   "source": [
    "print(results)"
   ]
  },
  {
   "cell_type": "markdown",
   "metadata": {},
   "source": [
    "### Dropout Model"
   ]
  },
  {
   "cell_type": "code",
   "execution_count": 194,
   "metadata": {},
   "outputs": [
    {
     "name": "stdout",
     "output_type": "stream",
     "text": [
      "Train on 600 samples, validate on 200 samples\n",
      "Epoch 1/30\n",
      "600/600 [==============================] - 0s 49us/step - loss: 0.1770 - acc: 0.9517 - val_loss: 0.0753 - val_acc: 0.9850\n",
      "Epoch 2/30\n",
      "600/600 [==============================] - 0s 45us/step - loss: 0.1729 - acc: 0.9450 - val_loss: 0.0751 - val_acc: 0.9850\n",
      "Epoch 3/30\n",
      "600/600 [==============================] - 0s 47us/step - loss: 0.1735 - acc: 0.9567 - val_loss: 0.0745 - val_acc: 0.9850\n",
      "Epoch 4/30\n",
      "600/600 [==============================] - 0s 64us/step - loss: 0.1514 - acc: 0.9517 - val_loss: 0.0755 - val_acc: 0.9850\n",
      "Epoch 5/30\n",
      "600/600 [==============================] - 0s 37us/step - loss: 0.1799 - acc: 0.9417 - val_loss: 0.0791 - val_acc: 0.9900\n",
      "Epoch 6/30\n",
      "600/600 [==============================] - 0s 44us/step - loss: 0.1711 - acc: 0.9517 - val_loss: 0.0830 - val_acc: 0.9950\n",
      "Epoch 7/30\n",
      "600/600 [==============================] - 0s 23us/step - loss: 0.1434 - acc: 0.9650 - val_loss: 0.0842 - val_acc: 0.9850\n",
      "Epoch 8/30\n",
      "600/600 [==============================] - 0s 40us/step - loss: 0.1495 - acc: 0.9617 - val_loss: 0.0853 - val_acc: 0.9800\n",
      "Epoch 9/30\n",
      "600/600 [==============================] - 0s 29us/step - loss: 0.1684 - acc: 0.9567 - val_loss: 0.0868 - val_acc: 0.9750\n",
      "Epoch 10/30\n",
      "600/600 [==============================] - 0s 29us/step - loss: 0.1467 - acc: 0.9600 - val_loss: 0.0884 - val_acc: 0.9750\n",
      "Epoch 11/30\n",
      "600/600 [==============================] - 0s 32us/step - loss: 0.1437 - acc: 0.9633 - val_loss: 0.0898 - val_acc: 0.9800\n",
      "Epoch 12/30\n",
      "600/600 [==============================] - 0s 28us/step - loss: 0.1475 - acc: 0.9583 - val_loss: 0.0916 - val_acc: 0.9800\n",
      "Epoch 13/30\n",
      "600/600 [==============================] - 0s 33us/step - loss: 0.1395 - acc: 0.9633 - val_loss: 0.0926 - val_acc: 0.9750\n",
      "Epoch 14/30\n",
      "600/600 [==============================] - 0s 29us/step - loss: 0.1367 - acc: 0.9717 - val_loss: 0.0930 - val_acc: 0.9750\n",
      "Epoch 15/30\n",
      "600/600 [==============================] - 0s 33us/step - loss: 0.1396 - acc: 0.9633 - val_loss: 0.0949 - val_acc: 0.9750\n",
      "Epoch 16/30\n",
      "600/600 [==============================] - 0s 27us/step - loss: 0.1375 - acc: 0.9650 - val_loss: 0.0960 - val_acc: 0.9750\n",
      "Epoch 17/30\n",
      "600/600 [==============================] - 0s 27us/step - loss: 0.1399 - acc: 0.9617 - val_loss: 0.0969 - val_acc: 0.9750\n",
      "Epoch 18/30\n",
      "600/600 [==============================] - 0s 25us/step - loss: 0.1494 - acc: 0.9567 - val_loss: 0.0981 - val_acc: 0.9750\n",
      "Epoch 19/30\n",
      "600/600 [==============================] - 0s 29us/step - loss: 0.1223 - acc: 0.9633 - val_loss: 0.0993 - val_acc: 0.9700\n",
      "Epoch 20/30\n",
      "600/600 [==============================] - 0s 37us/step - loss: 0.1368 - acc: 0.9683 - val_loss: 0.1012 - val_acc: 0.9650\n",
      "Epoch 21/30\n",
      "600/600 [==============================] - 0s 30us/step - loss: 0.1282 - acc: 0.9783 - val_loss: 0.1027 - val_acc: 0.9650\n",
      "Epoch 22/30\n",
      "600/600 [==============================] - 0s 34us/step - loss: 0.1306 - acc: 0.9667 - val_loss: 0.1034 - val_acc: 0.9700\n",
      "Epoch 23/30\n",
      "600/600 [==============================] - 0s 26us/step - loss: 0.1378 - acc: 0.9633 - val_loss: 0.1042 - val_acc: 0.9650\n",
      "Epoch 24/30\n",
      "600/600 [==============================] - 0s 29us/step - loss: 0.1329 - acc: 0.9650 - val_loss: 0.1069 - val_acc: 0.9650\n",
      "Epoch 25/30\n",
      "600/600 [==============================] - 0s 30us/step - loss: 0.1172 - acc: 0.9683 - val_loss: 0.1112 - val_acc: 0.9600\n",
      "Epoch 26/30\n",
      "600/600 [==============================] - 0s 38us/step - loss: 0.1242 - acc: 0.9633 - val_loss: 0.1149 - val_acc: 0.9550\n",
      "Epoch 27/30\n",
      "600/600 [==============================] - 0s 32us/step - loss: 0.1262 - acc: 0.9683 - val_loss: 0.1185 - val_acc: 0.9550\n",
      "Epoch 28/30\n",
      "600/600 [==============================] - 0s 33us/step - loss: 0.1040 - acc: 0.9750 - val_loss: 0.1239 - val_acc: 0.9550\n",
      "Epoch 29/30\n",
      "600/600 [==============================] - 0s 23us/step - loss: 0.1244 - acc: 0.9633 - val_loss: 0.1267 - val_acc: 0.9550\n",
      "Epoch 30/30\n",
      "600/600 [==============================] - 0s 31us/step - loss: 0.1266 - acc: 0.9617 - val_loss: 0.1273 - val_acc: 0.9550\n",
      "200/200 [==============================] - 0s 80us/step\n"
     ]
    }
   ],
   "source": [
    "dpt_model.fit(partial_x_train,\n",
    "              partial_y_train,\n",
    "              epochs=30,\n",
    "              batch_size=512,\n",
    "              validation_data=(x_val, y_val))\n",
    "results = dpt_model.evaluate(X_test, y_test)"
   ]
  },
  {
   "cell_type": "code",
   "execution_count": 195,
   "metadata": {},
   "outputs": [
    {
     "name": "stdout",
     "output_type": "stream",
     "text": [
      "[0.8921957302093506, 0.71]\n"
     ]
    }
   ],
   "source": [
    "print(results)"
   ]
  },
  {
   "cell_type": "markdown",
   "metadata": {},
   "source": [
    "### Large-layer Dropout Model with Weight Regularization"
   ]
  },
  {
   "cell_type": "code",
   "execution_count": 196,
   "metadata": {},
   "outputs": [
    {
     "name": "stdout",
     "output_type": "stream",
     "text": [
      "Epoch 1/30\n",
      "600/600 [==============================] - 0s 160us/step - loss: 0.5840 - acc: 0.9483\n",
      "Epoch 2/30\n",
      "600/600 [==============================] - 0s 146us/step - loss: 0.5857 - acc: 0.9483\n",
      "Epoch 3/30\n",
      "600/600 [==============================] - 0s 108us/step - loss: 0.5715 - acc: 0.9533\n",
      "Epoch 4/30\n",
      "600/600 [==============================] - 0s 93us/step - loss: 0.5801 - acc: 0.9550\n",
      "Epoch 5/30\n",
      "600/600 [==============================] - 0s 92us/step - loss: 0.5489 - acc: 0.9733\n",
      "Epoch 6/30\n",
      "600/600 [==============================] - 0s 100us/step - loss: 0.5394 - acc: 0.9717\n",
      "Epoch 7/30\n",
      "600/600 [==============================] - 0s 87us/step - loss: 0.5503 - acc: 0.9617\n",
      "Epoch 8/30\n",
      "600/600 [==============================] - 0s 98us/step - loss: 0.5560 - acc: 0.9550\n",
      "Epoch 9/30\n",
      "600/600 [==============================] - 0s 104us/step - loss: 0.5454 - acc: 0.9600\n",
      "Epoch 10/30\n",
      "600/600 [==============================] - 0s 117us/step - loss: 0.5237 - acc: 0.9733\n",
      "Epoch 11/30\n",
      "600/600 [==============================] - 0s 108us/step - loss: 0.5436 - acc: 0.9550\n",
      "Epoch 12/30\n",
      "600/600 [==============================] - 0s 113us/step - loss: 0.5292 - acc: 0.9700\n",
      "Epoch 13/30\n",
      "600/600 [==============================] - 0s 117us/step - loss: 0.5323 - acc: 0.9683\n",
      "Epoch 14/30\n",
      "600/600 [==============================] - 0s 117us/step - loss: 0.5303 - acc: 0.9717\n",
      "Epoch 15/30\n",
      "600/600 [==============================] - 0s 116us/step - loss: 0.5181 - acc: 0.9733\n",
      "Epoch 16/30\n",
      "600/600 [==============================] - 0s 93us/step - loss: 0.5124 - acc: 0.9717\n",
      "Epoch 17/30\n",
      "600/600 [==============================] - 0s 108us/step - loss: 0.5194 - acc: 0.9717\n",
      "Epoch 18/30\n",
      "600/600 [==============================] - 0s 99us/step - loss: 0.5163 - acc: 0.9650\n",
      "Epoch 19/30\n",
      "600/600 [==============================] - 0s 98us/step - loss: 0.5146 - acc: 0.9700\n",
      "Epoch 20/30\n",
      "600/600 [==============================] - 0s 102us/step - loss: 0.5240 - acc: 0.9667\n",
      "Epoch 21/30\n",
      "600/600 [==============================] - 0s 102us/step - loss: 0.5190 - acc: 0.9700\n",
      "Epoch 22/30\n",
      "600/600 [==============================] - 0s 126us/step - loss: 0.4887 - acc: 0.9800\n",
      "Epoch 23/30\n",
      "600/600 [==============================] - 0s 120us/step - loss: 0.5216 - acc: 0.9733\n",
      "Epoch 24/30\n",
      "600/600 [==============================] - 0s 127us/step - loss: 0.5221 - acc: 0.9783\n",
      "Epoch 25/30\n",
      "600/600 [==============================] - 0s 109us/step - loss: 0.5013 - acc: 0.9733\n",
      "Epoch 26/30\n",
      "600/600 [==============================] - 0s 115us/step - loss: 0.5006 - acc: 0.9717\n",
      "Epoch 27/30\n",
      "600/600 [==============================] - 0s 89us/step - loss: 0.4819 - acc: 0.9800\n",
      "Epoch 28/30\n",
      "600/600 [==============================] - 0s 101us/step - loss: 0.5061 - acc: 0.9683\n",
      "Epoch 29/30\n",
      "600/600 [==============================] - 0s 97us/step - loss: 0.4870 - acc: 0.9817\n",
      "Epoch 30/30\n",
      "600/600 [==============================] - 0s 125us/step - loss: 0.4870 - acc: 0.9767\n",
      "200/200 [==============================] - 0s 174us/step\n"
     ]
    }
   ],
   "source": [
    "lldpt_model.fit(partial_x_train,\n",
    "              partial_y_train,\n",
    "              epochs=30,\n",
    "              batch_size=512)\n",
    "results = lldpt_model.evaluate(X_test, y_test)"
   ]
  },
  {
   "cell_type": "code",
   "execution_count": 197,
   "metadata": {},
   "outputs": [
    {
     "name": "stdout",
     "output_type": "stream",
     "text": [
      "[1.35847261428833, 0.74]\n"
     ]
    }
   ],
   "source": [
    "print(results)"
   ]
  },
  {
   "cell_type": "markdown",
   "metadata": {},
   "source": [
    "Overall, we gain about a 4-5% increase over the baseline in accuracy when we use just the dropout model with weight regularization. In this regard, both the normal dropout model and the weight regularized dropout model are performing evenly. However, there is less loss on the latter model."
   ]
  },
  {
   "cell_type": "markdown",
   "metadata": {},
   "source": [
    "## Predictions on Test Data"
   ]
  },
  {
   "cell_type": "code",
   "execution_count": 174,
   "metadata": {},
   "outputs": [
    {
     "ename": "ValueError",
     "evalue": "Error when checking input: expected dense_61_input to have shape (11,) but got array with shape (26,)",
     "output_type": "error",
     "traceback": [
      "\u001b[0;31m---------------------------------------------------------------------------\u001b[0m",
      "\u001b[0;31mValueError\u001b[0m                                Traceback (most recent call last)",
      "\u001b[0;32m<ipython-input-174-f3fb3a6ed707>\u001b[0m in \u001b[0;36m<module>\u001b[0;34m\u001b[0m\n\u001b[0;32m----> 1\u001b[0;31m \u001b[0mpredictions\u001b[0m \u001b[0;34m=\u001b[0m \u001b[0mlldpt_model\u001b[0m\u001b[0;34m.\u001b[0m\u001b[0mpredict\u001b[0m\u001b[0;34m(\u001b[0m\u001b[0mX_test\u001b[0m\u001b[0;34m)\u001b[0m\u001b[0;34m\u001b[0m\u001b[0;34m\u001b[0m\u001b[0m\n\u001b[0m",
      "\u001b[0;32m~/.local/lib/python3.6/site-packages/keras/engine/training.py\u001b[0m in \u001b[0;36mpredict\u001b[0;34m(self, x, batch_size, verbose, steps)\u001b[0m\n\u001b[1;32m   1147\u001b[0m                              'argument.')\n\u001b[1;32m   1148\u001b[0m         \u001b[0;31m# Validate user data.\u001b[0m\u001b[0;34m\u001b[0m\u001b[0;34m\u001b[0m\u001b[0;34m\u001b[0m\u001b[0m\n\u001b[0;32m-> 1149\u001b[0;31m         \u001b[0mx\u001b[0m\u001b[0;34m,\u001b[0m \u001b[0m_\u001b[0m\u001b[0;34m,\u001b[0m \u001b[0m_\u001b[0m \u001b[0;34m=\u001b[0m \u001b[0mself\u001b[0m\u001b[0;34m.\u001b[0m\u001b[0m_standardize_user_data\u001b[0m\u001b[0;34m(\u001b[0m\u001b[0mx\u001b[0m\u001b[0;34m)\u001b[0m\u001b[0;34m\u001b[0m\u001b[0;34m\u001b[0m\u001b[0m\n\u001b[0m\u001b[1;32m   1150\u001b[0m         \u001b[0;32mif\u001b[0m \u001b[0mself\u001b[0m\u001b[0;34m.\u001b[0m\u001b[0mstateful\u001b[0m\u001b[0;34m:\u001b[0m\u001b[0;34m\u001b[0m\u001b[0;34m\u001b[0m\u001b[0m\n\u001b[1;32m   1151\u001b[0m             \u001b[0;32mif\u001b[0m \u001b[0mx\u001b[0m\u001b[0;34m[\u001b[0m\u001b[0;36m0\u001b[0m\u001b[0;34m]\u001b[0m\u001b[0;34m.\u001b[0m\u001b[0mshape\u001b[0m\u001b[0;34m[\u001b[0m\u001b[0;36m0\u001b[0m\u001b[0;34m]\u001b[0m \u001b[0;34m>\u001b[0m \u001b[0mbatch_size\u001b[0m \u001b[0;32mand\u001b[0m \u001b[0mx\u001b[0m\u001b[0;34m[\u001b[0m\u001b[0;36m0\u001b[0m\u001b[0;34m]\u001b[0m\u001b[0;34m.\u001b[0m\u001b[0mshape\u001b[0m\u001b[0;34m[\u001b[0m\u001b[0;36m0\u001b[0m\u001b[0;34m]\u001b[0m \u001b[0;34m%\u001b[0m \u001b[0mbatch_size\u001b[0m \u001b[0;34m!=\u001b[0m \u001b[0;36m0\u001b[0m\u001b[0;34m:\u001b[0m\u001b[0;34m\u001b[0m\u001b[0;34m\u001b[0m\u001b[0m\n",
      "\u001b[0;32m~/.local/lib/python3.6/site-packages/keras/engine/training.py\u001b[0m in \u001b[0;36m_standardize_user_data\u001b[0;34m(self, x, y, sample_weight, class_weight, check_array_lengths, batch_size)\u001b[0m\n\u001b[1;32m    749\u001b[0m             \u001b[0mfeed_input_shapes\u001b[0m\u001b[0;34m,\u001b[0m\u001b[0;34m\u001b[0m\u001b[0;34m\u001b[0m\u001b[0m\n\u001b[1;32m    750\u001b[0m             \u001b[0mcheck_batch_axis\u001b[0m\u001b[0;34m=\u001b[0m\u001b[0;32mFalse\u001b[0m\u001b[0;34m,\u001b[0m  \u001b[0;31m# Don't enforce the batch size.\u001b[0m\u001b[0;34m\u001b[0m\u001b[0;34m\u001b[0m\u001b[0m\n\u001b[0;32m--> 751\u001b[0;31m             exception_prefix='input')\n\u001b[0m\u001b[1;32m    752\u001b[0m \u001b[0;34m\u001b[0m\u001b[0m\n\u001b[1;32m    753\u001b[0m         \u001b[0;32mif\u001b[0m \u001b[0my\u001b[0m \u001b[0;32mis\u001b[0m \u001b[0;32mnot\u001b[0m \u001b[0;32mNone\u001b[0m\u001b[0;34m:\u001b[0m\u001b[0;34m\u001b[0m\u001b[0;34m\u001b[0m\u001b[0m\n",
      "\u001b[0;32m~/.local/lib/python3.6/site-packages/keras/engine/training_utils.py\u001b[0m in \u001b[0;36mstandardize_input_data\u001b[0;34m(data, names, shapes, check_batch_axis, exception_prefix)\u001b[0m\n\u001b[1;32m    136\u001b[0m                             \u001b[0;34m': expected '\u001b[0m \u001b[0;34m+\u001b[0m \u001b[0mnames\u001b[0m\u001b[0;34m[\u001b[0m\u001b[0mi\u001b[0m\u001b[0;34m]\u001b[0m \u001b[0;34m+\u001b[0m \u001b[0;34m' to have shape '\u001b[0m \u001b[0;34m+\u001b[0m\u001b[0;34m\u001b[0m\u001b[0;34m\u001b[0m\u001b[0m\n\u001b[1;32m    137\u001b[0m                             \u001b[0mstr\u001b[0m\u001b[0;34m(\u001b[0m\u001b[0mshape\u001b[0m\u001b[0;34m)\u001b[0m \u001b[0;34m+\u001b[0m \u001b[0;34m' but got array with shape '\u001b[0m \u001b[0;34m+\u001b[0m\u001b[0;34m\u001b[0m\u001b[0;34m\u001b[0m\u001b[0m\n\u001b[0;32m--> 138\u001b[0;31m                             str(data_shape))\n\u001b[0m\u001b[1;32m    139\u001b[0m     \u001b[0;32mreturn\u001b[0m \u001b[0mdata\u001b[0m\u001b[0;34m\u001b[0m\u001b[0;34m\u001b[0m\u001b[0m\n\u001b[1;32m    140\u001b[0m \u001b[0;34m\u001b[0m\u001b[0m\n",
      "\u001b[0;31mValueError\u001b[0m: Error when checking input: expected dense_61_input to have shape (11,) but got array with shape (26,)"
     ]
    }
   ],
   "source": [
    "predictions = lldpt_model.predict(X_test)"
   ]
  },
  {
   "cell_type": "code",
   "execution_count": 97,
   "metadata": {},
   "outputs": [
    {
     "name": "stdout",
     "output_type": "stream",
     "text": [
      "(200, 10)\n"
     ]
    }
   ],
   "source": [
    "print(predictions.shape)"
   ]
  },
  {
   "cell_type": "markdown",
   "metadata": {},
   "source": [
    "Since the predictions are outputted in the matrix 'predictions' (confidence % of each file in the test set belonging to a particular genre), we can use sklearn's built in 'confusion_matrix' module to compute the confusion matrix."
   ]
  },
  {
   "cell_type": "code",
   "execution_count": 98,
   "metadata": {},
   "outputs": [
    {
     "name": "stdout",
     "output_type": "stream",
     "text": [
      "(200, 10)\n",
      "[[3.7110087e-02 2.2656792e-07 9.8689855e-04 ... 9.2953951e-06\n",
      "  8.7893255e-05 7.3099682e-06]\n",
      " [1.8948136e-05 3.2834198e-06 9.9799073e-01 ... 5.0035005e-06\n",
      "  2.8001659e-05 2.7484857e-04]\n",
      " [1.2960879e-02 3.2405877e-03 5.4119773e-02 ... 9.3546960e-06\n",
      "  5.0954856e-02 1.5650341e-02]\n",
      " ...\n",
      " [2.7520562e-07 9.9985015e-01 2.6027990e-08 ... 1.1450820e-07\n",
      "  9.8241351e-08 9.1748582e-09]\n",
      " [9.7537971e-01 5.0599152e-08 3.4199475e-04 ... 3.0274687e-09\n",
      "  7.8752428e-06 9.3951297e-05]\n",
      " [3.8530823e-04 1.5342473e-04 9.6306860e-01 ... 6.8554203e-03\n",
      "  1.6033128e-02 2.8652728e-03]]\n",
      "0.9999999700649482\n"
     ]
    }
   ],
   "source": [
    "from sklearn.metrics import confusion_matrix\n",
    "\n",
    "print(predictions.shape)\n",
    "print(predictions)\n",
    "print(sum(predictions[0]))"
   ]
  },
  {
   "cell_type": "markdown",
   "metadata": {},
   "source": [
    "Since 'lldpt_model.predict' gives us the predictions in the form of a probability distribution, as the sum of the rows is ~1, we need to take the maximum value of each row to find the corresponding label using np.argmax."
   ]
  },
  {
   "cell_type": "code",
   "execution_count": 99,
   "metadata": {},
   "outputs": [
    {
     "name": "stdout",
     "output_type": "stream",
     "text": [
      "[4 2 5 1 0 8 8 8 1 4 0 2 2 2 6 7 6 8 3 9 3 9 0 0 5 3 1 2 0 5 0 5 6 7 2 4 2\n",
      " 3 4 2 5 0 6 8 6 8 5 7 2 0 2 2 5 0 5 7 0 9 6 1 8 9 6 9 8 4 3 6 0 7 0 7 5 0\n",
      " 5 0 3 5 9 2 0 1 6 3 7 9 8 5 1 1 3 8 6 2 2 0 7 8 0 5 0 2 5 0 4 5 2 7 3 3 1\n",
      " 4 9 1 0 9 0 8 0 1 4 5 4 5 3 7 7 6 8 9 7 7 5 9 2 7 0 3 5 7 0 9 4 5 8 0 8 4\n",
      " 7 1 0 2 3 5 1 2 4 1 3 9 3 3 0 5 1 2 0 1 1 5 6 1 5 7 8 4 7 6 1 6 8 7 2 1 8\n",
      " 9 0 1 7 7 3 5 1 5 8 5 6 1 0 2]\n"
     ]
    }
   ],
   "source": [
    "y_pred = np.argmax(predictions, axis=-1)\n",
    "print(y_pred)"
   ]
  },
  {
   "cell_type": "code",
   "execution_count": 100,
   "metadata": {},
   "outputs": [
    {
     "name": "stdout",
     "output_type": "stream",
     "text": [
      "[4 2 2 1 0 8 8 8 1 8 9 3 2 2 6 7 6 8 9 9 3 2 6 8 5 4 1 2 6 0 3 5 6 3 4 4 2\n",
      " 9 4 2 5 0 6 2 4 8 9 7 2 0 2 1 8 0 5 7 0 0 6 1 4 2 6 9 8 9 7 6 9 7 0 3 5 0\n",
      " 5 9 3 5 9 2 0 1 6 1 8 0 5 9 1 1 3 8 6 2 2 0 7 8 0 5 8 2 9 0 4 5 0 7 3 9 5\n",
      " 4 9 1 1 9 0 9 0 1 4 5 4 5 3 7 7 4 8 9 7 7 3 9 2 7 0 3 5 7 0 9 4 8 8 0 9 4\n",
      " 7 1 0 0 3 0 1 0 4 1 3 9 3 7 0 5 1 9 0 1 1 5 6 1 5 7 9 3 7 6 1 6 3 7 6 5 8\n",
      " 9 0 1 7 2 2 5 1 5 8 5 6 1 0 2]\n"
     ]
    }
   ],
   "source": [
    "print(y_test)"
   ]
  },
  {
   "cell_type": "code",
   "execution_count": 101,
   "metadata": {},
   "outputs": [
    {
     "name": "stdout",
     "output_type": "stream",
     "text": [
      "(200,)\n",
      "(200,)\n"
     ]
    }
   ],
   "source": [
    "# Validate their shapes\n",
    "print(y_pred.shape)\n",
    "print(y_test.shape)"
   ]
  },
  {
   "cell_type": "markdown",
   "metadata": {},
   "source": [
    "## Confusion Matrix"
   ]
  },
  {
   "cell_type": "code",
   "execution_count": 102,
   "metadata": {},
   "outputs": [],
   "source": [
    "cm = confusion_matrix(y_test, y_pred)"
   ]
  },
  {
   "cell_type": "code",
   "execution_count": 103,
   "metadata": {},
   "outputs": [
    {
     "name": "stdout",
     "output_type": "stream",
     "text": [
      "[[21  0  3  0  0  2  0  0  0  2]\n",
      " [ 1 20  1  1  0  0  0  0  0  0]\n",
      " [ 0  0 14  1  0  1  0  1  1  2]\n",
      " [ 1  0  1  9  1  1  0  2  1  0]\n",
      " [ 0  0  1  1 10  0  2  0  1  0]\n",
      " [ 0  2  0  0  0 18  0  0  1  0]\n",
      " [ 2  0  1  0  0  0 13  0  0  0]\n",
      " [ 0  0  0  2  0  0  0 17  0  0]\n",
      " [ 2  0  0  0  1  2  0  1 12  0]\n",
      " [ 3  0  1  3  1  3  0  0  3 10]]\n"
     ]
    },
    {
     "data": {
      "image/png": "[encoded data removed]",
      "text/plain": [
       "<Figure size 720x720 with 1 Axes>"
      ]
     },
     "metadata": {
      "needs_background": "light"
     },
     "output_type": "display_data"
    }
   ],
   "source": [
    "plt.figure(figsize=(10, 10))\n",
    "plt.matshow(cm,fignum=1)\n",
    "plt.xlabel('Predicted label')\n",
    "# Show all ticks and label them with their respective entries.\n",
    "plt.xticks(np.arange(cm.shape[1]), genres)\n",
    "plt.yticks(np.arange(cm.shape[0]), genres)\n",
    "\n",
    "# Label the squares.\n",
    "fmt = '.0f' \n",
    "thresh = cm.max() / 2.\n",
    "for i in range(cm.shape[0]):\n",
    "    for j in range(cm.shape[1]):\n",
    "        plt.text(j, i, format(cm[i, j], fmt),\n",
    "                ha=\"center\", va=\"center\",\n",
    "                color=\"blue\" if cm[i, j] > thresh else \"white\")\n",
    "plt.tight_layout()\n",
    "\n",
    "plt.ylabel('True label')\n",
    "plt.title('Non-normalized Confusion Matrix (Neural Network)')\n",
    "print(cm)\n",
    "plt.savefig('non_normalized_cm.png')\n",
    "plt.show()"
   ]
  },
  {
   "cell_type": "markdown",
   "metadata": {},
   "source": [
    "## Normalized Confusion Matrix"
   ]
  },
  {
   "cell_type": "code",
   "execution_count": 104,
   "metadata": {},
   "outputs": [],
   "source": [
    "cm_normalized = cm.astype('float') / cm.sum(axis=1)[:, np.newaxis]"
   ]
  },
  {
   "cell_type": "code",
   "execution_count": 105,
   "metadata": {},
   "outputs": [
    {
     "name": "stdout",
     "output_type": "stream",
     "text": [
      "[[0.75       0.         0.10714286 0.         0.         0.07142857\n",
      "  0.         0.         0.         0.07142857]\n",
      " [0.04347826 0.86956522 0.04347826 0.04347826 0.         0.\n",
      "  0.         0.         0.         0.        ]\n",
      " [0.         0.         0.7        0.05       0.         0.05\n",
      "  0.         0.05       0.05       0.1       ]\n",
      " [0.0625     0.         0.0625     0.5625     0.0625     0.0625\n",
      "  0.         0.125      0.0625     0.        ]\n",
      " [0.         0.         0.06666667 0.06666667 0.66666667 0.\n",
      "  0.13333333 0.         0.06666667 0.        ]\n",
      " [0.         0.0952381  0.         0.         0.         0.85714286\n",
      "  0.         0.         0.04761905 0.        ]\n",
      " [0.125      0.         0.0625     0.         0.         0.\n",
      "  0.8125     0.         0.         0.        ]\n",
      " [0.         0.         0.         0.10526316 0.         0.\n",
      "  0.         0.89473684 0.         0.        ]\n",
      " [0.11111111 0.         0.         0.         0.05555556 0.11111111\n",
      "  0.         0.05555556 0.66666667 0.        ]\n",
      " [0.125      0.         0.04166667 0.125      0.04166667 0.125\n",
      "  0.         0.         0.125      0.41666667]]\n"
     ]
    },
    {
     "data": {
      "image/png": "[encoded data removed]",
      "text/plain": [
       "<Figure size 720x720 with 1 Axes>"
      ]
     },
     "metadata": {
      "needs_background": "light"
     },
     "output_type": "display_data"
    }
   ],
   "source": [
    "plt.figure(figsize=(10, 10))\n",
    "plt.matshow(cm_normalized,fignum=1)\n",
    "plt.xlabel('Predicted label')\n",
    "# Show all ticks and label them with their respective entries.\n",
    "plt.xticks(np.arange(cm_normalized.shape[1]), genres)\n",
    "plt.yticks(np.arange(cm_normalized.shape[0]), genres)\n",
    "\n",
    "# Label the squares.\n",
    "fmt = '.3f' \n",
    "thresh = cm_normalized.max() / 2.\n",
    "for i in range(cm_normalized.shape[0]):\n",
    "    for j in range(cm_normalized.shape[1]):\n",
    "        plt.text(j, i, format(cm_normalized[i, j], fmt),\n",
    "                ha=\"center\", va=\"center\",\n",
    "                color=\"blue\" if cm_normalized[i, j] > thresh else \"white\")\n",
    "plt.tight_layout()\n",
    "\n",
    "plt.ylabel('True label')\n",
    "plt.title('Normalized Confusion Matrix (Neural Network)')\n",
    "print(cm_normalized)\n",
    "plt.savefig('normalized_cm.png')"
   ]
  },
  {
   "cell_type": "markdown",
   "metadata": {},
   "source": [
    "Adding the probabilities in the diagonals (corresponding to correct classification), and dividing by the number of genres (10), we get that the Large Layer Neural Network Model with Dropout is correctly predicting labels on the test data 72.17% of the time (0.7217 for average per-class classification accuracy)."
   ]
  },
  {
   "cell_type": "markdown",
   "metadata": {},
   "source": [
    "## Classification with Linear SVM on Original Data"
   ]
  },
  {
   "cell_type": "code",
   "execution_count": 198,
   "metadata": {},
   "outputs": [
    {
     "data": {
      "text/plain": [
       "SVC(C=1.0, cache_size=200, class_weight=None, coef0=0.0,\n",
       "  decision_function_shape='ovr', degree=3, gamma='auto_deprecated',\n",
       "  kernel='linear', max_iter=-1, probability=False, random_state=None,\n",
       "  shrinking=True, tol=0.001, verbose=False)"
      ]
     },
     "execution_count": 198,
     "metadata": {},
     "output_type": "execute_result"
    }
   ],
   "source": [
    "from sklearn.svm import SVC\n",
    "svc = SVC(kernel='linear')\n",
    "svc.fit(X_train, y_train)"
   ]
  },
  {
   "cell_type": "code",
   "execution_count": 199,
   "metadata": {},
   "outputs": [],
   "source": [
    "svc_ypred = svc.predict(X_test)"
   ]
  },
  {
   "cell_type": "code",
   "execution_count": 200,
   "metadata": {},
   "outputs": [
    {
     "name": "stdout",
     "output_type": "stream",
     "text": [
      "[1 4 3 9 3 4 5 9 4 7 5 4 8 5 6 1 9 0 1 8 1 7 0 4 2 0 2 4 6 2 6 3 1 9 7 3 3\n",
      " 8 1 3 3 3 9 0 2 3 7 9 9 2 1 9 2 6 3 4 6 5 6 8 6 0 0 8 2 9 4 9 7 0 2 2 1 3\n",
      " 0 6 0 3 4 8 5 0 4 0 3 3 6 8 4 7 5 5 2 1 5 0 8 3 0 3 3 4 8 3 2 5 6 1 3 2 1\n",
      " 1 4 2 5 8 1 9 9 3 3 6 4 1 1 5 5 3 1 4 8 0 2 5 9 6 2 6 0 1 7 0 5 6 7 2 3 4\n",
      " 7 6 2 0 1 8 3 0 2 1 8 6 3 8 5 8 2 0 2 7 3 5 3 6 0 8 7 2 6 4 5 5 5 7 0 8 0\n",
      " 0 4 3 2 3 6 1 9 2 5 1 1 4 3 7]\n"
     ]
    }
   ],
   "source": [
    "print(svc_ypred)"
   ]
  },
  {
   "cell_type": "code",
   "execution_count": 201,
   "metadata": {},
   "outputs": [
    {
     "name": "stdout",
     "output_type": "stream",
     "text": [
      "[1 7 3 6 3 6 2 3 4 7 5 4 8 5 6 1 9 4 1 4 1 7 2 4 2 0 2 4 6 2 4 3 1 2 7 3 3\n",
      " 7 1 3 3 9 9 2 3 4 7 9 9 2 1 4 2 6 3 4 6 5 6 9 9 4 9 4 2 9 7 9 7 0 2 2 1 2\n",
      " 2 6 8 3 4 3 5 2 4 0 0 9 6 7 4 7 5 5 9 8 5 9 9 6 8 3 3 4 8 9 2 2 9 5 1 2 5\n",
      " 1 4 5 0 8 1 8 9 7 3 6 4 1 1 5 5 6 5 7 2 0 2 0 9 6 2 6 0 1 7 0 5 4 7 2 3 4\n",
      " 7 6 5 0 1 8 3 0 2 1 2 6 7 7 9 0 2 0 2 7 3 5 3 6 0 8 2 2 6 4 5 0 5 7 0 8 0\n",
      " 9 4 3 8 3 6 1 8 9 1 1 1 4 7 7]\n"
     ]
    }
   ],
   "source": [
    "print(y_test)"
   ]
  },
  {
   "cell_type": "code",
   "execution_count": 202,
   "metadata": {},
   "outputs": [],
   "source": [
    "# Confusion matrix for Linear SVC\n",
    "cm = confusion_matrix(y_test, svc_ypred)\n",
    "cm_normalized = cm.astype('float') / cm.sum(axis=1)[:, np.newaxis]"
   ]
  },
  {
   "cell_type": "code",
   "execution_count": 203,
   "metadata": {},
   "outputs": [
    {
     "name": "stdout",
     "output_type": "stream",
     "text": [
      "[[0.70588235 0.         0.         0.05882353 0.         0.17647059\n",
      "  0.         0.         0.05882353 0.        ]\n",
      " [0.         0.9        0.         0.05       0.         0.05\n",
      "  0.         0.         0.         0.        ]\n",
      " [0.14285714 0.         0.60714286 0.03571429 0.         0.07142857\n",
      "  0.         0.03571429 0.07142857 0.03571429]\n",
      " [0.         0.         0.04761905 0.85714286 0.         0.\n",
      "  0.         0.         0.04761905 0.04761905]\n",
      " [0.08695652 0.         0.         0.04347826 0.65217391 0.\n",
      "  0.08695652 0.         0.08695652 0.04347826]\n",
      " [0.         0.16666667 0.11111111 0.         0.         0.72222222\n",
      "  0.         0.         0.         0.        ]\n",
      " [0.         0.         0.         0.10526316 0.05263158 0.\n",
      "  0.78947368 0.         0.         0.05263158]\n",
      " [0.         0.         0.         0.14285714 0.14285714 0.\n",
      "  0.         0.57142857 0.14285714 0.        ]\n",
      " [0.16666667 0.08333333 0.08333333 0.         0.         0.\n",
      "  0.         0.         0.5        0.16666667]\n",
      " [0.14285714 0.         0.0952381  0.14285714 0.         0.04761905\n",
      "  0.0952381  0.         0.0952381  0.38095238]]\n"
     ]
    },
    {
     "data": {
      "image/png": "[encoded data removed]",
      "text/plain": [
       "<Figure size 720x720 with 1 Axes>"
      ]
     },
     "metadata": {
      "needs_background": "light"
     },
     "output_type": "display_data"
    }
   ],
   "source": [
    "plt.figure(figsize=(10, 10))\n",
    "plt.matshow(cm_normalized,fignum=1)\n",
    "plt.xlabel('Predicted label')\n",
    "# Show all ticks and label them with their respective entries.\n",
    "plt.xticks(np.arange(cm_normalized.shape[1]), genres)\n",
    "plt.yticks(np.arange(cm_normalized.shape[0]), genres)\n",
    "\n",
    "# Label the squares.\n",
    "fmt = '.3f' \n",
    "thresh = cm_normalized.max() / 2.\n",
    "for i in range(cm_normalized.shape[0]):\n",
    "    for j in range(cm_normalized.shape[1]):\n",
    "        plt.text(j, i, format(cm_normalized[i, j], fmt),\n",
    "                ha=\"center\", va=\"center\",\n",
    "                color=\"blue\" if cm_normalized[i, j] > thresh else \"white\")\n",
    "plt.tight_layout()\n",
    "\n",
    "plt.ylabel('True label')\n",
    "plt.title('Normalized Confusion Matrix (Linear SVM)')\n",
    "print(cm_normalized)\n",
    "plt.savefig('normalized_cm.png')\n",
    "\n"
   ]
  },
  {
   "cell_type": "markdown",
   "metadata": {},
   "source": [
    "Linear SVM is actually 75.1% accurate on the original data!"
   ]
  },
  {
   "cell_type": "markdown",
   "metadata": {},
   "source": [
    "## Varying the Data: Original vs. PCA vs.  Additional Features"
   ]
  },
  {
   "cell_type": "markdown",
   "metadata": {},
   "source": [
    "We will be comparing the performance of our best neural network model (LLDPM) and the linear SVM classifier from sklearn on three different datasets: the original, the original with PCA applied, and the original with four extra features attached."
   ]
  },
  {
   "cell_type": "code",
   "execution_count": 204,
   "metadata": {},
   "outputs": [
    {
     "name": "stdout",
     "output_type": "stream",
     "text": [
      "(1000, 12)\n"
     ]
    },
    {
     "data": {
      "text/html": [
       "<div>\n",
       "<style scoped>\n",
       "    .dataframe tbody tr th:only-of-type {\n",
       "        vertical-align: middle;\n",
       "    }\n",
       "\n",
       "    .dataframe tbody tr th {\n",
       "        vertical-align: top;\n",
       "    }\n",
       "\n",
       "    .dataframe thead th {\n",
       "        text-align: right;\n",
       "    }\n",
       "</style>\n",
       "<table border=\"1\" class=\"dataframe\">\n",
       "  <thead>\n",
       "    <tr style=\"text-align: right;\">\n",
       "      <th></th>\n",
       "      <th>Unnamed: 0</th>\n",
       "      <th>principal component 1</th>\n",
       "      <th>principal component 2</th>\n",
       "      <th>principal component 3</th>\n",
       "      <th>principal component 4</th>\n",
       "      <th>principal component 5</th>\n",
       "      <th>principal component 6</th>\n",
       "      <th>principal component 7</th>\n",
       "      <th>principal component 8</th>\n",
       "      <th>principal component 9</th>\n",
       "      <th>principal component 10</th>\n",
       "      <th>label</th>\n",
       "    </tr>\n",
       "  </thead>\n",
       "  <tbody>\n",
       "    <tr>\n",
       "      <th>0</th>\n",
       "      <td>0</td>\n",
       "      <td>1.234732</td>\n",
       "      <td>-1.182409</td>\n",
       "      <td>-0.894627</td>\n",
       "      <td>-0.021162</td>\n",
       "      <td>-0.167669</td>\n",
       "      <td>-0.261798</td>\n",
       "      <td>0.361734</td>\n",
       "      <td>0.243839</td>\n",
       "      <td>0.070603</td>\n",
       "      <td>0.791287</td>\n",
       "      <td>blues</td>\n",
       "    </tr>\n",
       "    <tr>\n",
       "      <th>1</th>\n",
       "      <td>1</td>\n",
       "      <td>0.145191</td>\n",
       "      <td>-1.446762</td>\n",
       "      <td>-1.865124</td>\n",
       "      <td>-0.940847</td>\n",
       "      <td>0.101479</td>\n",
       "      <td>-1.041653</td>\n",
       "      <td>-0.994211</td>\n",
       "      <td>0.241078</td>\n",
       "      <td>0.207630</td>\n",
       "      <td>0.232226</td>\n",
       "      <td>blues</td>\n",
       "    </tr>\n",
       "    <tr>\n",
       "      <th>2</th>\n",
       "      <td>2</td>\n",
       "      <td>1.713114</td>\n",
       "      <td>-2.268697</td>\n",
       "      <td>0.755987</td>\n",
       "      <td>-0.679578</td>\n",
       "      <td>0.747018</td>\n",
       "      <td>0.538257</td>\n",
       "      <td>1.719516</td>\n",
       "      <td>1.783470</td>\n",
       "      <td>0.107507</td>\n",
       "      <td>0.390195</td>\n",
       "      <td>blues</td>\n",
       "    </tr>\n",
       "    <tr>\n",
       "      <th>3</th>\n",
       "      <td>3</td>\n",
       "      <td>-1.287987</td>\n",
       "      <td>-2.569345</td>\n",
       "      <td>-1.763864</td>\n",
       "      <td>-1.347723</td>\n",
       "      <td>1.581160</td>\n",
       "      <td>0.704978</td>\n",
       "      <td>1.587949</td>\n",
       "      <td>1.019554</td>\n",
       "      <td>-0.527827</td>\n",
       "      <td>0.132186</td>\n",
       "      <td>blues</td>\n",
       "    </tr>\n",
       "    <tr>\n",
       "      <th>4</th>\n",
       "      <td>4</td>\n",
       "      <td>-0.163014</td>\n",
       "      <td>-3.023537</td>\n",
       "      <td>3.842819</td>\n",
       "      <td>1.407924</td>\n",
       "      <td>-0.798084</td>\n",
       "      <td>1.346460</td>\n",
       "      <td>0.151930</td>\n",
       "      <td>2.378646</td>\n",
       "      <td>-0.196101</td>\n",
       "      <td>-0.716138</td>\n",
       "      <td>blues</td>\n",
       "    </tr>\n",
       "  </tbody>\n",
       "</table>\n",
       "</div>"
      ],
      "text/plain": [
       "   Unnamed: 0  principal component 1  principal component 2  \\\n",
       "0           0               1.234732              -1.182409   \n",
       "1           1               0.145191              -1.446762   \n",
       "2           2               1.713114              -2.268697   \n",
       "3           3              -1.287987              -2.569345   \n",
       "4           4              -0.163014              -3.023537   \n",
       "\n",
       "   principal component 3  principal component 4  principal component 5  \\\n",
       "0              -0.894627              -0.021162              -0.167669   \n",
       "1              -1.865124              -0.940847               0.101479   \n",
       "2               0.755987              -0.679578               0.747018   \n",
       "3              -1.763864              -1.347723               1.581160   \n",
       "4               3.842819               1.407924              -0.798084   \n",
       "\n",
       "   principal component 6  principal component 7  principal component 8  \\\n",
       "0              -0.261798               0.361734               0.243839   \n",
       "1              -1.041653              -0.994211               0.241078   \n",
       "2               0.538257               1.719516               1.783470   \n",
       "3               0.704978               1.587949               1.019554   \n",
       "4               1.346460               0.151930               2.378646   \n",
       "\n",
       "   principal component 9  principal component 10  label  \n",
       "0               0.070603                0.791287  blues  \n",
       "1               0.207630                0.232226  blues  \n",
       "2               0.107507                0.390195  blues  \n",
       "3              -0.527827                0.132186  blues  \n",
       "4              -0.196101               -0.716138  blues  "
      ]
     },
     "execution_count": 204,
     "metadata": {},
     "output_type": "execute_result"
    }
   ],
   "source": [
    "# Read in the PCA data\n",
    "pca_data = pd.read_csv('10PCA.csv')\n",
    "print(pca_data.shape)\n",
    "pca_data.head()"
   ]
  },
  {
   "cell_type": "code",
   "execution_count": 205,
   "metadata": {},
   "outputs": [],
   "source": [
    "pca_genre_list = pca_data.iloc[:, -1]\n",
    "encoder = LabelEncoder()\n",
    "y_pca = encoder.fit_transform(pca_genre_list)"
   ]
  },
  {
   "cell_type": "code",
   "execution_count": 206,
   "metadata": {},
   "outputs": [],
   "source": [
    "scaler = StandardScaler()\n",
    "X_pca = scaler.fit_transform(np.array(pca_data.iloc[:, :-1], dtype = float))"
   ]
  },
  {
   "cell_type": "code",
   "execution_count": 207,
   "metadata": {},
   "outputs": [],
   "source": [
    "Xtrain_pca, Xtest_pca, ytrain_pca, ytest_pca = train_test_split(X_pca, y_pca, test_size=0.2)"
   ]
  },
  {
   "cell_type": "code",
   "execution_count": 208,
   "metadata": {},
   "outputs": [
    {
     "name": "stdout",
     "output_type": "stream",
     "text": [
      "Epoch 1/100\n",
      "800/800 [==============================] - 1s 1ms/step - loss: 3.0528 - acc: 0.2925\n",
      "Epoch 2/100\n",
      "800/800 [==============================] - 0s 163us/step - loss: 2.4750 - acc: 0.5288\n",
      "Epoch 3/100\n",
      "800/800 [==============================] - 0s 173us/step - loss: 1.8656 - acc: 0.6925\n",
      "Epoch 4/100\n",
      "800/800 [==============================] - 0s 164us/step - loss: 1.5337 - acc: 0.7750\n",
      "Epoch 5/100\n",
      "800/800 [==============================] - 0s 203us/step - loss: 1.3811 - acc: 0.8087\n",
      "Epoch 6/100\n",
      "800/800 [==============================] - 0s 163us/step - loss: 1.2734 - acc: 0.8387\n",
      "Epoch 7/100\n",
      "800/800 [==============================] - 0s 172us/step - loss: 1.2055 - acc: 0.8562\n",
      "Epoch 8/100\n",
      "800/800 [==============================] - 0s 148us/step - loss: 1.1239 - acc: 0.8837\n",
      "Epoch 9/100\n",
      "800/800 [==============================] - 0s 178us/step - loss: 1.0746 - acc: 0.8862\n",
      "Epoch 10/100\n",
      "800/800 [==============================] - 0s 190us/step - loss: 1.0440 - acc: 0.8900\n",
      "Epoch 11/100\n",
      "800/800 [==============================] - 0s 156us/step - loss: 1.0233 - acc: 0.8912\n",
      "Epoch 12/100\n",
      "800/800 [==============================] - 0s 183us/step - loss: 0.9578 - acc: 0.9150\n",
      "Epoch 13/100\n",
      "800/800 [==============================] - 0s 166us/step - loss: 0.9350 - acc: 0.9062\n",
      "Epoch 14/100\n",
      "800/800 [==============================] - 0s 164us/step - loss: 0.9076 - acc: 0.9175\n",
      "Epoch 15/100\n",
      "800/800 [==============================] - 0s 194us/step - loss: 0.8775 - acc: 0.9200\n",
      "Epoch 16/100\n",
      "800/800 [==============================] - 0s 177us/step - loss: 0.8551 - acc: 0.9237\n",
      "Epoch 17/100\n",
      "800/800 [==============================] - 0s 180us/step - loss: 0.8186 - acc: 0.9363\n",
      "Epoch 18/100\n",
      "800/800 [==============================] - 0s 187us/step - loss: 0.8222 - acc: 0.9175\n",
      "Epoch 19/100\n",
      "800/800 [==============================] - 0s 183us/step - loss: 0.7989 - acc: 0.9263\n",
      "Epoch 20/100\n",
      "800/800 [==============================] - 0s 165us/step - loss: 0.7616 - acc: 0.9400\n",
      "Epoch 21/100\n",
      "800/800 [==============================] - 0s 165us/step - loss: 0.7629 - acc: 0.9300\n",
      "Epoch 22/100\n",
      "800/800 [==============================] - 0s 175us/step - loss: 0.7174 - acc: 0.9438\n",
      "Epoch 23/100\n",
      "800/800 [==============================] - 0s 205us/step - loss: 0.7164 - acc: 0.9425\n",
      "Epoch 24/100\n",
      "800/800 [==============================] - 0s 199us/step - loss: 0.7325 - acc: 0.9213\n",
      "Epoch 25/100\n",
      "800/800 [==============================] - 0s 182us/step - loss: 0.6998 - acc: 0.9387\n",
      "Epoch 26/100\n",
      "800/800 [==============================] - 0s 153us/step - loss: 0.6742 - acc: 0.9413\n",
      "Epoch 27/100\n",
      "800/800 [==============================] - 0s 155us/step - loss: 0.6596 - acc: 0.9513\n",
      "Epoch 28/100\n",
      "800/800 [==============================] - 0s 156us/step - loss: 0.6406 - acc: 0.9487\n",
      "Epoch 29/100\n",
      "800/800 [==============================] - 0s 154us/step - loss: 0.6375 - acc: 0.9425\n",
      "Epoch 30/100\n",
      "800/800 [==============================] - 0s 156us/step - loss: 0.6218 - acc: 0.9525\n",
      "Epoch 31/100\n",
      "800/800 [==============================] - 0s 162us/step - loss: 0.6051 - acc: 0.9563\n",
      "Epoch 32/100\n",
      "800/800 [==============================] - 0s 159us/step - loss: 0.5876 - acc: 0.9600\n",
      "Epoch 33/100\n",
      "800/800 [==============================] - 0s 187us/step - loss: 0.5745 - acc: 0.9587\n",
      "Epoch 34/100\n",
      "800/800 [==============================] - 0s 182us/step - loss: 0.5622 - acc: 0.9625\n",
      "Epoch 35/100\n",
      "800/800 [==============================] - 0s 205us/step - loss: 0.5600 - acc: 0.9563\n",
      "Epoch 36/100\n",
      "800/800 [==============================] - 0s 179us/step - loss: 0.5712 - acc: 0.9438\n",
      "Epoch 37/100\n",
      "800/800 [==============================] - 0s 144us/step - loss: 0.5440 - acc: 0.9637\n",
      "Epoch 38/100\n",
      "800/800 [==============================] - 0s 143us/step - loss: 0.5466 - acc: 0.9525\n",
      "Epoch 39/100\n",
      "800/800 [==============================] - 0s 143us/step - loss: 0.5366 - acc: 0.9537\n",
      "Epoch 40/100\n",
      "800/800 [==============================] - 0s 144us/step - loss: 0.5225 - acc: 0.9537\n",
      "Epoch 41/100\n",
      "800/800 [==============================] - 0s 149us/step - loss: 0.4906 - acc: 0.9788\n",
      "Epoch 42/100\n",
      "800/800 [==============================] - 0s 140us/step - loss: 0.4829 - acc: 0.9713\n",
      "Epoch 43/100\n",
      "800/800 [==============================] - 0s 144us/step - loss: 0.4882 - acc: 0.9625\n",
      "Epoch 44/100\n",
      "800/800 [==============================] - 0s 140us/step - loss: 0.4794 - acc: 0.9688\n",
      "Epoch 45/100\n",
      "800/800 [==============================] - 0s 139us/step - loss: 0.4713 - acc: 0.9688\n",
      "Epoch 46/100\n",
      "800/800 [==============================] - 0s 142us/step - loss: 0.4591 - acc: 0.9688\n",
      "Epoch 47/100\n",
      "800/800 [==============================] - 0s 152us/step - loss: 0.4693 - acc: 0.9537\n",
      "Epoch 48/100\n",
      "800/800 [==============================] - 0s 184us/step - loss: 0.4432 - acc: 0.9700\n",
      "Epoch 49/100\n",
      "800/800 [==============================] - 0s 198us/step - loss: 0.4559 - acc: 0.9650\n",
      "Epoch 50/100\n",
      "800/800 [==============================] - 0s 144us/step - loss: 0.4397 - acc: 0.9688\n",
      "Epoch 51/100\n",
      "800/800 [==============================] - 0s 200us/step - loss: 0.4461 - acc: 0.9662\n",
      "Epoch 52/100\n",
      "800/800 [==============================] - 0s 183us/step - loss: 0.4522 - acc: 0.9587\n",
      "Epoch 53/100\n",
      "800/800 [==============================] - 0s 139us/step - loss: 0.4367 - acc: 0.9600\n",
      "Epoch 54/100\n",
      "800/800 [==============================] - 0s 145us/step - loss: 0.4190 - acc: 0.9750\n",
      "Epoch 55/100\n",
      "800/800 [==============================] - 0s 189us/step - loss: 0.4071 - acc: 0.9750\n",
      "Epoch 56/100\n",
      "800/800 [==============================] - 0s 208us/step - loss: 0.3896 - acc: 0.9763\n",
      "Epoch 57/100\n",
      "800/800 [==============================] - 0s 157us/step - loss: 0.3906 - acc: 0.9800\n",
      "Epoch 58/100\n",
      "800/800 [==============================] - 0s 143us/step - loss: 0.4017 - acc: 0.9650\n",
      "Epoch 59/100\n",
      "800/800 [==============================] - 0s 141us/step - loss: 0.3803 - acc: 0.9775\n",
      "Epoch 60/100\n",
      "800/800 [==============================] - 0s 180us/step - loss: 0.3870 - acc: 0.9738\n",
      "Epoch 61/100\n",
      "800/800 [==============================] - 0s 198us/step - loss: 0.3653 - acc: 0.9850\n",
      "Epoch 62/100\n",
      "800/800 [==============================] - 0s 176us/step - loss: 0.3685 - acc: 0.9763\n",
      "Epoch 63/100\n",
      "800/800 [==============================] - 0s 161us/step - loss: 0.3650 - acc: 0.9812\n",
      "Epoch 64/100\n",
      "800/800 [==============================] - 0s 168us/step - loss: 0.3850 - acc: 0.9675\n",
      "Epoch 65/100\n",
      "800/800 [==============================] - 0s 151us/step - loss: 0.3686 - acc: 0.9750\n",
      "Epoch 66/100\n",
      "800/800 [==============================] - 0s 150us/step - loss: 0.3482 - acc: 0.9825\n",
      "Epoch 67/100\n",
      "800/800 [==============================] - 0s 153us/step - loss: 0.3525 - acc: 0.9763\n",
      "Epoch 68/100\n",
      "800/800 [==============================] - 0s 145us/step - loss: 0.3489 - acc: 0.9788\n",
      "Epoch 69/100\n",
      "800/800 [==============================] - 0s 145us/step - loss: 0.3499 - acc: 0.9750\n",
      "Epoch 70/100\n",
      "800/800 [==============================] - 0s 164us/step - loss: 0.3355 - acc: 0.9788\n",
      "Epoch 71/100\n",
      "800/800 [==============================] - 0s 152us/step - loss: 0.3375 - acc: 0.9825\n",
      "Epoch 72/100\n",
      "800/800 [==============================] - 0s 146us/step - loss: 0.3242 - acc: 0.9825\n",
      "Epoch 73/100\n",
      "800/800 [==============================] - 0s 146us/step - loss: 0.3188 - acc: 0.9812\n",
      "Epoch 74/100\n",
      "800/800 [==============================] - 0s 135us/step - loss: 0.3212 - acc: 0.9838\n",
      "Epoch 75/100\n",
      "800/800 [==============================] - 0s 147us/step - loss: 0.3218 - acc: 0.9838\n",
      "Epoch 76/100\n",
      "800/800 [==============================] - 0s 151us/step - loss: 0.3357 - acc: 0.9788\n",
      "Epoch 77/100\n",
      "800/800 [==============================] - 0s 143us/step - loss: 0.3156 - acc: 0.9763\n",
      "Epoch 78/100\n",
      "800/800 [==============================] - 0s 151us/step - loss: 0.3187 - acc: 0.9825\n",
      "Epoch 79/100\n",
      "800/800 [==============================] - 0s 152us/step - loss: 0.3120 - acc: 0.9838\n",
      "Epoch 80/100\n",
      "800/800 [==============================] - 0s 145us/step - loss: 0.3250 - acc: 0.9700\n",
      "Epoch 81/100\n",
      "800/800 [==============================] - 0s 148us/step - loss: 0.3114 - acc: 0.9862\n",
      "Epoch 82/100\n",
      "800/800 [==============================] - 0s 152us/step - loss: 0.3225 - acc: 0.9750\n",
      "Epoch 83/100\n"
     ]
    },
    {
     "name": "stdout",
     "output_type": "stream",
     "text": [
      "800/800 [==============================] - 0s 144us/step - loss: 0.3137 - acc: 0.9775\n",
      "Epoch 84/100\n",
      "800/800 [==============================] - 0s 137us/step - loss: 0.3144 - acc: 0.9800\n",
      "Epoch 85/100\n",
      "800/800 [==============================] - 0s 143us/step - loss: 0.3016 - acc: 0.9775\n",
      "Epoch 86/100\n",
      "800/800 [==============================] - 0s 146us/step - loss: 0.3053 - acc: 0.9788\n",
      "Epoch 87/100\n",
      "800/800 [==============================] - 0s 147us/step - loss: 0.3177 - acc: 0.9725\n",
      "Epoch 88/100\n",
      "800/800 [==============================] - 0s 135us/step - loss: 0.2946 - acc: 0.9788\n",
      "Epoch 89/100\n",
      "800/800 [==============================] - 0s 137us/step - loss: 0.2912 - acc: 0.9838\n",
      "Epoch 90/100\n",
      "800/800 [==============================] - 0s 141us/step - loss: 0.2900 - acc: 0.9825\n",
      "Epoch 91/100\n",
      "800/800 [==============================] - 0s 137us/step - loss: 0.3097 - acc: 0.9725\n",
      "Epoch 92/100\n",
      "800/800 [==============================] - 0s 138us/step - loss: 0.2885 - acc: 0.9788\n",
      "Epoch 93/100\n",
      "800/800 [==============================] - 0s 140us/step - loss: 0.2881 - acc: 0.9800\n",
      "Epoch 94/100\n",
      "800/800 [==============================] - 0s 137us/step - loss: 0.2916 - acc: 0.9800\n",
      "Epoch 95/100\n",
      "800/800 [==============================] - 0s 149us/step - loss: 0.2918 - acc: 0.9750\n",
      "Epoch 96/100\n",
      "800/800 [==============================] - 0s 144us/step - loss: 0.2963 - acc: 0.9725\n",
      "Epoch 97/100\n",
      "800/800 [==============================] - 0s 142us/step - loss: 0.2910 - acc: 0.9812\n",
      "Epoch 98/100\n",
      "800/800 [==============================] - 0s 137us/step - loss: 0.2711 - acc: 0.9888\n",
      "Epoch 99/100\n",
      "800/800 [==============================] - 0s 137us/step - loss: 0.2788 - acc: 0.9775\n",
      "Epoch 100/100\n",
      "800/800 [==============================] - 0s 144us/step - loss: 0.2684 - acc: 0.9862\n"
     ]
    }
   ],
   "source": [
    "# Run the models on the PCA set and compare performance\n",
    "# 1. Neural network model (LLDPT)\n",
    "# Add L2 weight regularization to 'lldpt_model'\n",
    "# Model with dropout and larger layers\n",
    "lldpt_model = models.Sequential()\n",
    "\n",
    "# Specify and add layers to the model.\n",
    "# We will be regularizing each dense layer.\n",
    "lldpt_model.add(layers.Dense(1024,\n",
    "                             kernel_regularizer=keras.regularizers.l2(0.001),\n",
    "                             activation='relu',  \n",
    "                             input_shape=(Xtrain_pca.shape[1],)))\n",
    "lldpt_model.add(layers.Dropout(0.5))  # Dropout layer 1\n",
    "lldpt_model.add(layers.Dense(512, \n",
    "                             kernel_regularizer=keras.regularizers.l2(0.001),\n",
    "                             activation='relu'))\n",
    "lldpt_model.add(layers.Dropout(0.5))  # Dropout layer 2\n",
    "lldpt_model.add(layers.Dense(128, \n",
    "                             kernel_regularizer=keras.regularizers.l2(0.001),\n",
    "                             activation='relu'))\n",
    "\n",
    "# Add final softmax layer to map output of network to a probability distribution.\n",
    "# The size of the softmax layer must be 10 because we have 10\n",
    "# different genres.\n",
    "lldpt_model.add(layers.Dense(10, activation='softmax'))\n",
    "\n",
    "lldpt_model.compile(optimizer='adam', \n",
    "              loss='sparse_categorical_crossentropy', \n",
    "              metrics=['accuracy'])\n",
    "\n",
    "lldpt_history = lldpt_model.fit(Xtrain_pca, ytrain_pca, epochs=100,\n",
    "                    batch_size=128)\n",
    "# 2. Linear SVM"
   ]
  },
  {
   "cell_type": "code",
   "execution_count": 209,
   "metadata": {},
   "outputs": [
    {
     "name": "stdout",
     "output_type": "stream",
     "text": [
      "200/200 [==============================] - 0s 2ms/step\n"
     ]
    }
   ],
   "source": [
    "lldpt_test_loss, lldpt_test_acc = lldpt_model.evaluate(Xtest_pca, ytest_pca)"
   ]
  },
  {
   "cell_type": "code",
   "execution_count": 210,
   "metadata": {},
   "outputs": [
    {
     "name": "stdout",
     "output_type": "stream",
     "text": [
      "0.925\n"
     ]
    }
   ],
   "source": [
    "print(lldpt_test_acc)"
   ]
  },
  {
   "cell_type": "markdown",
   "metadata": {},
   "source": [
    "With a dense layer neural network model with dropout running on the original dataset with 10-component PCA implemented on it, we get a stunning classification accuracy of 95.5%!"
   ]
  },
  {
   "cell_type": "code",
   "execution_count": 211,
   "metadata": {},
   "outputs": [
    {
     "name": "stdout",
     "output_type": "stream",
     "text": [
      "[0 7 6 7 2 8 5 3 9 8 0 9 6 7 2 1 1 5 1 7 6 8 1 1 6 3 6 3 2 6 1 7 3 4 8 2 9\n",
      " 4 3 3 0 6 7 8 1 6 1 0 5 1 3 6 7 6 0 7 8 2 3 4 8 5 2 7 1 4 1 2 7 2 2 7 0 9\n",
      " 3 4 9 7 3 4 2 0 0 1 6 9 9 3 8 8 9 7 5 9 3 9 0 7 2 4 5 6 7 1 3 8 3 3 0 2 5\n",
      " 6 6 9 3 3 4 3 8 2 8 4 9 1 7 9 0 6 8 8 4 6 6 5 5 7 5 9 6 6 8 9 1 7 6 4 6 9\n",
      " 1 7 9 0 6 8 4 9 4 0 5 4 2 7 2 9 7 4 1 4 6 5 5 2 2 6 4 9 4 9 2 9 3 4 8 8 0\n",
      " 6 6 9 3 3 0 9 4 5 2 5 3 2 3 6]\n"
     ]
    }
   ],
   "source": [
    "# Do predictions and make confusion matrix\n",
    "predictions = lldpt_model.predict(Xtest_pca)\n",
    "ypred_pca = np.argmax(predictions, axis=-1)\n",
    "print(ypred_pca)"
   ]
  },
  {
   "cell_type": "code",
   "execution_count": 212,
   "metadata": {},
   "outputs": [
    {
     "name": "stdout",
     "output_type": "stream",
     "text": [
      "[0 7 6 7 2 8 5 3 9 8 0 8 6 7 2 1 1 5 2 7 6 8 1 1 6 3 6 2 2 6 1 7 3 4 8 2 8\n",
      " 4 3 3 0 6 7 8 1 6 1 0 5 1 2 6 8 6 0 7 8 2 3 4 8 5 3 7 1 4 1 3 7 2 2 7 0 9\n",
      " 3 4 9 8 3 5 2 0 0 1 6 8 9 3 8 8 9 7 5 9 3 9 0 7 2 4 5 6 7 1 3 8 3 3 0 2 5\n",
      " 6 6 9 3 3 4 3 8 2 8 4 9 1 7 9 0 6 8 8 4 6 6 5 5 7 5 8 6 6 9 9 1 7 6 4 6 9\n",
      " 1 7 9 0 6 8 4 9 4 0 5 4 2 7 2 9 7 5 1 4 6 5 5 2 2 6 4 9 4 9 2 9 3 4 8 9 0\n",
      " 6 6 9 3 3 0 9 4 5 2 5 3 2 3 6]\n"
     ]
    }
   ],
   "source": [
    "print(ytest_pca)"
   ]
  },
  {
   "cell_type": "code",
   "execution_count": 213,
   "metadata": {},
   "outputs": [],
   "source": [
    "# Confusion matrix for Linear SVC\n",
    "cm = confusion_matrix(ytest_pca, ypred_pca)\n",
    "cm_normalized = cm.astype('float') / cm.sum(axis=1)[:, np.newaxis]"
   ]
  },
  {
   "cell_type": "code",
   "execution_count": 214,
   "metadata": {
    "scrolled": true
   },
   "outputs": [
    {
     "name": "stdout",
     "output_type": "stream",
     "text": [
      "[[1.         0.         0.         0.         0.         0.\n",
      "  0.         0.         0.         0.        ]\n",
      " [0.         1.         0.         0.         0.         0.\n",
      "  0.         0.         0.         0.        ]\n",
      " [0.         0.04761905 0.85714286 0.0952381  0.         0.\n",
      "  0.         0.         0.         0.        ]\n",
      " [0.         0.         0.08695652 0.91304348 0.         0.\n",
      "  0.         0.         0.         0.        ]\n",
      " [0.         0.         0.         0.         1.         0.\n",
      "  0.         0.         0.         0.        ]\n",
      " [0.         0.         0.         0.         0.11764706 0.88235294\n",
      "  0.         0.         0.         0.        ]\n",
      " [0.         0.         0.         0.         0.         0.\n",
      "  1.         0.         0.         0.        ]\n",
      " [0.         0.         0.         0.         0.         0.\n",
      "  0.         1.         0.         0.        ]\n",
      " [0.         0.         0.         0.         0.         0.\n",
      "  0.         0.09090909 0.72727273 0.18181818]\n",
      " [0.         0.         0.         0.         0.         0.\n",
      "  0.         0.         0.09090909 0.90909091]]\n"
     ]
    },
    {
     "data": {
      "image/png": "[encoded data removed]",
      "text/plain": [
       "<Figure size 720x720 with 1 Axes>"
      ]
     },
     "metadata": {
      "needs_background": "light"
     },
     "output_type": "display_data"
    }
   ],
   "source": [
    "plt.figure(figsize=(10, 10))\n",
    "plt.matshow(cm_normalized,fignum=1)\n",
    "plt.xlabel('Predicted label')\n",
    "# Show all ticks and label them with their respective entries.\n",
    "plt.xticks(np.arange(cm_normalized.shape[1]), genres)\n",
    "plt.yticks(np.arange(cm_normalized.shape[0]), genres)\n",
    "\n",
    "# Label the squares.\n",
    "fmt = '.3f' \n",
    "thresh = cm_normalized.max() / 2.\n",
    "for i in range(cm_normalized.shape[0]):\n",
    "    for j in range(cm_normalized.shape[1]):\n",
    "        plt.text(j, i, format(cm_normalized[i, j], fmt),\n",
    "                ha=\"center\", va=\"center\",\n",
    "                color=\"blue\" if cm_normalized[i, j] > thresh else \"white\")\n",
    "plt.tight_layout()\n",
    "\n",
    "plt.ylabel('True label')\n",
    "plt.title('Normalized Confusion Matrix (Neural Network - PCA)')\n",
    "print(cm_normalized)\n",
    "plt.savefig('normalized_cm.png')"
   ]
  },
  {
   "cell_type": "markdown",
   "metadata": {},
   "source": [
    "LLDPM NN gives you 95.76% accuracy on PCA data!"
   ]
  },
  {
   "cell_type": "code",
   "execution_count": 215,
   "metadata": {},
   "outputs": [],
   "source": [
    "# Do SVM on PCA Data\n",
    "svc = SVC(kernel='linear')\n",
    "svc.fit(Xtrain_pca, ytrain_pca)\n",
    "svc_ypred_pca = svc.predict(Xtest_pca)"
   ]
  },
  {
   "cell_type": "code",
   "execution_count": 216,
   "metadata": {},
   "outputs": [],
   "source": [
    "# Confusion matrix for Linear SVC\n",
    "cm = confusion_matrix(ytest_pca, svc_ypred_pca)\n",
    "cm_normalized = cm.astype('float') / cm.sum(axis=1)[:, np.newaxis]"
   ]
  },
  {
   "cell_type": "code",
   "execution_count": 217,
   "metadata": {},
   "outputs": [
    {
     "name": "stdout",
     "output_type": "stream",
     "text": [
      "[[1.         0.         0.         0.         0.         0.\n",
      "  0.         0.         0.         0.        ]\n",
      " [0.         1.         0.         0.         0.         0.\n",
      "  0.         0.         0.         0.        ]\n",
      " [0.         0.         0.95238095 0.04761905 0.         0.\n",
      "  0.         0.         0.         0.        ]\n",
      " [0.         0.         0.04347826 0.95652174 0.         0.\n",
      "  0.         0.         0.         0.        ]\n",
      " [0.         0.         0.         0.11111111 0.88888889 0.\n",
      "  0.         0.         0.         0.        ]\n",
      " [0.         0.         0.         0.         0.11764706 0.88235294\n",
      "  0.         0.         0.         0.        ]\n",
      " [0.         0.         0.         0.         0.         0.\n",
      "  1.         0.         0.         0.        ]\n",
      " [0.         0.         0.         0.         0.         0.\n",
      "  0.         1.         0.         0.        ]\n",
      " [0.         0.         0.         0.         0.         0.\n",
      "  0.         0.         0.95454545 0.04545455]\n",
      " [0.         0.         0.         0.         0.         0.\n",
      "  0.         0.         0.04545455 0.95454545]]\n"
     ]
    },
    {
     "data": {
      "image/png": "[encoded data removed]",
      "text/plain": [
       "<Figure size 720x720 with 1 Axes>"
      ]
     },
     "metadata": {
      "needs_background": "light"
     },
     "output_type": "display_data"
    }
   ],
   "source": [
    "plt.figure(figsize=(10, 10))\n",
    "plt.matshow(cm_normalized,fignum=1)\n",
    "plt.xlabel('Predicted label')\n",
    "# Show all ticks and label them with their respective entries.\n",
    "plt.xticks(np.arange(cm_normalized.shape[1]), genres)\n",
    "plt.yticks(np.arange(cm_normalized.shape[0]), genres)\n",
    "\n",
    "# Label the squares.\n",
    "fmt = '.3f' \n",
    "thresh = cm_normalized.max() / 2.\n",
    "for i in range(cm_normalized.shape[0]):\n",
    "    for j in range(cm_normalized.shape[1]):\n",
    "        plt.text(j, i, format(cm_normalized[i, j], fmt),\n",
    "                ha=\"center\", va=\"center\",\n",
    "                color=\"blue\" if cm_normalized[i, j] > thresh else \"white\")\n",
    "plt.tight_layout()\n",
    "\n",
    "plt.ylabel('True label')\n",
    "plt.title('Normalized Confusion Matrix (Linear SVM - PCA)')\n",
    "print(cm_normalized)\n",
    "plt.savefig('normalized_cm_svc_pca.png')"
   ]
  },
  {
   "cell_type": "markdown",
   "metadata": {},
   "source": [
    "Linear SVM on the original dataset with PCA implemented returns an accuracy of 97.64%!"
   ]
  },
  {
   "cell_type": "code",
   "execution_count": null,
   "metadata": {},
   "outputs": [],
   "source": []
  },
  {
   "cell_type": "code",
   "execution_count": null,
   "metadata": {},
   "outputs": [],
   "source": []
  },
  {
   "cell_type": "code",
   "execution_count": null,
   "metadata": {},
   "outputs": [],
   "source": []
  },
  {
   "cell_type": "code",
   "execution_count": null,
   "metadata": {},
   "outputs": [],
   "source": []
  },
  {
   "cell_type": "code",
   "execution_count": null,
   "metadata": {},
   "outputs": [],
   "source": []
  }
 ],
 "metadata": {
  "kernelspec": {
   "display_name": "Python 3",
   "language": "python",
   "name": "python3"
  },
  "language_info": {
   "codemirror_mode": {
    "name": "ipython",
    "version": 3
   },
   "file_extension": ".py",
   "mimetype": "text/x-python",
   "name": "python",
   "nbconvert_exporter": "python",
   "pygments_lexer": "ipython3",
   "version": "3.6.7"
  }
 },
 "nbformat": 4,
 "nbformat_minor": 2
}
