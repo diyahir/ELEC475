{
 "cells": [
  {
   "cell_type": "code",
   "execution_count": 1,
   "metadata": {},
   "outputs": [
    {
     "name": "stderr",
     "output_type": "stream",
     "text": [
      "Using TensorFlow backend.\n"
     ]
    }
   ],
   "source": [
    "# feature extractoring and preprocessing data\n",
    "import librosa\n",
    "import pandas as pd\n",
    "import numpy as np\n",
    "import matplotlib.pyplot as plt\n",
    "%matplotlib inline\n",
    "import os\n",
    "from PIL import Image\n",
    "import pathlib\n",
    "import csv\n",
    "\n",
    "# Preprocessing\n",
    "from sklearn.model_selection import train_test_split\n",
    "from sklearn.preprocessing import LabelEncoder, StandardScaler\n",
    "\n",
    "#Keras\n",
    "import keras\n",
    "\n",
    "import warnings\n",
    "warnings.filterwarnings('ignore')"
   ]
  },
  {
   "cell_type": "code",
   "execution_count": 2,
   "metadata": {},
   "outputs": [],
   "source": [
    "PATH = 'C:/Users/Diyahir/Documents/ELEC 475/Term Project'\n",
    "PATH = '/home/ayush/Documents/'"
   ]
  },
  {
   "cell_type": "markdown",
   "metadata": {},
   "source": [
    "## Extracting Histogram"
   ]
  },
  {
   "cell_type": "code",
   "execution_count": 3,
   "metadata": {
    "scrolled": true
   },
   "outputs": [
    {
     "name": "stdout",
     "output_type": "stream",
     "text": [
      "blues\n",
      "classical\n",
      "country\n",
      "disco\n",
      "hiphop\n",
      "jazz\n",
      "metal\n",
      "pop\n",
      "reggae\n",
      "rock\n"
     ]
    },
    {
     "data": {
      "text/plain": [
       "<Figure size 720x720 with 0 Axes>"
      ]
     },
     "metadata": {},
     "output_type": "display_data"
    }
   ],
   "source": [
    "cmap = plt.get_cmap('inferno')\n",
    "\n",
    "plt.figure(figsize=(10,10))\n",
    "genres = 'blues classical country disco hiphop jazz metal pop reggae rock'.split()\n",
    "for g in genres:\n",
    "    pathlib.Path(f'img_data/'+g).mkdir(parents=True, exist_ok=True)   \n",
    "    print(g)\n",
    "\n",
    "    for filename in os.listdir(PATH +'/genres/'+g):\n",
    "        songname = PATH + '/genres/'+g +'/'+ filename\n",
    "        y, sr = librosa.load(songname, mono=True, duration=5)\n",
    "        plt.specgram(y, NFFT=2048, Fs=2, Fc=0, noverlap=128, cmap=cmap, sides='default', mode='default', scale='dB');\n",
    "        plt.axis('off');\n",
    "        plt.savefig(f'img_data/'+g+'/'+ filename[:-3].replace(\".\", \"\"))\n",
    "        plt.clf()\n",
    "        \n"
   ]
  },
  {
   "cell_type": "code",
   "execution_count": 4,
   "metadata": {},
   "outputs": [],
   "source": [
    "header = 'filename chroma_stft rmse spectral_centroid spectral_bandwidth rolloff zero_crossing_rate'\n",
    "for i in range(1, 21):\n",
    "    header += f' mfcc{i}'\n",
    "header += ' label'\n",
    "header = header.split()"
   ]
  },
  {
   "cell_type": "code",
   "execution_count": 5,
   "metadata": {},
   "outputs": [
    {
     "name": "stdout",
     "output_type": "stream",
     "text": [
      "blues\n",
      "classical\n",
      "country\n",
      "disco\n",
      "hiphop\n",
      "jazz\n",
      "metal\n",
      "pop\n",
      "reggae\n",
      "rock\n"
     ]
    }
   ],
   "source": [
    "file = open('data.csv', 'w', newline='')\n",
    "with file:\n",
    "    writer = csv.writer(file)\n",
    "    writer.writerow(header)\n",
    "genres = 'blues classical country disco hiphop jazz metal pop reggae rock'.split()\n",
    "for g in genres:\n",
    "    print(g)\n",
    "    for filename in os.listdir(PATH +'/genres/'+g):\n",
    "        songname = PATH + '/genres/'+g +'/'+ filename\n",
    "        y, sr = librosa.load(songname, mono=True, duration=30)\n",
    "        rmse = librosa.feature.rmse(y=y)\n",
    "        chroma_stft = librosa.feature.chroma_stft(y=y, sr=sr)\n",
    "        spec_cent = librosa.feature.spectral_centroid(y=y, sr=sr)\n",
    "        spec_bw = librosa.feature.spectral_bandwidth(y=y, sr=sr)\n",
    "        rolloff = librosa.feature.spectral_rolloff(y=y, sr=sr)\n",
    "        zcr = librosa.feature.zero_crossing_rate(y)\n",
    "        mfcc = librosa.feature.mfcc(y=y, sr=sr)\n",
    "        to_append = f'{filename} {np.mean(chroma_stft)} {np.mean(rmse)} {np.mean(spec_cent)} {np.mean(spec_bw)} {np.mean(rolloff)} {np.mean(zcr)}'    \n",
    "        for e in mfcc:\n",
    "            to_append += f' {np.mean(e)}'\n",
    "        to_append += f' {g}'\n",
    "        file = open('data.csv', 'a', newline='')\n",
    "        with file:\n",
    "            writer = csv.writer(file)\n",
    "            writer.writerow(to_append.split())"
   ]
  },
  {
   "cell_type": "code",
   "execution_count": 6,
   "metadata": {},
   "outputs": [
    {
     "data": {
      "text/html": [
       "<div>\n",
       "<style scoped>\n",
       "    .dataframe tbody tr th:only-of-type {\n",
       "        vertical-align: middle;\n",
       "    }\n",
       "\n",
       "    .dataframe tbody tr th {\n",
       "        vertical-align: top;\n",
       "    }\n",
       "\n",
       "    .dataframe thead th {\n",
       "        text-align: right;\n",
       "    }\n",
       "</style>\n",
       "<table border=\"1\" class=\"dataframe\">\n",
       "  <thead>\n",
       "    <tr style=\"text-align: right;\">\n",
       "      <th></th>\n",
       "      <th>filename</th>\n",
       "      <th>chroma_stft</th>\n",
       "      <th>rmse</th>\n",
       "      <th>spectral_centroid</th>\n",
       "      <th>spectral_bandwidth</th>\n",
       "      <th>rolloff</th>\n",
       "      <th>zero_crossing_rate</th>\n",
       "      <th>mfcc1</th>\n",
       "      <th>mfcc2</th>\n",
       "      <th>mfcc3</th>\n",
       "      <th>...</th>\n",
       "      <th>mfcc12</th>\n",
       "      <th>mfcc13</th>\n",
       "      <th>mfcc14</th>\n",
       "      <th>mfcc15</th>\n",
       "      <th>mfcc16</th>\n",
       "      <th>mfcc17</th>\n",
       "      <th>mfcc18</th>\n",
       "      <th>mfcc19</th>\n",
       "      <th>mfcc20</th>\n",
       "      <th>label</th>\n",
       "    </tr>\n",
       "  </thead>\n",
       "  <tbody>\n",
       "    <tr>\n",
       "      <th>0</th>\n",
       "      <td>blues.00066.au</td>\n",
       "      <td>0.374710</td>\n",
       "      <td>0.110496</td>\n",
       "      <td>2340.432873</td>\n",
       "      <td>2256.538115</td>\n",
       "      <td>4972.503265</td>\n",
       "      <td>0.121775</td>\n",
       "      <td>-116.517402</td>\n",
       "      <td>97.430279</td>\n",
       "      <td>-13.880191</td>\n",
       "      <td>...</td>\n",
       "      <td>10.998190</td>\n",
       "      <td>-13.861801</td>\n",
       "      <td>9.735367</td>\n",
       "      <td>-5.089488</td>\n",
       "      <td>2.634638</td>\n",
       "      <td>-9.883816</td>\n",
       "      <td>6.159059</td>\n",
       "      <td>-7.682608</td>\n",
       "      <td>-4.852479</td>\n",
       "      <td>blues</td>\n",
       "    </tr>\n",
       "    <tr>\n",
       "      <th>1</th>\n",
       "      <td>blues.00037.au</td>\n",
       "      <td>0.248627</td>\n",
       "      <td>0.069145</td>\n",
       "      <td>1188.168337</td>\n",
       "      <td>1682.860150</td>\n",
       "      <td>2339.635853</td>\n",
       "      <td>0.048160</td>\n",
       "      <td>-328.673793</td>\n",
       "      <td>102.696873</td>\n",
       "      <td>19.876064</td>\n",
       "      <td>...</td>\n",
       "      <td>-8.897177</td>\n",
       "      <td>-9.238519</td>\n",
       "      <td>-9.109326</td>\n",
       "      <td>-9.003836</td>\n",
       "      <td>-7.640767</td>\n",
       "      <td>-7.190916</td>\n",
       "      <td>-9.368477</td>\n",
       "      <td>-4.470060</td>\n",
       "      <td>-3.688800</td>\n",
       "      <td>blues</td>\n",
       "    </tr>\n",
       "    <tr>\n",
       "      <th>2</th>\n",
       "      <td>blues.00013.au</td>\n",
       "      <td>0.264616</td>\n",
       "      <td>0.113221</td>\n",
       "      <td>1324.304356</td>\n",
       "      <td>1827.737535</td>\n",
       "      <td>2710.033613</td>\n",
       "      <td>0.051417</td>\n",
       "      <td>-209.789266</td>\n",
       "      <td>124.458449</td>\n",
       "      <td>10.310380</td>\n",
       "      <td>...</td>\n",
       "      <td>-2.205935</td>\n",
       "      <td>-3.038192</td>\n",
       "      <td>8.645516</td>\n",
       "      <td>-0.304230</td>\n",
       "      <td>-0.637744</td>\n",
       "      <td>-2.939885</td>\n",
       "      <td>-1.705923</td>\n",
       "      <td>-1.769590</td>\n",
       "      <td>-7.762958</td>\n",
       "      <td>blues</td>\n",
       "    </tr>\n",
       "    <tr>\n",
       "      <th>3</th>\n",
       "      <td>blues.00011.au</td>\n",
       "      <td>0.367137</td>\n",
       "      <td>0.065713</td>\n",
       "      <td>1353.260462</td>\n",
       "      <td>1757.230941</td>\n",
       "      <td>2882.224238</td>\n",
       "      <td>0.043959</td>\n",
       "      <td>-287.914965</td>\n",
       "      <td>123.980064</td>\n",
       "      <td>5.459754</td>\n",
       "      <td>...</td>\n",
       "      <td>-3.180866</td>\n",
       "      <td>-5.556420</td>\n",
       "      <td>-6.789627</td>\n",
       "      <td>-2.644640</td>\n",
       "      <td>-2.984927</td>\n",
       "      <td>-3.385201</td>\n",
       "      <td>-1.856390</td>\n",
       "      <td>1.836151</td>\n",
       "      <td>-4.897420</td>\n",
       "      <td>blues</td>\n",
       "    </tr>\n",
       "    <tr>\n",
       "      <th>4</th>\n",
       "      <td>blues.00029.au</td>\n",
       "      <td>0.280456</td>\n",
       "      <td>0.124715</td>\n",
       "      <td>1649.293771</td>\n",
       "      <td>2190.248306</td>\n",
       "      <td>3761.427255</td>\n",
       "      <td>0.052926</td>\n",
       "      <td>-233.724591</td>\n",
       "      <td>101.183595</td>\n",
       "      <td>17.650272</td>\n",
       "      <td>...</td>\n",
       "      <td>-6.046127</td>\n",
       "      <td>-5.065351</td>\n",
       "      <td>1.073173</td>\n",
       "      <td>-5.780492</td>\n",
       "      <td>-8.305596</td>\n",
       "      <td>-11.386346</td>\n",
       "      <td>-6.725316</td>\n",
       "      <td>-10.027707</td>\n",
       "      <td>-14.035269</td>\n",
       "      <td>blues</td>\n",
       "    </tr>\n",
       "  </tbody>\n",
       "</table>\n",
       "<p>5 rows × 28 columns</p>\n",
       "</div>"
      ],
      "text/plain": [
       "         filename  chroma_stft      rmse  spectral_centroid  \\\n",
       "0  blues.00066.au     0.374710  0.110496        2340.432873   \n",
       "1  blues.00037.au     0.248627  0.069145        1188.168337   \n",
       "2  blues.00013.au     0.264616  0.113221        1324.304356   \n",
       "3  blues.00011.au     0.367137  0.065713        1353.260462   \n",
       "4  blues.00029.au     0.280456  0.124715        1649.293771   \n",
       "\n",
       "   spectral_bandwidth      rolloff  zero_crossing_rate       mfcc1  \\\n",
       "0         2256.538115  4972.503265            0.121775 -116.517402   \n",
       "1         1682.860150  2339.635853            0.048160 -328.673793   \n",
       "2         1827.737535  2710.033613            0.051417 -209.789266   \n",
       "3         1757.230941  2882.224238            0.043959 -287.914965   \n",
       "4         2190.248306  3761.427255            0.052926 -233.724591   \n",
       "\n",
       "        mfcc2      mfcc3  ...       mfcc12     mfcc13    mfcc14    mfcc15  \\\n",
       "0   97.430279 -13.880191  ...    10.998190 -13.861801  9.735367 -5.089488   \n",
       "1  102.696873  19.876064  ...    -8.897177  -9.238519 -9.109326 -9.003836   \n",
       "2  124.458449  10.310380  ...    -2.205935  -3.038192  8.645516 -0.304230   \n",
       "3  123.980064   5.459754  ...    -3.180866  -5.556420 -6.789627 -2.644640   \n",
       "4  101.183595  17.650272  ...    -6.046127  -5.065351  1.073173 -5.780492   \n",
       "\n",
       "     mfcc16     mfcc17    mfcc18     mfcc19     mfcc20  label  \n",
       "0  2.634638  -9.883816  6.159059  -7.682608  -4.852479  blues  \n",
       "1 -7.640767  -7.190916 -9.368477  -4.470060  -3.688800  blues  \n",
       "2 -0.637744  -2.939885 -1.705923  -1.769590  -7.762958  blues  \n",
       "3 -2.984927  -3.385201 -1.856390   1.836151  -4.897420  blues  \n",
       "4 -8.305596 -11.386346 -6.725316 -10.027707 -14.035269  blues  \n",
       "\n",
       "[5 rows x 28 columns]"
      ]
     },
     "execution_count": 6,
     "metadata": {},
     "output_type": "execute_result"
    }
   ],
   "source": [
    "data = pd.read_csv('data.csv')\n",
    "data.head()"
   ]
  },
  {
   "cell_type": "code",
   "execution_count": 7,
   "metadata": {},
   "outputs": [],
   "source": [
    "# Drop unnecessary columns\n",
    "data = data.drop(['filename'],axis=1)"
   ]
  },
  {
   "cell_type": "code",
   "execution_count": 8,
   "metadata": {},
   "outputs": [],
   "source": [
    "genre_list = data.iloc[:, -1]\n",
    "encoder = LabelEncoder()\n",
    "y = encoder.fit_transform(genre_list)"
   ]
  },
  {
   "cell_type": "code",
   "execution_count": 9,
   "metadata": {},
   "outputs": [],
   "source": [
    "scaler = StandardScaler()\n",
    "X = scaler.fit_transform(np.array(data.iloc[:, :-1], dtype = float))"
   ]
  },
  {
   "cell_type": "code",
   "execution_count": 10,
   "metadata": {},
   "outputs": [],
   "source": [
    "from sklearn.decomposition import PCA\n",
    "\n",
    "pca = PCA(n_components=3)\n",
    "principalComponents = pca.fit_transform(X)\n",
    "principalDf = pd.DataFrame(data = principalComponents\n",
    "             , columns = ['principal component 1', 'principal component 2','principal component 3'])"
   ]
  },
  {
   "cell_type": "code",
   "execution_count": 11,
   "metadata": {},
   "outputs": [],
   "source": [
    "finalDf = pd.concat([principalDf, data[['label']]], axis = 1)\n"
   ]
  },
  {
   "cell_type": "code",
   "execution_count": 12,
   "metadata": {},
   "outputs": [
    {
     "data": {
      "text/html": [
       "<div>\n",
       "<style scoped>\n",
       "    .dataframe tbody tr th:only-of-type {\n",
       "        vertical-align: middle;\n",
       "    }\n",
       "\n",
       "    .dataframe tbody tr th {\n",
       "        vertical-align: top;\n",
       "    }\n",
       "\n",
       "    .dataframe thead th {\n",
       "        text-align: right;\n",
       "    }\n",
       "</style>\n",
       "<table border=\"1\" class=\"dataframe\">\n",
       "  <thead>\n",
       "    <tr style=\"text-align: right;\">\n",
       "      <th></th>\n",
       "      <th>principal component 1</th>\n",
       "      <th>principal component 2</th>\n",
       "      <th>principal component 3</th>\n",
       "      <th>label</th>\n",
       "    </tr>\n",
       "  </thead>\n",
       "  <tbody>\n",
       "    <tr>\n",
       "      <th>0</th>\n",
       "      <td>3.965104</td>\n",
       "      <td>-0.884181</td>\n",
       "      <td>0.806179</td>\n",
       "      <td>blues</td>\n",
       "    </tr>\n",
       "    <tr>\n",
       "      <th>1</th>\n",
       "      <td>-2.333819</td>\n",
       "      <td>-4.033521</td>\n",
       "      <td>2.775286</td>\n",
       "      <td>blues</td>\n",
       "    </tr>\n",
       "    <tr>\n",
       "      <th>2</th>\n",
       "      <td>-1.058976</td>\n",
       "      <td>-2.630672</td>\n",
       "      <td>-0.536523</td>\n",
       "      <td>blues</td>\n",
       "    </tr>\n",
       "    <tr>\n",
       "      <th>3</th>\n",
       "      <td>-2.427959</td>\n",
       "      <td>-2.481258</td>\n",
       "      <td>-0.119241</td>\n",
       "      <td>blues</td>\n",
       "    </tr>\n",
       "    <tr>\n",
       "      <th>4</th>\n",
       "      <td>-0.218579</td>\n",
       "      <td>-3.418398</td>\n",
       "      <td>4.217736</td>\n",
       "      <td>blues</td>\n",
       "    </tr>\n",
       "  </tbody>\n",
       "</table>\n",
       "</div>"
      ],
      "text/plain": [
       "   principal component 1  principal component 2  principal component 3  label\n",
       "0               3.965104              -0.884181               0.806179  blues\n",
       "1              -2.333819              -4.033521               2.775286  blues\n",
       "2              -1.058976              -2.630672              -0.536523  blues\n",
       "3              -2.427959              -2.481258              -0.119241  blues\n",
       "4              -0.218579              -3.418398               4.217736  blues"
      ]
     },
     "execution_count": 12,
     "metadata": {},
     "output_type": "execute_result"
    }
   ],
   "source": [
    "finalDf.head()"
   ]
  },
  {
   "cell_type": "code",
   "execution_count": 13,
   "metadata": {},
   "outputs": [
    {
     "data": {
      "image/png": "[encoded data removed]",
      "text/plain": [
       "<Figure size 576x576 with 1 Axes>"
      ]
     },
     "metadata": {
      "needs_background": "light"
     },
     "output_type": "display_data"
    }
   ],
   "source": [
    "fig = plt.figure(figsize = (8,8))\n",
    "ax = fig.add_subplot(1,1,1) \n",
    "ax.set_xlabel('Principal Component 1', fontsize = 15)\n",
    "ax.set_ylabel('Principal Component 2', fontsize = 15)\n",
    "ax.set_title('2 component PCA', fontsize = 20)\n",
    "targets = ['rock', 'blues'] #, 'country', 'disco', 'hiphop', 'jazz']\n",
    "colors = ['r', 'g']#,'b','y','c','m']\n",
    "for target, color in zip(targets,colors):\n",
    "    indicesToKeep = finalDf['label'] == target\n",
    "    ax.scatter(finalDf.loc[indicesToKeep, 'principal component 2']\n",
    "               , finalDf.loc[indicesToKeep, 'principal component 3']\n",
    "               , c = color\n",
    "               , s = 50)\n",
    "ax.legend(targets)\n",
    "ax.grid()"
   ]
  },
  {
   "cell_type": "code",
   "execution_count": 14,
   "metadata": {},
   "outputs": [],
   "source": [
    "vals = finalDf.values[:,0:2]"
   ]
  },
  {
   "cell_type": "code",
   "execution_count": 15,
   "metadata": {},
   "outputs": [
    {
     "data": {
      "text/plain": [
       "(1000, 2)"
      ]
     },
     "execution_count": 15,
     "metadata": {},
     "output_type": "execute_result"
    }
   ],
   "source": [
    "vals.shape"
   ]
  },
  {
   "cell_type": "code",
   "execution_count": 16,
   "metadata": {},
   "outputs": [
    {
     "data": {
      "text/plain": [
       "<function matplotlib.pyplot.show(*args, **kw)>"
      ]
     },
     "execution_count": 16,
     "metadata": {},
     "output_type": "execute_result"
    },
    {
     "data": {
      "image/png": "[encoded data removed]",
      "text/plain": [
       "<Figure size 432x288 with 1 Axes>"
      ]
     },
     "metadata": {
      "needs_background": "light"
     },
     "output_type": "display_data"
    }
   ],
   "source": [
    "centers = []\n",
    "for i in range(10):\n",
    "    current = vals[100*i:100*(i+1),:]\n",
    "    currmean = np.average(current, axis = 0)\n",
    "    centers.append(currmean)\n",
    "    \n",
    "centers = np.array(centers)\n",
    "plt.scatter(centers[:,0],centers[:,1])\n",
    "plt.show"
   ]
  },
  {
   "cell_type": "code",
   "execution_count": 17,
   "metadata": {},
   "outputs": [
    {
     "data": {
      "image/png": "[encoded data removed]",
      "text/plain": [
       "<Figure size 576x576 with 1 Axes>"
      ]
     },
     "metadata": {
      "needs_background": "light"
     },
     "output_type": "display_data"
    }
   ],
   "source": [
    "genres = 'blues classical country disco hiphop jazz metal pop reggae rock'.split()\n",
    "targets = genres\n",
    "fig = plt.figure(figsize = (8,8))\n",
    "ax = fig.add_subplot(1,1,1) \n",
    "ax.set_xlabel('Principal Component 1', fontsize = 15)\n",
    "ax.set_ylabel('Principal Component 2', fontsize = 15)\n",
    "\n",
    "ax.set_title('Centers of Each Cluser', fontsize = 20)\n",
    "j = 0\n",
    "for target in genres:\n",
    "    \n",
    "    ax.scatter(centers[j,0],centers[j,1]\n",
    "               , s = 50)\n",
    "    ax.text(centers[j,0]-0.15,centers[j,1]+0.2,genres[j])\n",
    "\n",
    "    j += 1\n",
    "    \n"
   ]
  },
  {
   "cell_type": "markdown",
   "metadata": {},
   "source": [
    "## Classification"
   ]
  },
  {
   "cell_type": "markdown",
   "metadata": {},
   "source": [
    "The first model will be generated through Keras/sklearn. The second will be created using sklearn's Linear SVM module."
   ]
  },
  {
   "cell_type": "code",
   "execution_count": 18,
   "metadata": {},
   "outputs": [
    {
     "data": {
      "text/html": [
       "<div>\n",
       "<style scoped>\n",
       "    .dataframe tbody tr th:only-of-type {\n",
       "        vertical-align: middle;\n",
       "    }\n",
       "\n",
       "    .dataframe tbody tr th {\n",
       "        vertical-align: top;\n",
       "    }\n",
       "\n",
       "    .dataframe thead th {\n",
       "        text-align: right;\n",
       "    }\n",
       "</style>\n",
       "<table border=\"1\" class=\"dataframe\">\n",
       "  <thead>\n",
       "    <tr style=\"text-align: right;\">\n",
       "      <th></th>\n",
       "      <th>chroma_stft</th>\n",
       "      <th>rmse</th>\n",
       "      <th>spectral_centroid</th>\n",
       "      <th>spectral_bandwidth</th>\n",
       "      <th>rolloff</th>\n",
       "      <th>zero_crossing_rate</th>\n",
       "      <th>mfcc1</th>\n",
       "      <th>mfcc2</th>\n",
       "      <th>mfcc3</th>\n",
       "      <th>mfcc4</th>\n",
       "      <th>...</th>\n",
       "      <th>mfcc12</th>\n",
       "      <th>mfcc13</th>\n",
       "      <th>mfcc14</th>\n",
       "      <th>mfcc15</th>\n",
       "      <th>mfcc16</th>\n",
       "      <th>mfcc17</th>\n",
       "      <th>mfcc18</th>\n",
       "      <th>mfcc19</th>\n",
       "      <th>mfcc20</th>\n",
       "      <th>label</th>\n",
       "    </tr>\n",
       "  </thead>\n",
       "  <tbody>\n",
       "    <tr>\n",
       "      <th>0</th>\n",
       "      <td>0.374710</td>\n",
       "      <td>0.110496</td>\n",
       "      <td>2340.432873</td>\n",
       "      <td>2256.538115</td>\n",
       "      <td>4972.503265</td>\n",
       "      <td>0.121775</td>\n",
       "      <td>-116.517402</td>\n",
       "      <td>97.430279</td>\n",
       "      <td>-13.880191</td>\n",
       "      <td>48.966759</td>\n",
       "      <td>...</td>\n",
       "      <td>10.998190</td>\n",
       "      <td>-13.861801</td>\n",
       "      <td>9.735367</td>\n",
       "      <td>-5.089488</td>\n",
       "      <td>2.634638</td>\n",
       "      <td>-9.883816</td>\n",
       "      <td>6.159059</td>\n",
       "      <td>-7.682608</td>\n",
       "      <td>-4.852479</td>\n",
       "      <td>blues</td>\n",
       "    </tr>\n",
       "    <tr>\n",
       "      <th>1</th>\n",
       "      <td>0.248627</td>\n",
       "      <td>0.069145</td>\n",
       "      <td>1188.168337</td>\n",
       "      <td>1682.860150</td>\n",
       "      <td>2339.635853</td>\n",
       "      <td>0.048160</td>\n",
       "      <td>-328.673793</td>\n",
       "      <td>102.696873</td>\n",
       "      <td>19.876064</td>\n",
       "      <td>26.731257</td>\n",
       "      <td>...</td>\n",
       "      <td>-8.897177</td>\n",
       "      <td>-9.238519</td>\n",
       "      <td>-9.109326</td>\n",
       "      <td>-9.003836</td>\n",
       "      <td>-7.640767</td>\n",
       "      <td>-7.190916</td>\n",
       "      <td>-9.368477</td>\n",
       "      <td>-4.470060</td>\n",
       "      <td>-3.688800</td>\n",
       "      <td>blues</td>\n",
       "    </tr>\n",
       "    <tr>\n",
       "      <th>2</th>\n",
       "      <td>0.264616</td>\n",
       "      <td>0.113221</td>\n",
       "      <td>1324.304356</td>\n",
       "      <td>1827.737535</td>\n",
       "      <td>2710.033613</td>\n",
       "      <td>0.051417</td>\n",
       "      <td>-209.789266</td>\n",
       "      <td>124.458449</td>\n",
       "      <td>10.310380</td>\n",
       "      <td>47.018006</td>\n",
       "      <td>...</td>\n",
       "      <td>-2.205935</td>\n",
       "      <td>-3.038192</td>\n",
       "      <td>8.645516</td>\n",
       "      <td>-0.304230</td>\n",
       "      <td>-0.637744</td>\n",
       "      <td>-2.939885</td>\n",
       "      <td>-1.705923</td>\n",
       "      <td>-1.769590</td>\n",
       "      <td>-7.762958</td>\n",
       "      <td>blues</td>\n",
       "    </tr>\n",
       "    <tr>\n",
       "      <th>3</th>\n",
       "      <td>0.367137</td>\n",
       "      <td>0.065713</td>\n",
       "      <td>1353.260462</td>\n",
       "      <td>1757.230941</td>\n",
       "      <td>2882.224238</td>\n",
       "      <td>0.043959</td>\n",
       "      <td>-287.914965</td>\n",
       "      <td>123.980064</td>\n",
       "      <td>5.459754</td>\n",
       "      <td>33.678089</td>\n",
       "      <td>...</td>\n",
       "      <td>-3.180866</td>\n",
       "      <td>-5.556420</td>\n",
       "      <td>-6.789627</td>\n",
       "      <td>-2.644640</td>\n",
       "      <td>-2.984927</td>\n",
       "      <td>-3.385201</td>\n",
       "      <td>-1.856390</td>\n",
       "      <td>1.836151</td>\n",
       "      <td>-4.897420</td>\n",
       "      <td>blues</td>\n",
       "    </tr>\n",
       "    <tr>\n",
       "      <th>4</th>\n",
       "      <td>0.280456</td>\n",
       "      <td>0.124715</td>\n",
       "      <td>1649.293771</td>\n",
       "      <td>2190.248306</td>\n",
       "      <td>3761.427255</td>\n",
       "      <td>0.052926</td>\n",
       "      <td>-233.724591</td>\n",
       "      <td>101.183595</td>\n",
       "      <td>17.650272</td>\n",
       "      <td>23.734355</td>\n",
       "      <td>...</td>\n",
       "      <td>-6.046127</td>\n",
       "      <td>-5.065351</td>\n",
       "      <td>1.073173</td>\n",
       "      <td>-5.780492</td>\n",
       "      <td>-8.305596</td>\n",
       "      <td>-11.386346</td>\n",
       "      <td>-6.725316</td>\n",
       "      <td>-10.027707</td>\n",
       "      <td>-14.035269</td>\n",
       "      <td>blues</td>\n",
       "    </tr>\n",
       "  </tbody>\n",
       "</table>\n",
       "<p>5 rows × 27 columns</p>\n",
       "</div>"
      ],
      "text/plain": [
       "   chroma_stft      rmse  spectral_centroid  spectral_bandwidth      rolloff  \\\n",
       "0     0.374710  0.110496        2340.432873         2256.538115  4972.503265   \n",
       "1     0.248627  0.069145        1188.168337         1682.860150  2339.635853   \n",
       "2     0.264616  0.113221        1324.304356         1827.737535  2710.033613   \n",
       "3     0.367137  0.065713        1353.260462         1757.230941  2882.224238   \n",
       "4     0.280456  0.124715        1649.293771         2190.248306  3761.427255   \n",
       "\n",
       "   zero_crossing_rate       mfcc1       mfcc2      mfcc3      mfcc4  ...    \\\n",
       "0            0.121775 -116.517402   97.430279 -13.880191  48.966759  ...     \n",
       "1            0.048160 -328.673793  102.696873  19.876064  26.731257  ...     \n",
       "2            0.051417 -209.789266  124.458449  10.310380  47.018006  ...     \n",
       "3            0.043959 -287.914965  123.980064   5.459754  33.678089  ...     \n",
       "4            0.052926 -233.724591  101.183595  17.650272  23.734355  ...     \n",
       "\n",
       "      mfcc12     mfcc13    mfcc14    mfcc15    mfcc16     mfcc17    mfcc18  \\\n",
       "0  10.998190 -13.861801  9.735367 -5.089488  2.634638  -9.883816  6.159059   \n",
       "1  -8.897177  -9.238519 -9.109326 -9.003836 -7.640767  -7.190916 -9.368477   \n",
       "2  -2.205935  -3.038192  8.645516 -0.304230 -0.637744  -2.939885 -1.705923   \n",
       "3  -3.180866  -5.556420 -6.789627 -2.644640 -2.984927  -3.385201 -1.856390   \n",
       "4  -6.046127  -5.065351  1.073173 -5.780492 -8.305596 -11.386346 -6.725316   \n",
       "\n",
       "      mfcc19     mfcc20  label  \n",
       "0  -7.682608  -4.852479  blues  \n",
       "1  -4.470060  -3.688800  blues  \n",
       "2  -1.769590  -7.762958  blues  \n",
       "3   1.836151  -4.897420  blues  \n",
       "4 -10.027707 -14.035269  blues  \n",
       "\n",
       "[5 rows x 27 columns]"
      ]
     },
     "execution_count": 18,
     "metadata": {},
     "output_type": "execute_result"
    }
   ],
   "source": [
    "# Data now has filename removed (5x27).\n",
    "data.head()"
   ]
  },
  {
   "cell_type": "markdown",
   "metadata": {},
   "source": [
    "## Splitting data into train and test sets"
   ]
  },
  {
   "cell_type": "code",
   "execution_count": 21,
   "metadata": {},
   "outputs": [],
   "source": [
    "X_train, X_test, y_train, y_test = train_test_split(X, y, test_size=0.2)"
   ]
  },
  {
   "cell_type": "code",
   "execution_count": 22,
   "metadata": {},
   "outputs": [
    {
     "data": {
      "text/plain": [
       "800"
      ]
     },
     "execution_count": 22,
     "metadata": {},
     "output_type": "execute_result"
    }
   ],
   "source": [
    "len(y_train)"
   ]
  },
  {
   "cell_type": "code",
   "execution_count": 23,
   "metadata": {},
   "outputs": [
    {
     "data": {
      "text/plain": [
       "200"
      ]
     },
     "execution_count": 23,
     "metadata": {},
     "output_type": "execute_result"
    }
   ],
   "source": [
    "len(y_test)"
   ]
  },
  {
   "cell_type": "markdown",
   "metadata": {},
   "source": [
    "As we can see, the given data has been partitioned into train and test sets. Now, let's specify and fit our neural network model."
   ]
  },
  {
   "cell_type": "markdown",
   "metadata": {},
   "source": [
    "## Model Generation"
   ]
  },
  {
   "cell_type": "code",
   "execution_count": 84,
   "metadata": {},
   "outputs": [
    {
     "name": "stdout",
     "output_type": "stream",
     "text": [
      "Epoch 1/100\n",
      "800/800 [==============================] - 1s 954us/step - loss: 2.1500 - acc: 0.2275\n",
      "Epoch 2/100\n",
      "800/800 [==============================] - 0s 43us/step - loss: 1.8530 - acc: 0.3750\n",
      "Epoch 3/100\n",
      "800/800 [==============================] - 0s 44us/step - loss: 1.6527 - acc: 0.4138\n",
      "Epoch 4/100\n",
      "800/800 [==============================] - 0s 40us/step - loss: 1.4829 - acc: 0.4825\n",
      "Epoch 5/100\n",
      "800/800 [==============================] - 0s 40us/step - loss: 1.3494 - acc: 0.5487\n",
      "Epoch 6/100\n",
      "800/800 [==============================] - 0s 45us/step - loss: 1.2355 - acc: 0.5700\n",
      "Epoch 7/100\n",
      "800/800 [==============================] - 0s 32us/step - loss: 1.1435 - acc: 0.6175\n",
      "Epoch 8/100\n",
      "800/800 [==============================] - 0s 33us/step - loss: 1.0696 - acc: 0.6512\n",
      "Epoch 9/100\n",
      "800/800 [==============================] - 0s 26us/step - loss: 1.0002 - acc: 0.6887\n",
      "Epoch 10/100\n",
      "800/800 [==============================] - 0s 38us/step - loss: 0.9511 - acc: 0.7037\n",
      "Epoch 11/100\n",
      "800/800 [==============================] - 0s 24us/step - loss: 0.8986 - acc: 0.7325\n",
      "Epoch 12/100\n",
      "800/800 [==============================] - 0s 39us/step - loss: 0.8422 - acc: 0.7450\n",
      "Epoch 13/100\n",
      "800/800 [==============================] - 0s 25us/step - loss: 0.8155 - acc: 0.7288\n",
      "Epoch 14/100\n",
      "800/800 [==============================] - 0s 26us/step - loss: 0.7645 - acc: 0.7625\n",
      "Epoch 15/100\n",
      "800/800 [==============================] - 0s 34us/step - loss: 0.7448 - acc: 0.7600\n",
      "Epoch 16/100\n",
      "800/800 [==============================] - 0s 24us/step - loss: 0.7042 - acc: 0.7750\n",
      "Epoch 17/100\n",
      "800/800 [==============================] - 0s 35us/step - loss: 0.6704 - acc: 0.8013\n",
      "Epoch 18/100\n",
      "800/800 [==============================] - 0s 25us/step - loss: 0.6518 - acc: 0.7850\n",
      "Epoch 19/100\n",
      "800/800 [==============================] - 0s 22us/step - loss: 0.6107 - acc: 0.8113\n",
      "Epoch 20/100\n",
      "800/800 [==============================] - 0s 37us/step - loss: 0.5859 - acc: 0.8050\n",
      "Epoch 21/100\n",
      "800/800 [==============================] - 0s 24us/step - loss: 0.5664 - acc: 0.8362\n",
      "Epoch 22/100\n",
      "800/800 [==============================] - 0s 31us/step - loss: 0.5333 - acc: 0.8450\n",
      "Epoch 23/100\n",
      "800/800 [==============================] - 0s 25us/step - loss: 0.5084 - acc: 0.8400\n",
      "Epoch 24/100\n",
      "800/800 [==============================] - 0s 39us/step - loss: 0.4913 - acc: 0.8438\n",
      "Epoch 25/100\n",
      "800/800 [==============================] - 0s 41us/step - loss: 0.4644 - acc: 0.8663\n",
      "Epoch 26/100\n",
      "800/800 [==============================] - 0s 32us/step - loss: 0.4435 - acc: 0.8700\n",
      "Epoch 27/100\n",
      "800/800 [==============================] - 0s 38us/step - loss: 0.4125 - acc: 0.8850\n",
      "Epoch 28/100\n",
      "800/800 [==============================] - 0s 38us/step - loss: 0.3992 - acc: 0.8962\n",
      "Epoch 29/100\n",
      "800/800 [==============================] - 0s 29us/step - loss: 0.3754 - acc: 0.8950\n",
      "Epoch 30/100\n",
      "800/800 [==============================] - 0s 37us/step - loss: 0.3597 - acc: 0.9012\n",
      "Epoch 31/100\n",
      "800/800 [==============================] - 0s 35us/step - loss: 0.3430 - acc: 0.9125\n",
      "Epoch 32/100\n",
      "800/800 [==============================] - 0s 29us/step - loss: 0.3223 - acc: 0.9175\n",
      "Epoch 33/100\n",
      "800/800 [==============================] - 0s 43us/step - loss: 0.3050 - acc: 0.9275\n",
      "Epoch 34/100\n",
      "800/800 [==============================] - 0s 38us/step - loss: 0.2943 - acc: 0.9263\n",
      "Epoch 35/100\n",
      "800/800 [==============================] - 0s 38us/step - loss: 0.2735 - acc: 0.9450\n",
      "Epoch 36/100\n",
      "800/800 [==============================] - 0s 39us/step - loss: 0.2643 - acc: 0.9450\n",
      "Epoch 37/100\n",
      "800/800 [==============================] - 0s 45us/step - loss: 0.2511 - acc: 0.9563\n",
      "Epoch 38/100\n",
      "800/800 [==============================] - 0s 28us/step - loss: 0.2391 - acc: 0.9563\n",
      "Epoch 39/100\n",
      "800/800 [==============================] - 0s 25us/step - loss: 0.2269 - acc: 0.9575\n",
      "Epoch 40/100\n",
      "800/800 [==============================] - 0s 25us/step - loss: 0.2209 - acc: 0.9612\n",
      "Epoch 41/100\n",
      "800/800 [==============================] - 0s 23us/step - loss: 0.1982 - acc: 0.9650\n",
      "Epoch 42/100\n",
      "800/800 [==============================] - 0s 25us/step - loss: 0.2041 - acc: 0.9587\n",
      "Epoch 43/100\n",
      "800/800 [==============================] - 0s 22us/step - loss: 0.1887 - acc: 0.9675\n",
      "Epoch 44/100\n",
      "800/800 [==============================] - 0s 22us/step - loss: 0.1804 - acc: 0.9650\n",
      "Epoch 45/100\n",
      "800/800 [==============================] - 0s 26us/step - loss: 0.1697 - acc: 0.9750\n",
      "Epoch 46/100\n",
      "800/800 [==============================] - 0s 46us/step - loss: 0.1571 - acc: 0.9738\n",
      "Epoch 47/100\n",
      "800/800 [==============================] - 0s 34us/step - loss: 0.1470 - acc: 0.9775\n",
      "Epoch 48/100\n",
      "800/800 [==============================] - 0s 28us/step - loss: 0.1392 - acc: 0.9775\n",
      "Epoch 49/100\n",
      "800/800 [==============================] - 0s 31us/step - loss: 0.1320 - acc: 0.9788\n",
      "Epoch 50/100\n",
      "800/800 [==============================] - 0s 27us/step - loss: 0.1207 - acc: 0.9838\n",
      "Epoch 51/100\n",
      "800/800 [==============================] - 0s 35us/step - loss: 0.1231 - acc: 0.9788\n",
      "Epoch 52/100\n",
      "800/800 [==============================] - 0s 26us/step - loss: 0.1146 - acc: 0.9875\n",
      "Epoch 53/100\n",
      "800/800 [==============================] - 0s 31us/step - loss: 0.1048 - acc: 0.9875\n",
      "Epoch 54/100\n",
      "800/800 [==============================] - 0s 25us/step - loss: 0.1066 - acc: 0.9888\n",
      "Epoch 55/100\n",
      "800/800 [==============================] - 0s 27us/step - loss: 0.1007 - acc: 0.9875\n",
      "Epoch 56/100\n",
      "800/800 [==============================] - 0s 33us/step - loss: 0.0946 - acc: 0.9937\n",
      "Epoch 57/100\n",
      "800/800 [==============================] - 0s 27us/step - loss: 0.0920 - acc: 0.9875\n",
      "Epoch 58/100\n",
      "800/800 [==============================] - 0s 33us/step - loss: 0.0828 - acc: 0.9950\n",
      "Epoch 59/100\n",
      "800/800 [==============================] - 0s 27us/step - loss: 0.0768 - acc: 0.9937\n",
      "Epoch 60/100\n",
      "800/800 [==============================] - 0s 25us/step - loss: 0.0733 - acc: 0.9913\n",
      "Epoch 61/100\n",
      "800/800 [==============================] - 0s 25us/step - loss: 0.0706 - acc: 0.9937\n",
      "Epoch 62/100\n",
      "800/800 [==============================] - 0s 23us/step - loss: 0.0668 - acc: 0.9937\n",
      "Epoch 63/100\n",
      "800/800 [==============================] - 0s 22us/step - loss: 0.0638 - acc: 0.9937\n",
      "Epoch 64/100\n",
      "800/800 [==============================] - 0s 29us/step - loss: 0.0629 - acc: 0.9925\n",
      "Epoch 65/100\n",
      "800/800 [==============================] - 0s 27us/step - loss: 0.0578 - acc: 0.9962\n",
      "Epoch 66/100\n",
      "800/800 [==============================] - 0s 26us/step - loss: 0.0531 - acc: 0.9962\n",
      "Epoch 67/100\n",
      "800/800 [==============================] - 0s 36us/step - loss: 0.0508 - acc: 0.9962\n",
      "Epoch 68/100\n",
      "800/800 [==============================] - 0s 31us/step - loss: 0.0501 - acc: 0.9962\n",
      "Epoch 69/100\n",
      "800/800 [==============================] - 0s 30us/step - loss: 0.0477 - acc: 0.9975\n",
      "Epoch 70/100\n",
      "800/800 [==============================] - 0s 25us/step - loss: 0.0487 - acc: 0.9950\n",
      "Epoch 71/100\n",
      "800/800 [==============================] - 0s 30us/step - loss: 0.0502 - acc: 0.9950\n",
      "Epoch 72/100\n",
      "800/800 [==============================] - 0s 27us/step - loss: 0.0488 - acc: 0.9950\n",
      "Epoch 73/100\n",
      "800/800 [==============================] - 0s 26us/step - loss: 0.0447 - acc: 0.9962\n",
      "Epoch 74/100\n",
      "800/800 [==============================] - 0s 26us/step - loss: 0.0431 - acc: 0.9975\n",
      "Epoch 75/100\n",
      "800/800 [==============================] - 0s 24us/step - loss: 0.0388 - acc: 0.9975\n",
      "Epoch 76/100\n",
      "800/800 [==============================] - 0s 29us/step - loss: 0.0366 - acc: 0.9975\n",
      "Epoch 77/100\n",
      "800/800 [==============================] - 0s 24us/step - loss: 0.0358 - acc: 0.9975\n",
      "Epoch 78/100\n",
      "800/800 [==============================] - 0s 34us/step - loss: 0.0368 - acc: 0.9988\n",
      "Epoch 79/100\n",
      "800/800 [==============================] - 0s 21us/step - loss: 0.0331 - acc: 0.9975\n",
      "Epoch 80/100\n",
      "800/800 [==============================] - 0s 21us/step - loss: 0.0291 - acc: 0.9988\n",
      "Epoch 81/100\n",
      "800/800 [==============================] - 0s 22us/step - loss: 0.0294 - acc: 0.9988\n",
      "Epoch 82/100\n",
      "800/800 [==============================] - 0s 23us/step - loss: 0.0281 - acc: 0.9975\n",
      "Epoch 83/100\n",
      "800/800 [==============================] - 0s 23us/step - loss: 0.0272 - acc: 0.9988\n",
      "Epoch 84/100\n"
     ]
    },
    {
     "name": "stdout",
     "output_type": "stream",
     "text": [
      "800/800 [==============================] - 0s 23us/step - loss: 0.0278 - acc: 0.9975\n",
      "Epoch 85/100\n",
      "800/800 [==============================] - 0s 24us/step - loss: 0.0256 - acc: 0.9975\n",
      "Epoch 86/100\n",
      "800/800 [==============================] - 0s 24us/step - loss: 0.0245 - acc: 0.9975\n",
      "Epoch 87/100\n",
      "800/800 [==============================] - 0s 23us/step - loss: 0.0245 - acc: 0.9988\n",
      "Epoch 88/100\n",
      "800/800 [==============================] - 0s 24us/step - loss: 0.0231 - acc: 0.9988\n",
      "Epoch 89/100\n",
      "800/800 [==============================] - 0s 25us/step - loss: 0.0216 - acc: 0.9988\n",
      "Epoch 90/100\n",
      "800/800 [==============================] - 0s 22us/step - loss: 0.0214 - acc: 0.9988\n",
      "Epoch 91/100\n",
      "800/800 [==============================] - 0s 22us/step - loss: 0.0224 - acc: 0.9975\n",
      "Epoch 92/100\n",
      "800/800 [==============================] - 0s 24us/step - loss: 0.0230 - acc: 0.9988\n",
      "Epoch 93/100\n",
      "800/800 [==============================] - 0s 24us/step - loss: 0.0211 - acc: 0.9988\n",
      "Epoch 94/100\n",
      "800/800 [==============================] - 0s 26us/step - loss: 0.0199 - acc: 0.9988\n",
      "Epoch 95/100\n",
      "800/800 [==============================] - 0s 24us/step - loss: 0.0189 - acc: 0.9975\n",
      "Epoch 96/100\n",
      "800/800 [==============================] - 0s 26us/step - loss: 0.0195 - acc: 0.9988\n",
      "Epoch 97/100\n",
      "800/800 [==============================] - 0s 26us/step - loss: 0.0173 - acc: 0.9988\n",
      "Epoch 98/100\n",
      "800/800 [==============================] - 0s 24us/step - loss: 0.0168 - acc: 0.9988\n",
      "Epoch 99/100\n",
      "800/800 [==============================] - 0s 25us/step - loss: 0.0180 - acc: 0.9988\n",
      "Epoch 100/100\n",
      "800/800 [==============================] - 0s 28us/step - loss: 0.0185 - acc: 0.9988\n"
     ]
    }
   ],
   "source": [
    "from keras import models\n",
    "from keras import layers\n",
    "\n",
    "# This section of code generates the baseline model without any\n",
    "# special accuracy tweaks to it. Tweaks are mentioned below.\n",
    "# Using sequential model (a linear stack of layers in a neural net)\n",
    "model = models.Sequential()\n",
    "\n",
    "# Specify and add layers to the model.\n",
    "model.add(layers.Dense(256, activation='relu', \n",
    "                       input_shape=(X_train.shape[1],)))\n",
    "model.add(layers.Dense(128, activation='relu'))\n",
    "model.add(layers.Dense(64, activation='relu'))\n",
    "\n",
    "# Add final softmax layer to map output of network to a probability distribution.\n",
    "model.add(layers.Dense(10, activation='softmax'))\n",
    "\n",
    "model.compile(optimizer='adam', \n",
    "              loss='sparse_categorical_crossentropy', \n",
    "              metrics=['accuracy'])\n",
    "\n",
    "# Adjust epochs to train the model more.\n",
    "baseline_history = model.fit(X_train, y_train, epochs=100,\n",
    "                    batch_size=128)"
   ]
  },
  {
   "cell_type": "code",
   "execution_count": 85,
   "metadata": {},
   "outputs": [
    {
     "name": "stdout",
     "output_type": "stream",
     "text": [
      "200/200 [==============================] - 0s 1ms/step\n"
     ]
    }
   ],
   "source": [
    "# Evaluate accuracy and loss\n",
    "test_loss, test_acc = model.evaluate(X_test, y_test)"
   ]
  },
  {
   "cell_type": "code",
   "execution_count": 86,
   "metadata": {},
   "outputs": [
    {
     "name": "stdout",
     "output_type": "stream",
     "text": [
      "test accuracy:  0.695\n"
     ]
    }
   ],
   "source": [
    "print('test accuracy: ', test_acc)"
   ]
  },
  {
   "cell_type": "markdown",
   "metadata": {},
   "source": [
    "We can see that there is some overfitting going on due to a large amount of data with a low accuracy."
   ]
  },
  {
   "cell_type": "markdown",
   "metadata": {},
   "source": [
    "## Tweaking Models and Comparing Performance"
   ]
  },
  {
   "cell_type": "markdown",
   "metadata": {},
   "source": [
    "As a result of overfitting, we will need to tweak the number and density of our neural network layers. Hopefully, with a smaller network, we will be able to prevent the overfitting that takes place immediately. A common method of preventing overfitting is 'Dropout.' It is a prevalent regularization technique for neural networks.  Dropout, applied to a layer, consists of randomly \"dropping out\" (i.e. set to zero) a number of output features of the layer during training."
   ]
  },
  {
   "cell_type": "code",
   "execution_count": 143,
   "metadata": {},
   "outputs": [
    {
     "name": "stdout",
     "output_type": "stream",
     "text": [
      "Epoch 1/100\n",
      "800/800 [==============================] - 2s 2ms/step - loss: 2.2743 - acc: 0.1638\n",
      "Epoch 2/100\n",
      "800/800 [==============================] - 0s 35us/step - loss: 2.0461 - acc: 0.3300\n",
      "Epoch 3/100\n",
      "800/800 [==============================] - 0s 36us/step - loss: 1.9048 - acc: 0.3712\n",
      "Epoch 4/100\n",
      "800/800 [==============================] - 0s 39us/step - loss: 1.7506 - acc: 0.4000\n",
      "Epoch 5/100\n",
      "800/800 [==============================] - 0s 41us/step - loss: 1.6237 - acc: 0.4362\n",
      "Epoch 6/100\n",
      "800/800 [==============================] - 0s 45us/step - loss: 1.5377 - acc: 0.4563\n",
      "Epoch 7/100\n",
      "800/800 [==============================] - 0s 35us/step - loss: 1.4535 - acc: 0.4788\n",
      "Epoch 8/100\n",
      "800/800 [==============================] - 0s 40us/step - loss: 1.3588 - acc: 0.5062\n",
      "Epoch 9/100\n",
      "800/800 [==============================] - 0s 41us/step - loss: 1.2855 - acc: 0.5400\n",
      "Epoch 10/100\n",
      "800/800 [==============================] - 0s 35us/step - loss: 1.2567 - acc: 0.5413\n",
      "Epoch 11/100\n",
      "800/800 [==============================] - 0s 45us/step - loss: 1.2003 - acc: 0.5700\n",
      "Epoch 12/100\n",
      "800/800 [==============================] - 0s 40us/step - loss: 1.1575 - acc: 0.6062\n",
      "Epoch 13/100\n",
      "800/800 [==============================] - 0s 39us/step - loss: 1.1218 - acc: 0.6088\n",
      "Epoch 14/100\n",
      "800/800 [==============================] - 0s 50us/step - loss: 1.0751 - acc: 0.6313\n",
      "Epoch 15/100\n",
      "800/800 [==============================] - 0s 34us/step - loss: 1.0358 - acc: 0.6600\n",
      "Epoch 16/100\n",
      "800/800 [==============================] - 0s 42us/step - loss: 1.0020 - acc: 0.6687\n",
      "Epoch 17/100\n",
      "800/800 [==============================] - 0s 39us/step - loss: 0.9626 - acc: 0.6663\n",
      "Epoch 18/100\n",
      "800/800 [==============================] - 0s 42us/step - loss: 0.9726 - acc: 0.6562\n",
      "Epoch 19/100\n",
      "800/800 [==============================] - 0s 39us/step - loss: 0.9304 - acc: 0.7025\n",
      "Epoch 20/100\n",
      "800/800 [==============================] - 0s 37us/step - loss: 0.8771 - acc: 0.7000\n",
      "Epoch 21/100\n",
      "800/800 [==============================] - 0s 39us/step - loss: 0.8856 - acc: 0.6825\n",
      "Epoch 22/100\n",
      "800/800 [==============================] - 0s 46us/step - loss: 0.8665 - acc: 0.6987\n",
      "Epoch 23/100\n",
      "800/800 [==============================] - 0s 50us/step - loss: 0.8295 - acc: 0.7175\n",
      "Epoch 24/100\n",
      "800/800 [==============================] - 0s 34us/step - loss: 0.8579 - acc: 0.7063\n",
      "Epoch 25/100\n",
      "800/800 [==============================] - 0s 41us/step - loss: 0.7979 - acc: 0.7312\n",
      "Epoch 26/100\n",
      "800/800 [==============================] - 0s 34us/step - loss: 0.7810 - acc: 0.7238\n",
      "Epoch 27/100\n",
      "800/800 [==============================] - 0s 47us/step - loss: 0.7459 - acc: 0.7437\n",
      "Epoch 28/100\n",
      "800/800 [==============================] - 0s 40us/step - loss: 0.7578 - acc: 0.7388\n",
      "Epoch 29/100\n",
      "800/800 [==============================] - 0s 37us/step - loss: 0.7177 - acc: 0.7700\n",
      "Epoch 30/100\n",
      "800/800 [==============================] - 0s 42us/step - loss: 0.6881 - acc: 0.7662\n",
      "Epoch 31/100\n",
      "800/800 [==============================] - 0s 44us/step - loss: 0.7017 - acc: 0.7425\n",
      "Epoch 32/100\n",
      "800/800 [==============================] - 0s 46us/step - loss: 0.6450 - acc: 0.7863\n",
      "Epoch 33/100\n",
      "800/800 [==============================] - 0s 35us/step - loss: 0.6710 - acc: 0.7700\n",
      "Epoch 34/100\n",
      "800/800 [==============================] - 0s 35us/step - loss: 0.6471 - acc: 0.7875\n",
      "Epoch 35/100\n",
      "800/800 [==============================] - 0s 55us/step - loss: 0.6349 - acc: 0.7913\n",
      "Epoch 36/100\n",
      "800/800 [==============================] - 0s 29us/step - loss: 0.6256 - acc: 0.7888\n",
      "Epoch 37/100\n",
      "800/800 [==============================] - 0s 35us/step - loss: 0.6006 - acc: 0.8200\n",
      "Epoch 38/100\n",
      "800/800 [==============================] - 0s 32us/step - loss: 0.6255 - acc: 0.7950\n",
      "Epoch 39/100\n",
      "800/800 [==============================] - 0s 36us/step - loss: 0.5791 - acc: 0.8200\n",
      "Epoch 40/100\n",
      "800/800 [==============================] - 0s 50us/step - loss: 0.5837 - acc: 0.8062\n",
      "Epoch 41/100\n",
      "800/800 [==============================] - 0s 34us/step - loss: 0.5433 - acc: 0.8362\n",
      "Epoch 42/100\n",
      "800/800 [==============================] - 0s 40us/step - loss: 0.5403 - acc: 0.8087\n",
      "Epoch 43/100\n",
      "800/800 [==============================] - 0s 36us/step - loss: 0.4911 - acc: 0.8412\n",
      "Epoch 44/100\n",
      "800/800 [==============================] - 0s 35us/step - loss: 0.5240 - acc: 0.8263\n",
      "Epoch 45/100\n",
      "800/800 [==============================] - 0s 36us/step - loss: 0.5443 - acc: 0.8188\n",
      "Epoch 46/100\n",
      "800/800 [==============================] - 0s 36us/step - loss: 0.4737 - acc: 0.8450\n",
      "Epoch 47/100\n",
      "800/800 [==============================] - 0s 34us/step - loss: 0.4817 - acc: 0.8362\n",
      "Epoch 48/100\n",
      "800/800 [==============================] - 0s 36us/step - loss: 0.5056 - acc: 0.8350\n",
      "Epoch 49/100\n",
      "800/800 [==============================] - 0s 43us/step - loss: 0.4487 - acc: 0.8500\n",
      "Epoch 50/100\n",
      "800/800 [==============================] - 0s 39us/step - loss: 0.4562 - acc: 0.8525\n",
      "Epoch 51/100\n",
      "800/800 [==============================] - 0s 31us/step - loss: 0.4861 - acc: 0.8362\n",
      "Epoch 52/100\n",
      "800/800 [==============================] - 0s 43us/step - loss: 0.4304 - acc: 0.8562\n",
      "Epoch 53/100\n",
      "800/800 [==============================] - 0s 34us/step - loss: 0.4122 - acc: 0.8675\n",
      "Epoch 54/100\n",
      "800/800 [==============================] - 0s 37us/step - loss: 0.4608 - acc: 0.8412\n",
      "Epoch 55/100\n",
      "800/800 [==============================] - 0s 37us/step - loss: 0.4467 - acc: 0.8450\n",
      "Epoch 56/100\n",
      "800/800 [==============================] - 0s 40us/step - loss: 0.4112 - acc: 0.8687\n",
      "Epoch 57/100\n",
      "800/800 [==============================] - 0s 36us/step - loss: 0.4094 - acc: 0.8700\n",
      "Epoch 58/100\n",
      "800/800 [==============================] - 0s 40us/step - loss: 0.3678 - acc: 0.8800\n",
      "Epoch 59/100\n",
      "800/800 [==============================] - 0s 34us/step - loss: 0.3655 - acc: 0.8862\n",
      "Epoch 60/100\n",
      "800/800 [==============================] - 0s 36us/step - loss: 0.3664 - acc: 0.8850\n",
      "Epoch 61/100\n",
      "800/800 [==============================] - 0s 30us/step - loss: 0.3833 - acc: 0.8725\n",
      "Epoch 62/100\n",
      "800/800 [==============================] - 0s 39us/step - loss: 0.3554 - acc: 0.8912\n",
      "Epoch 63/100\n",
      "800/800 [==============================] - 0s 39us/step - loss: 0.3493 - acc: 0.8925\n",
      "Epoch 64/100\n",
      "800/800 [==============================] - 0s 36us/step - loss: 0.3261 - acc: 0.8962\n",
      "Epoch 65/100\n",
      "800/800 [==============================] - 0s 37us/step - loss: 0.3576 - acc: 0.8650\n",
      "Epoch 66/100\n",
      "800/800 [==============================] - 0s 37us/step - loss: 0.3213 - acc: 0.8975\n",
      "Epoch 67/100\n",
      "800/800 [==============================] - 0s 39us/step - loss: 0.3184 - acc: 0.9025\n",
      "Epoch 68/100\n",
      "800/800 [==============================] - 0s 43us/step - loss: 0.3073 - acc: 0.9050\n",
      "Epoch 69/100\n",
      "800/800 [==============================] - 0s 35us/step - loss: 0.3251 - acc: 0.8950\n",
      "Epoch 70/100\n",
      "800/800 [==============================] - 0s 40us/step - loss: 0.3047 - acc: 0.9012\n",
      "Epoch 71/100\n",
      "800/800 [==============================] - 0s 45us/step - loss: 0.3133 - acc: 0.8875\n",
      "Epoch 72/100\n",
      "800/800 [==============================] - 0s 38us/step - loss: 0.3208 - acc: 0.8950\n",
      "Epoch 73/100\n",
      "800/800 [==============================] - 0s 46us/step - loss: 0.3033 - acc: 0.8962\n",
      "Epoch 74/100\n",
      "800/800 [==============================] - 0s 40us/step - loss: 0.2931 - acc: 0.9138\n",
      "Epoch 75/100\n",
      "800/800 [==============================] - 0s 42us/step - loss: 0.2897 - acc: 0.9088\n",
      "Epoch 76/100\n",
      "800/800 [==============================] - 0s 37us/step - loss: 0.2933 - acc: 0.9025\n",
      "Epoch 77/100\n",
      "800/800 [==============================] - 0s 38us/step - loss: 0.2597 - acc: 0.9200\n",
      "Epoch 78/100\n",
      "800/800 [==============================] - 0s 43us/step - loss: 0.2668 - acc: 0.9187\n",
      "Epoch 79/100\n",
      "800/800 [==============================] - 0s 38us/step - loss: 0.2349 - acc: 0.9350\n",
      "Epoch 80/100\n",
      "800/800 [==============================] - 0s 37us/step - loss: 0.2667 - acc: 0.9150\n",
      "Epoch 81/100\n",
      "800/800 [==============================] - 0s 30us/step - loss: 0.2537 - acc: 0.9213\n",
      "Epoch 82/100\n",
      "800/800 [==============================] - 0s 36us/step - loss: 0.2508 - acc: 0.9263\n",
      "Epoch 83/100\n",
      "800/800 [==============================] - 0s 36us/step - loss: 0.2565 - acc: 0.9163\n",
      "Epoch 84/100\n"
     ]
    },
    {
     "name": "stdout",
     "output_type": "stream",
     "text": [
      "800/800 [==============================] - 0s 37us/step - loss: 0.2437 - acc: 0.9288\n",
      "Epoch 85/100\n",
      "800/800 [==============================] - 0s 31us/step - loss: 0.2251 - acc: 0.9325\n",
      "Epoch 86/100\n",
      "800/800 [==============================] - 0s 33us/step - loss: 0.2254 - acc: 0.9438\n",
      "Epoch 87/100\n",
      "800/800 [==============================] - 0s 30us/step - loss: 0.2211 - acc: 0.9325\n",
      "Epoch 88/100\n",
      "800/800 [==============================] - 0s 28us/step - loss: 0.2159 - acc: 0.9300\n",
      "Epoch 89/100\n",
      "800/800 [==============================] - 0s 30us/step - loss: 0.2029 - acc: 0.9413\n",
      "Epoch 90/100\n",
      "800/800 [==============================] - 0s 30us/step - loss: 0.2358 - acc: 0.9125\n",
      "Epoch 91/100\n",
      "800/800 [==============================] - 0s 34us/step - loss: 0.1937 - acc: 0.9475\n",
      "Epoch 92/100\n",
      "800/800 [==============================] - 0s 38us/step - loss: 0.2183 - acc: 0.9300\n",
      "Epoch 93/100\n",
      "800/800 [==============================] - 0s 32us/step - loss: 0.1944 - acc: 0.9337\n",
      "Epoch 94/100\n",
      "800/800 [==============================] - 0s 34us/step - loss: 0.2156 - acc: 0.9363\n",
      "Epoch 95/100\n",
      "800/800 [==============================] - 0s 30us/step - loss: 0.1999 - acc: 0.9387\n",
      "Epoch 96/100\n",
      "800/800 [==============================] - 0s 31us/step - loss: 0.1936 - acc: 0.9413\n",
      "Epoch 97/100\n",
      "800/800 [==============================] - 0s 33us/step - loss: 0.2022 - acc: 0.9375\n",
      "Epoch 98/100\n",
      "800/800 [==============================] - 0s 29us/step - loss: 0.1881 - acc: 0.9487\n",
      "Epoch 99/100\n",
      "800/800 [==============================] - 0s 32us/step - loss: 0.1738 - acc: 0.9563\n",
      "Epoch 100/100\n",
      "800/800 [==============================] - 0s 34us/step - loss: 0.1733 - acc: 0.9513\n"
     ]
    }
   ],
   "source": [
    "# Model with dropout\n",
    "dpt_model = models.Sequential()\n",
    "\n",
    "# Specify and add layers to the model.\n",
    "# We will be adding two Dropout layers to the model.\n",
    "dpt_model.add(layers.Dense(256, activation='relu', \n",
    "                       input_shape=(X_train.shape[1],)))\n",
    "dpt_model.add(layers.Dense(128, activation='relu'))\n",
    "dpt_model.add(layers.Dropout(0.5))  # Dropout layer 2\n",
    "dpt_model.add(layers.Dense(64, activation='relu'))\n",
    "\n",
    "# Add final softmax layer to map output of network to a probability distribution.\n",
    "# The size of the softmax layer must be 10 because we have 10\n",
    "# different genres.\n",
    "dpt_model.add(layers.Dense(10, activation='softmax'))\n",
    "\n",
    "dpt_model.compile(optimizer='adam', \n",
    "              loss='sparse_categorical_crossentropy', \n",
    "              metrics=['accuracy'])\n",
    "\n",
    "dpt_history = dpt_model.fit(X_train, y_train, epochs=100,\n",
    "                    batch_size=128)"
   ]
  },
  {
   "cell_type": "code",
   "execution_count": 144,
   "metadata": {},
   "outputs": [
    {
     "name": "stdout",
     "output_type": "stream",
     "text": [
      "200/200 [==============================] - 1s 4ms/step\n"
     ]
    }
   ],
   "source": [
    "# Evaluate accuracy and loss with dropout\n",
    "dpt_test_loss, dpt_test_acc = dpt_model.evaluate(X_test, y_test)"
   ]
  },
  {
   "cell_type": "code",
   "execution_count": 145,
   "metadata": {},
   "outputs": [
    {
     "name": "stdout",
     "output_type": "stream",
     "text": [
      "0.695\n"
     ]
    }
   ],
   "source": [
    "print(dpt_test_acc)"
   ]
  },
  {
   "cell_type": "markdown",
   "metadata": {},
   "source": [
    "The dropout test accuracy indicates that dropout doesn't seem to be impacting the model that much. For this run, the epoch size was increased to 100. Let's try to improve performance with larger layers (and Dropout)."
   ]
  },
  {
   "cell_type": "code",
   "execution_count": 196,
   "metadata": {},
   "outputs": [
    {
     "name": "stdout",
     "output_type": "stream",
     "text": [
      "Epoch 1/100\n",
      "800/800 [==============================] - 3s 4ms/step - loss: 2.1140 - acc: 0.2512\n",
      "Epoch 2/100\n",
      "800/800 [==============================] - 0s 162us/step - loss: 1.7086 - acc: 0.3675\n",
      "Epoch 3/100\n",
      "800/800 [==============================] - 0s 145us/step - loss: 1.4994 - acc: 0.4575\n",
      "Epoch 4/100\n",
      "800/800 [==============================] - 0s 149us/step - loss: 1.3419 - acc: 0.5000\n",
      "Epoch 5/100\n",
      "800/800 [==============================] - 0s 148us/step - loss: 1.2814 - acc: 0.5375\n",
      "Epoch 6/100\n",
      "800/800 [==============================] - 0s 145us/step - loss: 1.1769 - acc: 0.5800\n",
      "Epoch 7/100\n",
      "800/800 [==============================] - 0s 147us/step - loss: 1.1157 - acc: 0.6038\n",
      "Epoch 8/100\n",
      "800/800 [==============================] - 0s 144us/step - loss: 1.0771 - acc: 0.6175\n",
      "Epoch 9/100\n",
      "800/800 [==============================] - 0s 148us/step - loss: 1.0249 - acc: 0.6288\n",
      "Epoch 10/100\n",
      "800/800 [==============================] - 0s 155us/step - loss: 0.9439 - acc: 0.6775\n",
      "Epoch 11/100\n",
      "800/800 [==============================] - 0s 153us/step - loss: 0.9192 - acc: 0.6700\n",
      "Epoch 12/100\n",
      "800/800 [==============================] - 0s 160us/step - loss: 0.9223 - acc: 0.6875\n",
      "Epoch 13/100\n",
      "800/800 [==============================] - 0s 169us/step - loss: 0.8742 - acc: 0.7025\n",
      "Epoch 14/100\n",
      "800/800 [==============================] - 0s 148us/step - loss: 0.8693 - acc: 0.6913\n",
      "Epoch 15/100\n",
      "800/800 [==============================] - 0s 156us/step - loss: 0.8393 - acc: 0.6950\n",
      "Epoch 16/100\n",
      "800/800 [==============================] - 0s 151us/step - loss: 0.8194 - acc: 0.7162\n",
      "Epoch 17/100\n",
      "800/800 [==============================] - 0s 211us/step - loss: 0.7338 - acc: 0.7450\n",
      "Epoch 18/100\n",
      "800/800 [==============================] - 0s 226us/step - loss: 0.7442 - acc: 0.7288\n",
      "Epoch 19/100\n",
      "800/800 [==============================] - 0s 217us/step - loss: 0.7423 - acc: 0.7375\n",
      "Epoch 20/100\n",
      "800/800 [==============================] - 0s 157us/step - loss: 0.6964 - acc: 0.7712\n",
      "Epoch 21/100\n",
      "800/800 [==============================] - 0s 146us/step - loss: 0.6467 - acc: 0.7725\n",
      "Epoch 22/100\n",
      "800/800 [==============================] - 0s 161us/step - loss: 0.6311 - acc: 0.7787\n",
      "Epoch 23/100\n",
      "800/800 [==============================] - 0s 181us/step - loss: 0.6368 - acc: 0.7762\n",
      "Epoch 24/100\n",
      "800/800 [==============================] - 0s 192us/step - loss: 0.5999 - acc: 0.7937\n",
      "Epoch 25/100\n",
      "800/800 [==============================] - 0s 189us/step - loss: 0.6032 - acc: 0.7838\n",
      "Epoch 26/100\n",
      "800/800 [==============================] - 0s 167us/step - loss: 0.6016 - acc: 0.7913\n",
      "Epoch 27/100\n",
      "800/800 [==============================] - 0s 160us/step - loss: 0.5564 - acc: 0.8050\n",
      "Epoch 28/100\n",
      "800/800 [==============================] - 0s 177us/step - loss: 0.5241 - acc: 0.8212\n",
      "Epoch 29/100\n",
      "800/800 [==============================] - 0s 198us/step - loss: 0.4876 - acc: 0.8375\n",
      "Epoch 30/100\n",
      "800/800 [==============================] - 0s 174us/step - loss: 0.4954 - acc: 0.8200\n",
      "Epoch 31/100\n",
      "800/800 [==============================] - 0s 157us/step - loss: 0.4980 - acc: 0.8137\n",
      "Epoch 32/100\n",
      "800/800 [==============================] - 0s 151us/step - loss: 0.5126 - acc: 0.8188\n",
      "Epoch 33/100\n",
      "800/800 [==============================] - 0s 170us/step - loss: 0.4864 - acc: 0.8200\n",
      "Epoch 34/100\n",
      "800/800 [==============================] - 0s 167us/step - loss: 0.5149 - acc: 0.8200\n",
      "Epoch 35/100\n",
      "800/800 [==============================] - 0s 174us/step - loss: 0.4517 - acc: 0.8400\n",
      "Epoch 36/100\n",
      "800/800 [==============================] - 0s 160us/step - loss: 0.4485 - acc: 0.8525\n",
      "Epoch 37/100\n",
      "800/800 [==============================] - 0s 153us/step - loss: 0.4260 - acc: 0.8412\n",
      "Epoch 38/100\n",
      "800/800 [==============================] - 0s 159us/step - loss: 0.4307 - acc: 0.8562\n",
      "Epoch 39/100\n",
      "800/800 [==============================] - 0s 148us/step - loss: 0.3817 - acc: 0.8687\n",
      "Epoch 40/100\n",
      "800/800 [==============================] - 0s 161us/step - loss: 0.4093 - acc: 0.8625\n",
      "Epoch 41/100\n",
      "800/800 [==============================] - 0s 144us/step - loss: 0.3873 - acc: 0.8687\n",
      "Epoch 42/100\n",
      "800/800 [==============================] - 0s 139us/step - loss: 0.3738 - acc: 0.8862\n",
      "Epoch 43/100\n",
      "800/800 [==============================] - 0s 127us/step - loss: 0.3866 - acc: 0.8750\n",
      "Epoch 44/100\n",
      "800/800 [==============================] - 0s 141us/step - loss: 0.3779 - acc: 0.8500\n",
      "Epoch 45/100\n",
      "800/800 [==============================] - 0s 144us/step - loss: 0.3707 - acc: 0.8638\n",
      "Epoch 46/100\n",
      "800/800 [==============================] - 0s 169us/step - loss: 0.3718 - acc: 0.8725\n",
      "Epoch 47/100\n",
      "800/800 [==============================] - 0s 160us/step - loss: 0.3468 - acc: 0.8788\n",
      "Epoch 48/100\n",
      "800/800 [==============================] - 0s 166us/step - loss: 0.3413 - acc: 0.8825\n",
      "Epoch 49/100\n",
      "800/800 [==============================] - 0s 183us/step - loss: 0.3405 - acc: 0.8837\n",
      "Epoch 50/100\n",
      "800/800 [==============================] - 0s 157us/step - loss: 0.2990 - acc: 0.8987\n",
      "Epoch 51/100\n",
      "800/800 [==============================] - 0s 174us/step - loss: 0.3392 - acc: 0.8900\n",
      "Epoch 52/100\n",
      "800/800 [==============================] - 0s 168us/step - loss: 0.3241 - acc: 0.8900\n",
      "Epoch 53/100\n",
      "800/800 [==============================] - 0s 169us/step - loss: 0.2949 - acc: 0.9037\n",
      "Epoch 54/100\n",
      "800/800 [==============================] - 0s 187us/step - loss: 0.2913 - acc: 0.8975\n",
      "Epoch 55/100\n",
      "800/800 [==============================] - 0s 182us/step - loss: 0.2870 - acc: 0.9012\n",
      "Epoch 56/100\n",
      "800/800 [==============================] - 0s 141us/step - loss: 0.2629 - acc: 0.9113\n",
      "Epoch 57/100\n",
      "800/800 [==============================] - 0s 187us/step - loss: 0.2763 - acc: 0.8987\n",
      "Epoch 58/100\n",
      "800/800 [==============================] - 0s 183us/step - loss: 0.2770 - acc: 0.9125\n",
      "Epoch 59/100\n",
      "800/800 [==============================] - 0s 163us/step - loss: 0.2557 - acc: 0.9113\n",
      "Epoch 60/100\n",
      "800/800 [==============================] - 0s 172us/step - loss: 0.2587 - acc: 0.9138\n",
      "Epoch 61/100\n",
      "800/800 [==============================] - 0s 183us/step - loss: 0.2536 - acc: 0.9213\n",
      "Epoch 62/100\n",
      "800/800 [==============================] - 0s 166us/step - loss: 0.2294 - acc: 0.9300\n",
      "Epoch 63/100\n",
      "800/800 [==============================] - 0s 142us/step - loss: 0.2134 - acc: 0.9350\n",
      "Epoch 64/100\n",
      "800/800 [==============================] - 0s 152us/step - loss: 0.2189 - acc: 0.9237\n",
      "Epoch 65/100\n",
      "800/800 [==============================] - 0s 174us/step - loss: 0.2189 - acc: 0.9225\n",
      "Epoch 66/100\n",
      "800/800 [==============================] - 0s 182us/step - loss: 0.2159 - acc: 0.9225\n",
      "Epoch 67/100\n",
      "800/800 [==============================] - 0s 172us/step - loss: 0.2150 - acc: 0.9288\n",
      "Epoch 68/100\n",
      "800/800 [==============================] - 0s 147us/step - loss: 0.1983 - acc: 0.9288\n",
      "Epoch 69/100\n",
      "800/800 [==============================] - 0s 172us/step - loss: 0.2185 - acc: 0.9237\n",
      "Epoch 70/100\n",
      "800/800 [==============================] - 0s 186us/step - loss: 0.2059 - acc: 0.9350\n",
      "Epoch 71/100\n",
      "800/800 [==============================] - 0s 161us/step - loss: 0.2090 - acc: 0.9288\n",
      "Epoch 72/100\n",
      "800/800 [==============================] - 0s 154us/step - loss: 0.1680 - acc: 0.9438\n",
      "Epoch 73/100\n",
      "800/800 [==============================] - 0s 186us/step - loss: 0.1931 - acc: 0.9350\n",
      "Epoch 74/100\n",
      "800/800 [==============================] - 0s 178us/step - loss: 0.1854 - acc: 0.9387\n",
      "Epoch 75/100\n",
      "800/800 [==============================] - 0s 166us/step - loss: 0.1593 - acc: 0.9587\n",
      "Epoch 76/100\n",
      "800/800 [==============================] - 0s 174us/step - loss: 0.1753 - acc: 0.9438\n",
      "Epoch 77/100\n",
      "800/800 [==============================] - 0s 189us/step - loss: 0.1778 - acc: 0.9375\n",
      "Epoch 78/100\n",
      "800/800 [==============================] - 0s 167us/step - loss: 0.1808 - acc: 0.9450\n",
      "Epoch 79/100\n",
      "800/800 [==============================] - 0s 163us/step - loss: 0.1683 - acc: 0.9363\n",
      "Epoch 80/100\n",
      "800/800 [==============================] - 0s 146us/step - loss: 0.1936 - acc: 0.9300\n",
      "Epoch 81/100\n",
      "800/800 [==============================] - 0s 176us/step - loss: 0.1672 - acc: 0.9425\n",
      "Epoch 82/100\n",
      "800/800 [==============================] - 0s 172us/step - loss: 0.1619 - acc: 0.9387\n",
      "Epoch 83/100\n"
     ]
    },
    {
     "name": "stdout",
     "output_type": "stream",
     "text": [
      "800/800 [==============================] - 0s 166us/step - loss: 0.1741 - acc: 0.9425\n",
      "Epoch 84/100\n",
      "800/800 [==============================] - 0s 139us/step - loss: 0.1550 - acc: 0.9487\n",
      "Epoch 85/100\n",
      "800/800 [==============================] - 0s 147us/step - loss: 0.1536 - acc: 0.9462\n",
      "Epoch 86/100\n",
      "800/800 [==============================] - 0s 174us/step - loss: 0.1391 - acc: 0.9537\n",
      "Epoch 87/100\n",
      "800/800 [==============================] - 0s 165us/step - loss: 0.1535 - acc: 0.9475\n",
      "Epoch 88/100\n",
      "800/800 [==============================] - 0s 157us/step - loss: 0.1641 - acc: 0.9425\n",
      "Epoch 89/100\n",
      "800/800 [==============================] - 0s 143us/step - loss: 0.1480 - acc: 0.9537\n",
      "Epoch 90/100\n",
      "800/800 [==============================] - 0s 154us/step - loss: 0.1679 - acc: 0.9462\n",
      "Epoch 91/100\n",
      "800/800 [==============================] - 0s 170us/step - loss: 0.1411 - acc: 0.9563\n",
      "Epoch 92/100\n",
      "800/800 [==============================] - 0s 164us/step - loss: 0.1494 - acc: 0.9537\n",
      "Epoch 93/100\n",
      "800/800 [==============================] - 0s 164us/step - loss: 0.1675 - acc: 0.9438\n",
      "Epoch 94/100\n",
      "800/800 [==============================] - 0s 158us/step - loss: 0.1488 - acc: 0.9525\n",
      "Epoch 95/100\n",
      "800/800 [==============================] - 0s 145us/step - loss: 0.1350 - acc: 0.9612\n",
      "Epoch 96/100\n",
      "800/800 [==============================] - 0s 191us/step - loss: 0.1472 - acc: 0.9487\n",
      "Epoch 97/100\n",
      "800/800 [==============================] - 0s 169us/step - loss: 0.1374 - acc: 0.9550\n",
      "Epoch 98/100\n",
      "800/800 [==============================] - 0s 147us/step - loss: 0.1458 - acc: 0.9537\n",
      "Epoch 99/100\n",
      "800/800 [==============================] - 0s 144us/step - loss: 0.1356 - acc: 0.9563\n",
      "Epoch 100/100\n",
      "800/800 [==============================] - 0s 149us/step - loss: 0.1059 - acc: 0.9662\n"
     ]
    }
   ],
   "source": [
    "# Model with dropout and larger layers\n",
    "lldpt_model = models.Sequential()\n",
    "\n",
    "# Specify and add layers to the model.\n",
    "# We will be adding three Dropout layers to the model.\n",
    "# Essentially, 25% of the dense layers will be dropped out after each\n",
    "# add. \n",
    "lldpt_model.add(layers.Dense(1024, activation='relu', \n",
    "                       input_shape=(X_train.shape[1],)))\n",
    "lldpt_model.add(layers.Dropout(0.5))  # Dropout layer 1\n",
    "lldpt_model.add(layers.Dense(512, activation='relu'))\n",
    "lldpt_model.add(layers.Dropout(0.5))  # Dropout layer 2\n",
    "lldpt_model.add(layers.Dense(128, activation='relu'))\n",
    "\n",
    "# Add final softmax layer to map output of network to a probability distribution.\n",
    "# The size of the softmax layer must be 10 because we have 10\n",
    "# different genres.\n",
    "lldpt_model.add(layers.Dense(10, activation='softmax'))\n",
    "\n",
    "lldpt_model.compile(optimizer='adam', \n",
    "              loss='sparse_categorical_crossentropy', \n",
    "              metrics=['accuracy'])\n",
    "\n",
    "lldpt_history = lldpt_model.fit(X_train, y_train, epochs=100,\n",
    "                    batch_size=128)"
   ]
  },
  {
   "cell_type": "code",
   "execution_count": 197,
   "metadata": {},
   "outputs": [
    {
     "name": "stdout",
     "output_type": "stream",
     "text": [
      "200/200 [==============================] - 1s 6ms/step\n"
     ]
    }
   ],
   "source": [
    "# Evaluate accuracy and loss with dropout\n",
    "lldpt_test_loss, lldpt_test_acc = lldpt_model.evaluate(X_test, y_test)"
   ]
  },
  {
   "cell_type": "code",
   "execution_count": 198,
   "metadata": {},
   "outputs": [
    {
     "name": "stdout",
     "output_type": "stream",
     "text": [
      "0.725\n"
     ]
    }
   ],
   "source": [
    "print(lldpt_test_acc)"
   ]
  },
  {
   "cell_type": "markdown",
   "metadata": {},
   "source": [
    "Evidently, by increasing the layer densities, increasing the number of epochs, and introducing two evenly-spaced Dropout layers, we are getting slightly better performance with our neural network because there is less overfitting going on. "
   ]
  },
  {
   "cell_type": "markdown",
   "metadata": {},
   "source": [
    "## Adding Weight Regularization"
   ]
  },
  {
   "cell_type": "markdown",
   "metadata": {},
   "source": [
    "Weight regularization is another technique that can help us improve our model's performance. We can add L2 weight regularization to our 'lldpt_model', which stands for Larger Layer Dropout Model."
   ]
  },
  {
   "cell_type": "code",
   "execution_count": 202,
   "metadata": {},
   "outputs": [
    {
     "name": "stdout",
     "output_type": "stream",
     "text": [
      "Epoch 1/100\n",
      "800/800 [==============================] - 3s 4ms/step - loss: 3.0446 - acc: 0.2425\n",
      "Epoch 2/100\n",
      "800/800 [==============================] - 0s 156us/step - loss: 2.6341 - acc: 0.3637\n",
      "Epoch 3/100\n",
      "800/800 [==============================] - 0s 166us/step - loss: 2.4074 - acc: 0.4500\n",
      "Epoch 4/100\n",
      "800/800 [==============================] - 0s 156us/step - loss: 2.2283 - acc: 0.5087\n",
      "Epoch 5/100\n",
      "800/800 [==============================] - 0s 153us/step - loss: 2.1197 - acc: 0.5437\n",
      "Epoch 6/100\n",
      "800/800 [==============================] - 0s 186us/step - loss: 2.0166 - acc: 0.6013\n",
      "Epoch 7/100\n",
      "800/800 [==============================] - 0s 186us/step - loss: 1.9378 - acc: 0.6112\n",
      "Epoch 8/100\n",
      "800/800 [==============================] - 0s 177us/step - loss: 1.8508 - acc: 0.6438\n",
      "Epoch 9/100\n",
      "800/800 [==============================] - 0s 179us/step - loss: 1.7928 - acc: 0.6663\n",
      "Epoch 10/100\n",
      "800/800 [==============================] - 0s 154us/step - loss: 1.7598 - acc: 0.6737\n",
      "Epoch 11/100\n",
      "800/800 [==============================] - 0s 239us/step - loss: 1.7021 - acc: 0.6613\n",
      "Epoch 12/100\n",
      "800/800 [==============================] - 0s 192us/step - loss: 1.6617 - acc: 0.7063\n",
      "Epoch 13/100\n",
      "800/800 [==============================] - 0s 148us/step - loss: 1.6286 - acc: 0.6950\n",
      "Epoch 14/100\n",
      "800/800 [==============================] - 0s 156us/step - loss: 1.6265 - acc: 0.6925\n",
      "Epoch 15/100\n",
      "800/800 [==============================] - 0s 150us/step - loss: 1.5533 - acc: 0.7125\n",
      "Epoch 16/100\n",
      "800/800 [==============================] - 0s 159us/step - loss: 1.5098 - acc: 0.7225\n",
      "Epoch 17/100\n",
      "800/800 [==============================] - 0s 150us/step - loss: 1.4775 - acc: 0.7150\n",
      "Epoch 18/100\n",
      "800/800 [==============================] - 0s 199us/step - loss: 1.4556 - acc: 0.7462\n",
      "Epoch 19/100\n",
      "800/800 [==============================] - 0s 152us/step - loss: 1.4276 - acc: 0.7375\n",
      "Epoch 20/100\n",
      "800/800 [==============================] - 0s 150us/step - loss: 1.3724 - acc: 0.7675\n",
      "Epoch 21/100\n",
      "800/800 [==============================] - 0s 190us/step - loss: 1.3593 - acc: 0.7688\n",
      "Epoch 22/100\n",
      "800/800 [==============================] - 0s 157us/step - loss: 1.3657 - acc: 0.7600\n",
      "Epoch 23/100\n",
      "800/800 [==============================] - 0s 155us/step - loss: 1.3307 - acc: 0.7700\n",
      "Epoch 24/100\n",
      "800/800 [==============================] - 0s 152us/step - loss: 1.3146 - acc: 0.7762\n",
      "Epoch 25/100\n",
      "800/800 [==============================] - 0s 153us/step - loss: 1.2957 - acc: 0.7575\n",
      "Epoch 26/100\n",
      "800/800 [==============================] - 0s 156us/step - loss: 1.2493 - acc: 0.8013\n",
      "Epoch 27/100\n",
      "800/800 [==============================] - 0s 152us/step - loss: 1.2377 - acc: 0.7863\n",
      "Epoch 28/100\n",
      "800/800 [==============================] - 0s 169us/step - loss: 1.1744 - acc: 0.8175\n",
      "Epoch 29/100\n",
      "800/800 [==============================] - 0s 216us/step - loss: 1.1823 - acc: 0.8000\n",
      "Epoch 30/100\n",
      "800/800 [==============================] - 0s 157us/step - loss: 1.1878 - acc: 0.7925\n",
      "Epoch 31/100\n",
      "800/800 [==============================] - 0s 167us/step - loss: 1.1263 - acc: 0.8225\n",
      "Epoch 32/100\n",
      "800/800 [==============================] - 0s 162us/step - loss: 1.1633 - acc: 0.8087\n",
      "Epoch 33/100\n",
      "800/800 [==============================] - 0s 174us/step - loss: 1.1349 - acc: 0.8125\n",
      "Epoch 34/100\n",
      "800/800 [==============================] - 0s 156us/step - loss: 1.1157 - acc: 0.8300\n",
      "Epoch 35/100\n",
      "800/800 [==============================] - 0s 160us/step - loss: 1.0901 - acc: 0.8375\n",
      "Epoch 36/100\n",
      "800/800 [==============================] - 0s 185us/step - loss: 1.0624 - acc: 0.8362\n",
      "Epoch 37/100\n",
      "800/800 [==============================] - 0s 209us/step - loss: 1.0553 - acc: 0.8488\n",
      "Epoch 38/100\n",
      "800/800 [==============================] - 0s 186us/step - loss: 1.0433 - acc: 0.8463\n",
      "Epoch 39/100\n",
      "800/800 [==============================] - 0s 170us/step - loss: 1.0479 - acc: 0.8475\n",
      "Epoch 40/100\n",
      "800/800 [==============================] - 0s 188us/step - loss: 1.0065 - acc: 0.8588\n",
      "Epoch 41/100\n",
      "800/800 [==============================] - 0s 158us/step - loss: 0.9595 - acc: 0.8725\n",
      "Epoch 42/100\n",
      "800/800 [==============================] - 0s 151us/step - loss: 0.9632 - acc: 0.8700\n",
      "Epoch 43/100\n",
      "800/800 [==============================] - 0s 147us/step - loss: 0.9605 - acc: 0.8813\n",
      "Epoch 44/100\n",
      "800/800 [==============================] - 0s 146us/step - loss: 0.9498 - acc: 0.8762\n",
      "Epoch 45/100\n",
      "800/800 [==============================] - 0s 154us/step - loss: 0.9557 - acc: 0.8700\n",
      "Epoch 46/100\n",
      "800/800 [==============================] - 0s 169us/step - loss: 0.9054 - acc: 0.8950\n",
      "Epoch 47/100\n",
      "800/800 [==============================] - 0s 167us/step - loss: 0.9169 - acc: 0.8938\n",
      "Epoch 48/100\n",
      "800/800 [==============================] - 0s 212us/step - loss: 0.8813 - acc: 0.9000\n",
      "Epoch 49/100\n",
      "800/800 [==============================] - 0s 211us/step - loss: 0.8796 - acc: 0.8888\n",
      "Epoch 50/100\n",
      "800/800 [==============================] - 0s 163us/step - loss: 0.8978 - acc: 0.8675\n",
      "Epoch 51/100\n",
      "800/800 [==============================] - 0s 160us/step - loss: 0.8592 - acc: 0.8912\n",
      "Epoch 52/100\n",
      "800/800 [==============================] - 0s 149us/step - loss: 0.8781 - acc: 0.8900\n",
      "Epoch 53/100\n",
      "800/800 [==============================] - 0s 187us/step - loss: 0.8572 - acc: 0.8837\n",
      "Epoch 54/100\n",
      "800/800 [==============================] - 0s 186us/step - loss: 0.8487 - acc: 0.8938\n",
      "Epoch 55/100\n",
      "800/800 [==============================] - 0s 214us/step - loss: 0.8347 - acc: 0.8938\n",
      "Epoch 56/100\n",
      "800/800 [==============================] - 0s 181us/step - loss: 0.8126 - acc: 0.9138\n",
      "Epoch 57/100\n",
      "800/800 [==============================] - 0s 152us/step - loss: 0.8568 - acc: 0.8925\n",
      "Epoch 58/100\n",
      "800/800 [==============================] - 0s 155us/step - loss: 0.8359 - acc: 0.8912\n",
      "Epoch 59/100\n",
      "800/800 [==============================] - 0s 163us/step - loss: 0.8238 - acc: 0.8862\n",
      "Epoch 60/100\n",
      "800/800 [==============================] - 0s 169us/step - loss: 0.7994 - acc: 0.9012\n",
      "Epoch 61/100\n",
      "800/800 [==============================] - 0s 198us/step - loss: 0.8004 - acc: 0.9100\n",
      "Epoch 62/100\n",
      "800/800 [==============================] - 0s 175us/step - loss: 0.8012 - acc: 0.8987\n",
      "Epoch 63/100\n",
      "800/800 [==============================] - 0s 168us/step - loss: 0.7800 - acc: 0.9125\n",
      "Epoch 64/100\n",
      "800/800 [==============================] - 0s 205us/step - loss: 0.7545 - acc: 0.9200\n",
      "Epoch 65/100\n",
      "800/800 [==============================] - 0s 154us/step - loss: 0.7344 - acc: 0.9337\n",
      "Epoch 66/100\n",
      "800/800 [==============================] - 0s 167us/step - loss: 0.7640 - acc: 0.9088\n",
      "Epoch 67/100\n",
      "800/800 [==============================] - 0s 170us/step - loss: 0.7641 - acc: 0.9100\n",
      "Epoch 68/100\n",
      "800/800 [==============================] - 0s 154us/step - loss: 0.7405 - acc: 0.9150\n",
      "Epoch 69/100\n",
      "800/800 [==============================] - 0s 160us/step - loss: 0.7143 - acc: 0.9237\n",
      "Epoch 70/100\n",
      "800/800 [==============================] - 0s 184us/step - loss: 0.7254 - acc: 0.9113\n",
      "Epoch 71/100\n",
      "800/800 [==============================] - 0s 170us/step - loss: 0.7077 - acc: 0.9250\n",
      "Epoch 72/100\n",
      "800/800 [==============================] - 0s 208us/step - loss: 0.7110 - acc: 0.9225\n",
      "Epoch 73/100\n",
      "800/800 [==============================] - 0s 228us/step - loss: 0.7028 - acc: 0.9325\n",
      "Epoch 74/100\n",
      "800/800 [==============================] - 0s 216us/step - loss: 0.7472 - acc: 0.8975\n",
      "Epoch 75/100\n",
      "800/800 [==============================] - 0s 210us/step - loss: 0.6940 - acc: 0.9237\n",
      "Epoch 76/100\n",
      "800/800 [==============================] - 0s 190us/step - loss: 0.6995 - acc: 0.9312\n",
      "Epoch 77/100\n",
      "800/800 [==============================] - 0s 185us/step - loss: 0.6754 - acc: 0.9350\n",
      "Epoch 78/100\n",
      "800/800 [==============================] - 0s 236us/step - loss: 0.7117 - acc: 0.9125\n",
      "Epoch 79/100\n",
      "800/800 [==============================] - 0s 206us/step - loss: 0.6850 - acc: 0.9200\n",
      "Epoch 80/100\n",
      "800/800 [==============================] - 0s 172us/step - loss: 0.6688 - acc: 0.9375\n",
      "Epoch 81/100\n",
      "800/800 [==============================] - 0s 178us/step - loss: 0.6507 - acc: 0.9387\n",
      "Epoch 82/100\n",
      "800/800 [==============================] - 0s 172us/step - loss: 0.6567 - acc: 0.9337\n",
      "Epoch 83/100\n"
     ]
    },
    {
     "name": "stdout",
     "output_type": "stream",
     "text": [
      "800/800 [==============================] - 0s 168us/step - loss: 0.6370 - acc: 0.9337\n",
      "Epoch 84/100\n",
      "800/800 [==============================] - 0s 165us/step - loss: 0.6797 - acc: 0.9300\n",
      "Epoch 85/100\n",
      "800/800 [==============================] - 0s 179us/step - loss: 0.6494 - acc: 0.9363\n",
      "Epoch 86/100\n",
      "800/800 [==============================] - 0s 171us/step - loss: 0.6415 - acc: 0.9363\n",
      "Epoch 87/100\n",
      "800/800 [==============================] - 0s 171us/step - loss: 0.6439 - acc: 0.9363\n",
      "Epoch 88/100\n",
      "800/800 [==============================] - 0s 175us/step - loss: 0.6424 - acc: 0.9425\n",
      "Epoch 89/100\n",
      "800/800 [==============================] - 0s 154us/step - loss: 0.6117 - acc: 0.9537\n",
      "Epoch 90/100\n",
      "800/800 [==============================] - 0s 172us/step - loss: 0.6263 - acc: 0.9387\n",
      "Epoch 91/100\n",
      "800/800 [==============================] - 0s 183us/step - loss: 0.5975 - acc: 0.9575\n",
      "Epoch 92/100\n",
      "800/800 [==============================] - 0s 182us/step - loss: 0.6064 - acc: 0.9450\n",
      "Epoch 93/100\n",
      "800/800 [==============================] - 0s 166us/step - loss: 0.6214 - acc: 0.9350\n",
      "Epoch 94/100\n",
      "800/800 [==============================] - 0s 187us/step - loss: 0.6379 - acc: 0.9375\n",
      "Epoch 95/100\n",
      "800/800 [==============================] - 0s 174us/step - loss: 0.5999 - acc: 0.9537\n",
      "Epoch 96/100\n",
      "800/800 [==============================] - 0s 170us/step - loss: 0.5959 - acc: 0.9438\n",
      "Epoch 97/100\n",
      "800/800 [==============================] - 0s 164us/step - loss: 0.6107 - acc: 0.9400\n",
      "Epoch 98/100\n",
      "800/800 [==============================] - 0s 153us/step - loss: 0.5805 - acc: 0.9525\n",
      "Epoch 99/100\n",
      "800/800 [==============================] - 0s 146us/step - loss: 0.5756 - acc: 0.9550\n",
      "Epoch 100/100\n",
      "800/800 [==============================] - 0s 158us/step - loss: 0.5949 - acc: 0.9475\n"
     ]
    }
   ],
   "source": [
    "# Add L2 weight regularization to 'lldpt_model'\n",
    "# Model with dropout and larger layers\n",
    "lldpt_model = models.Sequential()\n",
    "\n",
    "# Specify and add layers to the model.\n",
    "# We will be regularizing each dense layer.\n",
    "lldpt_model.add(layers.Dense(1024, \n",
    "                             kernel_regularizer=keras.regularizers.l2(0.001),\n",
    "                             activation='relu',  \n",
    "                             input_shape=(X_train.shape[1],)))\n",
    "lldpt_model.add(layers.Dropout(0.5))  # Dropout layer 1\n",
    "lldpt_model.add(layers.Dense(512, \n",
    "                             kernel_regularizer=keras.regularizers.l2(0.001),\n",
    "                             activation='relu'))\n",
    "lldpt_model.add(layers.Dropout(0.5))  # Dropout layer 2\n",
    "lldpt_model.add(layers.Dense(128, \n",
    "                             kernel_regularizer=keras.regularizers.l2(0.001),\n",
    "                             activation='relu'))\n",
    "\n",
    "# Add final softmax layer to map output of network to a probability distribution.\n",
    "# The size of the softmax layer must be 10 because we have 10\n",
    "# different genres.\n",
    "lldpt_model.add(layers.Dense(10, activation='softmax'))\n",
    "\n",
    "lldpt_model.compile(optimizer='adam', \n",
    "              loss='sparse_categorical_crossentropy', \n",
    "              metrics=['accuracy'])\n",
    "\n",
    "l2_model_history = lldpt_model.fit(X_train, y_train, epochs=100,\n",
    "                    batch_size=128)"
   ]
  },
  {
   "cell_type": "code",
   "execution_count": 203,
   "metadata": {},
   "outputs": [
    {
     "name": "stdout",
     "output_type": "stream",
     "text": [
      "200/200 [==============================] - 1s 6ms/step\n"
     ]
    }
   ],
   "source": [
    "# Evaluate accuracy and loss with dropout\n",
    "l2_test_loss, l2_test_acc = lldpt_model.evaluate(X_test, y_test)"
   ]
  },
  {
   "cell_type": "code",
   "execution_count": 204,
   "metadata": {},
   "outputs": [
    {
     "name": "stdout",
     "output_type": "stream",
     "text": [
      "0.735\n"
     ]
    }
   ],
   "source": [
    "print(l2_test_acc)"
   ]
  },
  {
   "cell_type": "markdown",
   "metadata": {},
   "source": [
    "With both weight regularization and dropout, the performance of the model has been significantly improved. We can now compare the performance of our baseline model, dropout model, and larger layer dropout model with weight regularization ('lldpt_model') using a section of our training data as a validation set."
   ]
  },
  {
   "cell_type": "markdown",
   "metadata": {},
   "source": [
    "## Comparing Model Performance"
   ]
  },
  {
   "cell_type": "code",
   "execution_count": 223,
   "metadata": {},
   "outputs": [],
   "source": [
    "# Set aside a section of our training data as a validation set.\n",
    "# Let us set aside 200 samples in the training data.\n",
    "partial_x_train = X_train[200:]\n",
    "partial_y_train = y_train[200:]\n",
    "\n",
    "# Take subsets of X and y for validation data.\n",
    "x_val = X_train[:200]\n",
    "y_val = y_train[:200]"
   ]
  },
  {
   "cell_type": "markdown",
   "metadata": {},
   "source": [
    "### Baseline Model"
   ]
  },
  {
   "cell_type": "code",
   "execution_count": 250,
   "metadata": {},
   "outputs": [
    {
     "name": "stdout",
     "output_type": "stream",
     "text": [
      "Train on 600 samples, validate on 200 samples\n",
      "Epoch 1/30\n",
      "600/600 [==============================] - 0s 38us/step - loss: 0.0027 - acc: 0.9983 - val_loss: 0.2150 - val_acc: 0.9200\n",
      "Epoch 2/30\n",
      "600/600 [==============================] - 0s 31us/step - loss: 0.0027 - acc: 0.9983 - val_loss: 0.2169 - val_acc: 0.9200\n",
      "Epoch 3/30\n",
      "600/600 [==============================] - 0s 32us/step - loss: 0.0030 - acc: 0.9983 - val_loss: 0.2183 - val_acc: 0.9200\n",
      "Epoch 4/30\n",
      "600/600 [==============================] - 0s 46us/step - loss: 0.0033 - acc: 0.9983 - val_loss: 0.2186 - val_acc: 0.9150\n",
      "Epoch 5/30\n",
      "600/600 [==============================] - 0s 32us/step - loss: 0.0035 - acc: 0.9983 - val_loss: 0.2178 - val_acc: 0.9200\n",
      "Epoch 6/30\n",
      "600/600 [==============================] - 0s 34us/step - loss: 0.0033 - acc: 0.9983 - val_loss: 0.2163 - val_acc: 0.9200\n",
      "Epoch 7/30\n",
      "600/600 [==============================] - 0s 37us/step - loss: 0.0032 - acc: 0.9983 - val_loss: 0.2155 - val_acc: 0.9200\n",
      "Epoch 8/30\n",
      "600/600 [==============================] - 0s 31us/step - loss: 0.0031 - acc: 0.9983 - val_loss: 0.2144 - val_acc: 0.9200\n",
      "Epoch 9/30\n",
      "600/600 [==============================] - 0s 31us/step - loss: 0.0027 - acc: 0.9983 - val_loss: 0.2142 - val_acc: 0.9200\n",
      "Epoch 10/30\n",
      "600/600 [==============================] - 0s 34us/step - loss: 0.0028 - acc: 0.9983 - val_loss: 0.2160 - val_acc: 0.9200\n",
      "Epoch 11/30\n",
      "600/600 [==============================] - 0s 26us/step - loss: 0.0034 - acc: 0.9983 - val_loss: 0.2177 - val_acc: 0.9200\n",
      "Epoch 12/30\n",
      "600/600 [==============================] - 0s 46us/step - loss: 0.0039 - acc: 0.9983 - val_loss: 0.2183 - val_acc: 0.9200\n",
      "Epoch 13/30\n",
      "600/600 [==============================] - 0s 28us/step - loss: 0.0040 - acc: 0.9983 - val_loss: 0.2179 - val_acc: 0.9200\n",
      "Epoch 14/30\n",
      "600/600 [==============================] - 0s 24us/step - loss: 0.0037 - acc: 0.9983 - val_loss: 0.2176 - val_acc: 0.9200\n",
      "Epoch 15/30\n",
      "600/600 [==============================] - 0s 27us/step - loss: 0.0033 - acc: 0.9983 - val_loss: 0.2180 - val_acc: 0.9200\n",
      "Epoch 16/30\n",
      "600/600 [==============================] - 0s 27us/step - loss: 0.0028 - acc: 0.9983 - val_loss: 0.2192 - val_acc: 0.9200\n",
      "Epoch 17/30\n",
      "600/600 [==============================] - 0s 28us/step - loss: 0.0026 - acc: 0.9983 - val_loss: 0.2209 - val_acc: 0.9200\n",
      "Epoch 18/30\n",
      "600/600 [==============================] - 0s 25us/step - loss: 0.0026 - acc: 0.9983 - val_loss: 0.2222 - val_acc: 0.9200\n",
      "Epoch 19/30\n",
      "600/600 [==============================] - 0s 41us/step - loss: 0.0028 - acc: 0.9983 - val_loss: 0.2223 - val_acc: 0.9150\n",
      "Epoch 20/30\n",
      "600/600 [==============================] - 0s 27us/step - loss: 0.0029 - acc: 0.9983 - val_loss: 0.2224 - val_acc: 0.9150\n",
      "Epoch 21/30\n",
      "600/600 [==============================] - 0s 26us/step - loss: 0.0034 - acc: 0.9983 - val_loss: 0.2196 - val_acc: 0.9150\n",
      "Epoch 22/30\n",
      "600/600 [==============================] - 0s 26us/step - loss: 0.0024 - acc: 0.9983 - val_loss: 0.2139 - val_acc: 0.9200\n",
      "Epoch 23/30\n",
      "600/600 [==============================] - 0s 42us/step - loss: 0.0027 - acc: 0.9983 - val_loss: 0.2140 - val_acc: 0.9150\n",
      "Epoch 24/30\n",
      "600/600 [==============================] - 0s 31us/step - loss: 0.0041 - acc: 0.9983 - val_loss: 0.2183 - val_acc: 0.9150\n",
      "Epoch 25/30\n",
      "600/600 [==============================] - 0s 42us/step - loss: 0.0056 - acc: 0.9983 - val_loss: 0.2216 - val_acc: 0.9150\n",
      "Epoch 26/30\n",
      "600/600 [==============================] - 0s 28us/step - loss: 0.0063 - acc: 0.9983 - val_loss: 0.2207 - val_acc: 0.9150\n",
      "Epoch 27/30\n",
      "600/600 [==============================] - 0s 35us/step - loss: 0.0063 - acc: 0.9983 - val_loss: 0.2179 - val_acc: 0.9150\n",
      "Epoch 28/30\n",
      "600/600 [==============================] - 0s 36us/step - loss: 0.0056 - acc: 0.9983 - val_loss: 0.2165 - val_acc: 0.9150\n",
      "Epoch 29/30\n",
      "600/600 [==============================] - 0s 31us/step - loss: 0.0048 - acc: 0.9983 - val_loss: 0.2173 - val_acc: 0.9150\n",
      "Epoch 30/30\n",
      "600/600 [==============================] - 0s 24us/step - loss: 0.0039 - acc: 0.9983 - val_loss: 0.2204 - val_acc: 0.9150\n",
      "200/200 [==============================] - 0s 87us/step\n"
     ]
    }
   ],
   "source": [
    "model.fit(partial_x_train,\n",
    "          partial_y_train,\n",
    "          epochs=30,\n",
    "          batch_size=512,\n",
    "          validation_data=(x_val, y_val))\n",
    "results = model.evaluate(X_test, y_test)"
   ]
  },
  {
   "cell_type": "code",
   "execution_count": 251,
   "metadata": {},
   "outputs": [
    {
     "name": "stdout",
     "output_type": "stream",
     "text": [
      "[1.9908018970489503, 0.685]\n"
     ]
    }
   ],
   "source": [
    "print(results)"
   ]
  },
  {
   "cell_type": "markdown",
   "metadata": {},
   "source": [
    "### Dropout Model"
   ]
  },
  {
   "cell_type": "code",
   "execution_count": 252,
   "metadata": {},
   "outputs": [
    {
     "name": "stdout",
     "output_type": "stream",
     "text": [
      "Train on 600 samples, validate on 200 samples\n",
      "Epoch 1/30\n",
      "600/600 [==============================] - 0s 25us/step - loss: 0.0035 - acc: 0.9983 - val_loss: 0.9593 - val_acc: 0.8350\n",
      "Epoch 2/30\n",
      "600/600 [==============================] - 0s 44us/step - loss: 0.0067 - acc: 0.9983 - val_loss: 0.9564 - val_acc: 0.8350\n",
      "Epoch 3/30\n",
      "600/600 [==============================] - 0s 25us/step - loss: 0.0040 - acc: 0.9983 - val_loss: 0.9514 - val_acc: 0.8350\n",
      "Epoch 4/30\n",
      "600/600 [==============================] - 0s 41us/step - loss: 0.0052 - acc: 0.9983 - val_loss: 0.9457 - val_acc: 0.8350\n",
      "Epoch 5/30\n",
      "600/600 [==============================] - 0s 44us/step - loss: 0.0030 - acc: 1.0000 - val_loss: 0.9416 - val_acc: 0.8300\n",
      "Epoch 6/30\n",
      "600/600 [==============================] - 0s 34us/step - loss: 0.0061 - acc: 1.0000 - val_loss: 0.9399 - val_acc: 0.8300\n",
      "Epoch 7/30\n",
      "600/600 [==============================] - 0s 32us/step - loss: 0.0044 - acc: 0.9967 - val_loss: 0.9403 - val_acc: 0.8300\n",
      "Epoch 8/30\n",
      "600/600 [==============================] - 0s 27us/step - loss: 0.0098 - acc: 0.9950 - val_loss: 0.9396 - val_acc: 0.8300\n",
      "Epoch 9/30\n",
      "600/600 [==============================] - 0s 24us/step - loss: 0.0072 - acc: 0.9983 - val_loss: 0.9389 - val_acc: 0.8250\n",
      "Epoch 10/30\n",
      "600/600 [==============================] - 0s 40us/step - loss: 0.0107 - acc: 0.9933 - val_loss: 0.9335 - val_acc: 0.8250\n",
      "Epoch 11/30\n",
      "600/600 [==============================] - 0s 35us/step - loss: 0.0101 - acc: 0.9933 - val_loss: 0.9312 - val_acc: 0.8350\n",
      "Epoch 12/30\n",
      "600/600 [==============================] - 0s 36us/step - loss: 0.0042 - acc: 1.0000 - val_loss: 0.9304 - val_acc: 0.8350\n",
      "Epoch 13/30\n",
      "600/600 [==============================] - 0s 36us/step - loss: 0.0052 - acc: 0.9983 - val_loss: 0.9298 - val_acc: 0.8350\n",
      "Epoch 14/30\n",
      "600/600 [==============================] - 0s 39us/step - loss: 0.0046 - acc: 0.9983 - val_loss: 0.9274 - val_acc: 0.8350\n",
      "Epoch 15/30\n",
      "600/600 [==============================] - 0s 26us/step - loss: 0.0176 - acc: 0.9933 - val_loss: 0.9262 - val_acc: 0.8350\n",
      "Epoch 16/30\n",
      "600/600 [==============================] - 0s 32us/step - loss: 0.0094 - acc: 0.9967 - val_loss: 0.9115 - val_acc: 0.8300\n",
      "Epoch 17/30\n",
      "600/600 [==============================] - 0s 43us/step - loss: 0.0069 - acc: 0.9983 - val_loss: 0.8939 - val_acc: 0.8350\n",
      "Epoch 18/30\n",
      "600/600 [==============================] - 0s 34us/step - loss: 0.0068 - acc: 0.9983 - val_loss: 0.8895 - val_acc: 0.8400\n",
      "Epoch 19/30\n",
      "600/600 [==============================] - 0s 34us/step - loss: 0.0082 - acc: 0.9950 - val_loss: 0.8893 - val_acc: 0.8400\n",
      "Epoch 20/30\n",
      "600/600 [==============================] - 0s 38us/step - loss: 0.0182 - acc: 0.9950 - val_loss: 0.8917 - val_acc: 0.8400\n",
      "Epoch 21/30\n",
      "600/600 [==============================] - 0s 35us/step - loss: 0.0088 - acc: 0.9967 - val_loss: 0.8983 - val_acc: 0.8400\n",
      "Epoch 22/30\n",
      "600/600 [==============================] - 0s 33us/step - loss: 0.0024 - acc: 1.0000 - val_loss: 0.9131 - val_acc: 0.8300\n",
      "Epoch 23/30\n",
      "600/600 [==============================] - 0s 24us/step - loss: 0.0083 - acc: 0.9950 - val_loss: 0.9243 - val_acc: 0.8300\n",
      "Epoch 24/30\n",
      "600/600 [==============================] - 0s 33us/step - loss: 0.0062 - acc: 0.9983 - val_loss: 0.9276 - val_acc: 0.8350\n",
      "Epoch 25/30\n",
      "600/600 [==============================] - 0s 45us/step - loss: 0.0088 - acc: 0.9950 - val_loss: 0.9261 - val_acc: 0.8300\n",
      "Epoch 26/30\n",
      "600/600 [==============================] - 0s 37us/step - loss: 0.0096 - acc: 0.9967 - val_loss: 0.9126 - val_acc: 0.8300\n",
      "Epoch 27/30\n",
      "600/600 [==============================] - 0s 24us/step - loss: 0.0103 - acc: 0.9967 - val_loss: 0.8989 - val_acc: 0.8300\n",
      "Epoch 28/30\n",
      "600/600 [==============================] - 0s 48us/step - loss: 0.0051 - acc: 0.9967 - val_loss: 0.8888 - val_acc: 0.8300\n",
      "Epoch 29/30\n",
      "600/600 [==============================] - 0s 43us/step - loss: 0.0056 - acc: 0.9967 - val_loss: 0.8806 - val_acc: 0.8300\n",
      "Epoch 30/30\n",
      "600/600 [==============================] - 0s 35us/step - loss: 0.0029 - acc: 1.0000 - val_loss: 0.8758 - val_acc: 0.8300\n",
      "200/200 [==============================] - 0s 93us/step\n"
     ]
    }
   ],
   "source": [
    "dpt_model.fit(partial_x_train,\n",
    "              partial_y_train,\n",
    "              epochs=30,\n",
    "              batch_size=512,\n",
    "              validation_data=(x_val, y_val))\n",
    "results = dpt_model.evaluate(X_test, y_test)"
   ]
  },
  {
   "cell_type": "code",
   "execution_count": 253,
   "metadata": {},
   "outputs": [
    {
     "name": "stdout",
     "output_type": "stream",
     "text": [
      "[2.3179748916625975, 0.72]\n"
     ]
    }
   ],
   "source": [
    "print(results)"
   ]
  },
  {
   "cell_type": "markdown",
   "metadata": {},
   "source": [
    "### Large-layer Dropout Model with Weight Regularization"
   ]
  },
  {
   "cell_type": "code",
   "execution_count": 254,
   "metadata": {},
   "outputs": [
    {
     "name": "stdout",
     "output_type": "stream",
     "text": [
      "Epoch 1/30\n",
      "600/600 [==============================] - 0s 118us/step - loss: 0.2009 - acc: 0.9967\n",
      "Epoch 2/30\n",
      "600/600 [==============================] - 0s 119us/step - loss: 0.2000 - acc: 0.9917\n",
      "Epoch 3/30\n",
      "600/600 [==============================] - 0s 117us/step - loss: 0.1967 - acc: 0.9967\n",
      "Epoch 4/30\n",
      "600/600 [==============================] - 0s 111us/step - loss: 0.2005 - acc: 0.9933\n",
      "Epoch 5/30\n",
      "600/600 [==============================] - 0s 109us/step - loss: 0.1976 - acc: 0.9950\n",
      "Epoch 6/30\n",
      "600/600 [==============================] - 0s 125us/step - loss: 0.1982 - acc: 0.9967\n",
      "Epoch 7/30\n",
      "600/600 [==============================] - 0s 125us/step - loss: 0.1890 - acc: 0.9983\n",
      "Epoch 8/30\n",
      "600/600 [==============================] - 0s 117us/step - loss: 0.1944 - acc: 0.9983\n",
      "Epoch 9/30\n",
      "600/600 [==============================] - 0s 129us/step - loss: 0.1983 - acc: 0.9950\n",
      "Epoch 10/30\n",
      "600/600 [==============================] - 0s 112us/step - loss: 0.1884 - acc: 0.9967\n",
      "Epoch 11/30\n",
      "600/600 [==============================] - 0s 123us/step - loss: 0.1944 - acc: 0.9933\n",
      "Epoch 12/30\n",
      "600/600 [==============================] - 0s 118us/step - loss: 0.1883 - acc: 0.9967\n",
      "Epoch 13/30\n",
      "600/600 [==============================] - 0s 113us/step - loss: 0.1867 - acc: 0.9983\n",
      "Epoch 14/30\n",
      "600/600 [==============================] - 0s 111us/step - loss: 0.1899 - acc: 0.9950\n",
      "Epoch 15/30\n",
      "600/600 [==============================] - 0s 100us/step - loss: 0.1867 - acc: 0.9950\n",
      "Epoch 16/30\n",
      "600/600 [==============================] - 0s 115us/step - loss: 0.1841 - acc: 0.9983\n",
      "Epoch 17/30\n",
      "600/600 [==============================] - 0s 116us/step - loss: 0.1940 - acc: 0.9917\n",
      "Epoch 18/30\n",
      "600/600 [==============================] - 0s 118us/step - loss: 0.1907 - acc: 0.9933\n",
      "Epoch 19/30\n",
      "600/600 [==============================] - 0s 103us/step - loss: 0.1846 - acc: 0.9950\n",
      "Epoch 20/30\n",
      "600/600 [==============================] - 0s 130us/step - loss: 0.1871 - acc: 0.9933\n",
      "Epoch 21/30\n",
      "600/600 [==============================] - 0s 118us/step - loss: 0.1814 - acc: 0.9950\n",
      "Epoch 22/30\n",
      "600/600 [==============================] - 0s 160us/step - loss: 0.1892 - acc: 0.9933\n",
      "Epoch 23/30\n",
      "600/600 [==============================] - 0s 143us/step - loss: 0.1883 - acc: 0.9967\n",
      "Epoch 24/30\n",
      "600/600 [==============================] - 0s 128us/step - loss: 0.1846 - acc: 0.9950\n",
      "Epoch 25/30\n",
      "600/600 [==============================] - 0s 142us/step - loss: 0.1821 - acc: 0.9983\n",
      "Epoch 26/30\n",
      "600/600 [==============================] - 0s 139us/step - loss: 0.1902 - acc: 0.9950\n",
      "Epoch 27/30\n",
      "600/600 [==============================] - 0s 127us/step - loss: 0.1796 - acc: 0.9983\n",
      "Epoch 28/30\n",
      "600/600 [==============================] - 0s 150us/step - loss: 0.1829 - acc: 0.9967\n",
      "Epoch 29/30\n",
      "600/600 [==============================] - 0s 161us/step - loss: 0.1834 - acc: 0.9933\n",
      "Epoch 30/30\n",
      "600/600 [==============================] - 0s 143us/step - loss: 0.1877 - acc: 0.9917\n",
      "200/200 [==============================] - 0s 221us/step\n"
     ]
    }
   ],
   "source": [
    "lldpt_model.fit(partial_x_train,\n",
    "              partial_y_train,\n",
    "              epochs=30,\n",
    "              batch_size=512)\n",
    "results = lldpt_model.evaluate(X_test, y_test)"
   ]
  },
  {
   "cell_type": "code",
   "execution_count": 255,
   "metadata": {},
   "outputs": [
    {
     "name": "stdout",
     "output_type": "stream",
     "text": [
      "[1.2799248695373535, 0.72]\n"
     ]
    }
   ],
   "source": [
    "print(results)"
   ]
  },
  {
   "cell_type": "markdown",
   "metadata": {},
   "source": [
    "Overall, we gain about a 4-5% increase over the baseline in accuracy when we use just the dropout model with weight regularization. In this regard, both the normal dropout model and the weight regularized dropout model are performing evenly. However, there is less loss on the latter model."
   ]
  },
  {
   "cell_type": "markdown",
   "metadata": {},
   "source": [
    "## Predictions on Test Data"
   ]
  },
  {
   "cell_type": "code",
   "execution_count": 290,
   "metadata": {},
   "outputs": [],
   "source": [
    "predictions = lldpt_model.predict(X_test)"
   ]
  },
  {
   "cell_type": "code",
   "execution_count": 288,
   "metadata": {},
   "outputs": [
    {
     "name": "stdout",
     "output_type": "stream",
     "text": [
      "(200, 10)\n"
     ]
    }
   ],
   "source": [
    "print(predictions.shape)"
   ]
  },
  {
   "cell_type": "markdown",
   "metadata": {},
   "source": [
    "Since the predictions are outputted in the matrix 'predictions' (confidence % of each file in the test set belonging to a particular genre), we can use sklearn's built in 'confusion_matrix' module to compute the confusion matrix."
   ]
  },
  {
   "cell_type": "code",
   "execution_count": 296,
   "metadata": {},
   "outputs": [
    {
     "name": "stdout",
     "output_type": "stream",
     "text": [
      "(200, 10)\n",
      "[[9.5873660e-01 6.3018142e-03 9.1594448e-03 ... 1.5977096e-07\n",
      "  1.1990317e-03 1.0038598e-05]\n",
      " [2.5732745e-04 2.0853665e-03 6.6218007e-01 ... 1.7474435e-01\n",
      "  6.7878790e-02 8.7351143e-02]\n",
      " [1.1232414e-05 1.9077029e-03 5.1230136e-06 ... 2.0254612e-02\n",
      "  4.6231866e-01 1.1105110e-05]\n",
      " ...\n",
      " [1.1430260e-05 1.2110319e-03 2.1867430e-01 ... 7.6864654e-01\n",
      "  1.3073945e-03 1.1983878e-04]\n",
      " [1.3243633e-04 1.7981356e-04 4.8068459e-03 ... 8.5697873e-03\n",
      "  8.4399953e-02 2.3619948e-02]\n",
      " [2.3274569e-04 1.1368395e-03 5.9028868e-02 ... 1.2718169e-01\n",
      "  7.4594599e-01 4.9001578e-02]]\n",
      "1.0000000111952003\n"
     ]
    }
   ],
   "source": [
    "from sklearn.metrics import confusion_matrix\n",
    "\n",
    "print(predictions.shape)\n",
    "print(predictions)\n",
    "print(sum(predictions[0]))"
   ]
  },
  {
   "cell_type": "markdown",
   "metadata": {},
   "source": [
    "Since 'lldpt_model.predict' gives us the predictions in the form of a probability distribution, as the sum of the rows is ~1, we need to take the maximum value of each row to find the corresponding label using np.argmax."
   ]
  },
  {
   "cell_type": "code",
   "execution_count": 306,
   "metadata": {},
   "outputs": [
    {
     "name": "stdout",
     "output_type": "stream",
     "text": [
      "[0 2 3 7 7 7 4 4 3 1 0 3 1 8 5 0 0 2 7 2 2 3 4 4 4 6 9 2 2 5 8 4 7 4 5 0 9\n",
      " 7 4 9 0 7 2 1 3 8 8 8 9 1 5 7 1 7 8 9 4 5 1 3 8 7 0 6 6 6 1 5 2 8 5 4 0 9\n",
      " 8 5 5 3 6 1 8 5 4 7 9 8 0 9 0 1 5 5 5 0 8 8 4 8 4 1 7 9 6 2 1 1 7 8 5 9 0\n",
      " 1 6 0 1 3 8 5 0 2 2 3 2 1 4 4 1 5 6 5 4 1 8 0 9 9 7 8 8 1 0 9 9 0 1 9 0 3\n",
      " 5 6 0 9 1 3 6 1 6 0 9 9 2 1 9 3 8 3 0 9 8 2 2 5 0 1 5 9 9 7 3 3 2 0 0 8 1\n",
      " 7 1 0 7 4 2 8 1 4 2 9 7 7 3 8]\n"
     ]
    }
   ],
   "source": [
    "y_pred = np.argmax(predictions, axis=-1)\n",
    "print(y_pred)"
   ]
  },
  {
   "cell_type": "code",
   "execution_count": 292,
   "metadata": {},
   "outputs": [
    {
     "name": "stdout",
     "output_type": "stream",
     "text": [
      "[0 2 4 7 7 7 4 4 8 1 0 3 1 5 5 0 0 8 7 2 2 3 4 4 4 6 9 2 2 9 8 3 2 4 5 0 0\n",
      " 2 3 9 7 7 2 1 3 8 8 8 9 1 5 7 1 7 8 9 4 5 5 2 4 7 0 6 8 6 1 5 2 5 5 9 0 9\n",
      " 8 0 5 2 6 1 4 5 4 7 3 8 0 9 9 1 2 5 5 0 8 1 4 8 4 1 8 0 6 2 1 5 4 8 1 3 0\n",
      " 1 4 0 1 7 2 2 0 2 2 3 2 1 4 4 1 5 6 2 4 1 1 8 9 9 7 8 9 1 0 6 9 9 1 9 0 3\n",
      " 8 3 0 9 1 3 6 1 6 0 2 9 2 1 7 3 8 3 6 5 8 9 2 5 0 1 5 8 3 2 5 3 2 0 0 8 1\n",
      " 7 1 3 7 4 3 2 1 4 8 9 7 9 3 8]\n"
     ]
    }
   ],
   "source": [
    "print(y_test)"
   ]
  },
  {
   "cell_type": "code",
   "execution_count": 302,
   "metadata": {},
   "outputs": [
    {
     "name": "stdout",
     "output_type": "stream",
     "text": [
      "(200,)\n",
      "(200,)\n"
     ]
    }
   ],
   "source": [
    "# Validate their shapes\n",
    "print(y_pred.shape)\n",
    "print(y_test.shape)"
   ]
  },
  {
   "cell_type": "markdown",
   "metadata": {},
   "source": [
    "## Confusion Matrix"
   ]
  },
  {
   "cell_type": "code",
   "execution_count": 400,
   "metadata": {},
   "outputs": [],
   "source": [
    "cm = confusion_matrix(y_test, y_pred)"
   ]
  },
  {
   "cell_type": "code",
   "execution_count": 404,
   "metadata": {},
   "outputs": [
    {
     "name": "stdout",
     "output_type": "stream",
     "text": [
      "[[19  0  0  0  0  1  0  0  0  2]\n",
      " [ 0 24  0  0  0  1  0  0  2  0]\n",
      " [ 0  0 14  2  0  3  0  3  2  1]\n",
      " [ 1  0  1 10  2  0  1  0  0  3]\n",
      " [ 0  0  0  1 15  0  1  1  2  0]\n",
      " [ 0  2  0  1  0 13  0  0  2  1]\n",
      " [ 1  0  0  0  0  0  8  0  0  1]\n",
      " [ 1  0  0  1  0  0  0 13  0  1]\n",
      " [ 1  0  2  1  0  1  1  1 15  1]\n",
      " [ 2  0  1  0  1  1  0  1  1 13]]\n"
     ]
    },
    {
     "data": {
      "image/png": "[encoded data removed]",
      "text/plain": [
       "<Figure size 720x720 with 1 Axes>"
      ]
     },
     "metadata": {
      "needs_background": "light"
     },
     "output_type": "display_data"
    }
   ],
   "source": [
    "plt.figure(figsize=(10, 10))\n",
    "plt.matshow(cm,fignum=1)\n",
    "plt.xlabel('Predicted label')\n",
    "# Show all ticks and label them with their respective entries.\n",
    "plt.xticks(np.arange(cm.shape[1]), genres)\n",
    "plt.yticks(np.arange(cm.shape[0]), genres)\n",
    "\n",
    "# Label the squares.\n",
    "fmt = '.0f' \n",
    "thresh = cm.max() / 2.\n",
    "for i in range(cm.shape[0]):\n",
    "    for j in range(cm.shape[1]):\n",
    "        plt.text(j, i, format(cm[i, j], fmt),\n",
    "                ha=\"center\", va=\"center\",\n",
    "                color=\"blue\" if cm[i, j] > thresh else \"white\")\n",
    "plt.tight_layout()\n",
    "\n",
    "plt.ylabel('True label')\n",
    "plt.title('Non-normalized Confusion Matrix')\n",
    "print(cm)\n",
    "plt.savefig('non_normalized_cm.png')\n",
    "plt.show()"
   ]
  },
  {
   "cell_type": "markdown",
   "metadata": {},
   "source": [
    "## Normalized Confusion Matrix"
   ]
  },
  {
   "cell_type": "code",
   "execution_count": 398,
   "metadata": {},
   "outputs": [],
   "source": [
    "cm_normalized = cm.astype('float') / cm.sum(axis=1)[:, np.newaxis]"
   ]
  },
  {
   "cell_type": "code",
   "execution_count": 405,
   "metadata": {},
   "outputs": [
    {
     "name": "stdout",
     "output_type": "stream",
     "text": [
      "[[0.86363636 0.         0.         0.         0.         0.04545455\n",
      "  0.         0.         0.         0.09090909]\n",
      " [0.         0.88888889 0.         0.         0.         0.03703704\n",
      "  0.         0.         0.07407407 0.        ]\n",
      " [0.         0.         0.56       0.08       0.         0.12\n",
      "  0.         0.12       0.08       0.04      ]\n",
      " [0.05555556 0.         0.05555556 0.55555556 0.11111111 0.\n",
      "  0.05555556 0.         0.         0.16666667]\n",
      " [0.         0.         0.         0.05       0.75       0.\n",
      "  0.05       0.05       0.1        0.        ]\n",
      " [0.         0.10526316 0.         0.05263158 0.         0.68421053\n",
      "  0.         0.         0.10526316 0.05263158]\n",
      " [0.1        0.         0.         0.         0.         0.\n",
      "  0.8        0.         0.         0.1       ]\n",
      " [0.0625     0.         0.         0.0625     0.         0.\n",
      "  0.         0.8125     0.         0.0625    ]\n",
      " [0.04347826 0.         0.08695652 0.04347826 0.         0.04347826\n",
      "  0.04347826 0.04347826 0.65217391 0.04347826]\n",
      " [0.1        0.         0.05       0.         0.05       0.05\n",
      "  0.         0.05       0.05       0.65      ]]\n"
     ]
    },
    {
     "data": {
      "image/png": "[encoded data removed]",
      "text/plain": [
       "<Figure size 720x720 with 1 Axes>"
      ]
     },
     "metadata": {
      "needs_background": "light"
     },
     "output_type": "display_data"
    }
   ],
   "source": [
    "plt.figure(figsize=(10, 10))\n",
    "plt.matshow(cm_normalized,fignum=1)\n",
    "plt.xlabel('Predicted label')\n",
    "# Show all ticks and label them with their respective entries.\n",
    "plt.xticks(np.arange(cm_normalized.shape[1]), genres)\n",
    "plt.yticks(np.arange(cm_normalized.shape[0]), genres)\n",
    "\n",
    "# Label the squares.\n",
    "fmt = '.3f' \n",
    "thresh = cm_normalized.max() / 2.\n",
    "for i in range(cm_normalized.shape[0]):\n",
    "    for j in range(cm_normalized.shape[1]):\n",
    "        plt.text(j, i, format(cm_normalized[i, j], fmt),\n",
    "                ha=\"center\", va=\"center\",\n",
    "                color=\"blue\" if cm_normalized[i, j] > thresh else \"white\")\n",
    "plt.tight_layout()\n",
    "\n",
    "plt.ylabel('True label')\n",
    "plt.title('Normalized Confusion Matrix')\n",
    "print(cm_normalized)\n",
    "plt.savefig('normalized_cm.png')"
   ]
  },
  {
   "cell_type": "markdown",
   "metadata": {},
   "source": [
    "Adding the probabilities in the diagonals (corresponding to correct classification), and dividing by the number of genres (10), we get that the Large Layer Neural Network Model with Dropout is correctly predicting labels on the test data 72.17% of the time (0.7217 for average per-class classification accuracy)."
   ]
  },
  {
   "cell_type": "code",
   "execution_count": null,
   "metadata": {},
   "outputs": [],
   "source": []
  }
 ],
 "metadata": {
  "kernelspec": {
   "display_name": "Python 3",
   "language": "python",
   "name": "python3"
  },
  "language_info": {
   "codemirror_mode": {
    "name": "ipython",
    "version": 3
   },
   "file_extension": ".py",
   "mimetype": "text/x-python",
   "name": "python",
   "nbconvert_exporter": "python",
   "pygments_lexer": "ipython3",
   "version": "3.6.7"
  }
 },
 "nbformat": 4,
 "nbformat_minor": 2
}
