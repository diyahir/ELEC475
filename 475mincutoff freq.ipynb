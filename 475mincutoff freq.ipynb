{
 "cells": [
  {
   "cell_type": "code",
   "execution_count": null,
   "metadata": {},
   "outputs": [],
   "source": [
    "import librosa\n",
    "import numpy as np \n",
    "import zipfile\n",
    "import os\n",
    "\n",
    "maxilist = []\n",
    "with zipfile.ZipFile(\"new475mus.zip\", \"r\") as f:\n",
    "# Approximate maximum frequencies with roll_percent=0.85 (default)\n",
    "    for name in f.namelist():\n",
    "        #data = f.read(name)\n",
    "        y, sr = librosa.load(name)\n",
    "        # Approximate minimum frequencies with roll_percent=0.1\n",
    "        rolloff = librosa.feature.spectral_rolloff(y=y, sr=sr, roll_percent=0.1)\n",
    "        maxi = 0\n",
    "        for roll in rolloff:\n",
    "            for sing in roll:\n",
    "                if sing > maxi:\n",
    "                    maxi = sing\n",
    "            maxilist.append(maxi)\n",
    "print(maxilist)"
   ]
  },
  {
   "cell_type": "code",
   "execution_count": null,
   "metadata": {},
   "outputs": [],
   "source": [
    "import matplotlib.pyplot as plt\n",
    "%matplotlib inline\n",
    "y = [0]*len(minilist)\n",
    "plt.plot(minilist, y, 'o', color='black');\n",
    "plt.show()\n",
    "print (minilist)"
   ]
  }
 ],
 "metadata": {
  "kernelspec": {
   "display_name": "Python 3",
   "language": "python",
   "name": "python3"
  },
  "language_info": {
   "codemirror_mode": {
    "name": "ipython",
    "version": 3
   },
   "file_extension": ".py",
   "mimetype": "text/x-python",
   "name": "python",
   "nbconvert_exporter": "python",
   "pygments_lexer": "ipython3",
   "version": "3.7.0"
  }
 },
 "nbformat": 4,
 "nbformat_minor": 2
}
